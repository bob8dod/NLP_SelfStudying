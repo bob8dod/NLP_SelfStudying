{
  "nbformat": 4,
  "nbformat_minor": 0,
  "metadata": {
    "colab": {
      "name": "Korean_Preprocessing_Tool.ipynb",
      "provenance": [],
      "authorship_tag": "ABX9TyM1lm+NB50M+rsOSMO4u2Cr",
      "include_colab_link": true
    },
    "kernelspec": {
      "name": "python3",
      "display_name": "Python 3"
    },
    "language_info": {
      "name": "python"
    }
  },
  "cells": [
    {
      "cell_type": "markdown",
      "metadata": {
        "id": "view-in-github",
        "colab_type": "text"
      },
      "source": [
        "<a href=\"https://colab.research.google.com/github/bob8dod/NLP_SelfStudying/blob/main/Korean_Preprocessing_Tool.ipynb\" target=\"_parent\"><img src=\"https://colab.research.google.com/assets/colab-badge.svg\" alt=\"Open In Colab\"/></a>"
      ]
    },
    {
      "cell_type": "markdown",
      "metadata": {
        "id": "HHIou9D_0sYB"
      },
      "source": [
        "## Korean Preprocessing Tool"
      ]
    },
    {
      "cell_type": "markdown",
      "metadata": {
        "id": "jac0oRdi8L7A"
      },
      "source": [
        "## KSS(Korean Sentence Splitter)"
      ]
    },
    {
      "cell_type": "markdown",
      "metadata": {
        "id": "GjSirjLK8o5k"
      },
      "source": [
        "\n",
        "\n",
        "*   박상길님이 개발한 KSS(Korean Sentence Splitter)\n",
        "*   한국어에 대한 문장 토큰화 도구\n",
        "\n"
      ]
    },
    {
      "cell_type": "code",
      "metadata": {
        "id": "KwOZOR4m8cWP"
      },
      "source": [
        "! pip install kss\n",
        "! pip install emoji # 최근에 변경된 사항 적용"
      ],
      "execution_count": null,
      "outputs": []
    },
    {
      "cell_type": "code",
      "metadata": {
        "colab": {
          "base_uri": "https://localhost:8080/"
        },
        "id": "EoyndMG9o2H5",
        "outputId": "3f29dde4-79b6-4ab1-e145-dda40102f9ee"
      },
      "source": [
        "#한국어에 대한 문장 토큰화 도구, 박상길님이 개발한 KSS(Korean Sentence Splitter)\n",
        "import kss\n",
        "text = '딥 러닝 자연어 처리가 재미있기는 합니다. 그런데 문제는... 영어보다 한국어로 할 때 너무 어려워요. 농담아니에요. 이제 해보면 알걸요?'\n",
        "kss.split_sentences(text)"
      ],
      "execution_count": null,
      "outputs": [
        {
          "output_type": "execute_result",
          "data": {
            "text/plain": [
              "['딥 러닝 자연어 처리가 재미있기는 합니다.',\n",
              " '그런데 문제는... 영어보다 한국어로 할 때 너무 어려워요.',\n",
              " '농담아니에요.',\n",
              " '이제 해보면 알걸요?']"
            ]
          },
          "metadata": {
            "tags": []
          },
          "execution_count": 8
        }
      ]
    },
    {
      "cell_type": "markdown",
      "metadata": {
        "id": "5MU6wmPQ2W13"
      },
      "source": [
        "### PyKoSpacing\n",
        "\n",
        "\n",
        "\n",
        "\n",
        "\n"
      ]
    },
    {
      "cell_type": "markdown",
      "metadata": {
        "id": "B_0F1Y822sEf"
      },
      "source": [
        "*   전희원님이 개발한 PyKoSpacing\n",
        "*   한국어 띄어쓰기 패키지\n",
        "*   띄어쓰기가 되어있지 않은 문장을 띄어쓰기를 한 문장으로 변환"
      ]
    },
    {
      "cell_type": "code",
      "metadata": {
        "id": "zebznf9R3J-w"
      },
      "source": [
        "! pip install git+https://github.com/haven-jeon/PyKoSpacing.git"
      ],
      "execution_count": null,
      "outputs": []
    },
    {
      "cell_type": "code",
      "metadata": {
        "colab": {
          "base_uri": "https://localhost:8080/"
        },
        "id": "uFiqYsi62wWs",
        "outputId": "d4a3291c-0595-4314-df5d-3ef165696a80"
      },
      "source": [
        "from pykospacing import Spacing\n",
        "spacing = Spacing()\n",
        "sent  = '신랑이좋아할지모르겠네요강하지않은향기라너무좋네요'\n",
        "kospacing_sent = spacing(sent)\n",
        "print('[변환 전] :', sent)\n",
        "print('[변환 후] :', kospacing_sent)"
      ],
      "execution_count": null,
      "outputs": [
        {
          "output_type": "stream",
          "text": [
            "[변환 전] : 신랑이좋아할지모르겠네요강하지않은향기라너무좋네요\n",
            "[변환 후] : 신랑이 좋아할지 모르겠네요 강하지 않은 향기라 너무 좋네요\n"
          ],
          "name": "stdout"
        }
      ]
    },
    {
      "cell_type": "markdown",
      "metadata": {
        "id": "63bFCHii56zR"
      },
      "source": [
        "### Py-Hanspell"
      ]
    },
    {
      "cell_type": "markdown",
      "metadata": {
        "id": "vzGRHYUp5-u4"
      },
      "source": [
        "\n",
        "\n",
        "*   네이버 한글 맞춤법 검사기를 바탕으로 만들어진 패키지\n",
        "*   띄어쓰기도 지원하지만 정확도 살짝 아쉽\n",
        "\n",
        "\n",
        "\n",
        "\n"
      ]
    },
    {
      "cell_type": "code",
      "metadata": {
        "id": "AKbkRkMX6KwA"
      },
      "source": [
        "!pip install git+https://github.com/ssut/py-hanspell.git"
      ],
      "execution_count": null,
      "outputs": []
    },
    {
      "cell_type": "code",
      "metadata": {
        "colab": {
          "base_uri": "https://localhost:8080/"
        },
        "id": "OzZ6fS9q6INh",
        "outputId": "d932d385-c35e-4405-e896-6715beb8bc8c"
      },
      "source": [
        "from hanspell import spell_checker\n",
        "sent = \"이걸써야됄지말지몰르겠내요냄새도지독하고별로강하지도 안고 \"\n",
        "spelled_sent = spell_checker.check(sent)\n",
        "hanspell_sent = spelled_sent.checked\n",
        "print('[변환 전] :', sent)\n",
        "print('[변환 후] :', hanspell_sent)"
      ],
      "execution_count": null,
      "outputs": [
        {
          "output_type": "stream",
          "text": [
            "[변환 전] : 이걸써야됄지말지몰르겠내요냄새도지독하고별로강하지도 안고 \n",
            "[변환 후] : 이걸 써야 될지 말지 모르겠네요 냄새도 지독하고 별로 강하지도 안고 \n"
          ],
          "name": "stdout"
        }
      ]
    }
  ]
}