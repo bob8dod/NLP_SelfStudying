{
  "nbformat": 4,
  "nbformat_minor": 0,
  "metadata": {
    "colab": {
      "name": "Keybert.ipynb",
      "provenance": [],
      "collapsed_sections": [],
      "authorship_tag": "ABX9TyPWU6XIJ5Q78e/tWLhIoJy8",
      "include_colab_link": true
    },
    "kernelspec": {
      "name": "python3",
      "display_name": "Python 3"
    },
    "language_info": {
      "name": "python"
    }
  },
  "cells": [
    {
      "cell_type": "markdown",
      "metadata": {
        "id": "view-in-github",
        "colab_type": "text"
      },
      "source": [
        "<a href=\"https://colab.research.google.com/github/bob8dod/NLP_SelfStudying/blob/main/Keybert.ipynb\" target=\"_parent\"><img src=\"https://colab.research.google.com/assets/colab-badge.svg\" alt=\"Open In Colab\"/></a>"
      ]
    },
    {
      "cell_type": "code",
      "metadata": {
        "colab": {
          "base_uri": "https://localhost:8080/",
          "height": 1000
        },
        "id": "kJq2KE6n5TIJ",
        "outputId": "206b3980-8901-41ab-be25-dd09392555b8"
      },
      "source": [
        "! pip install git+https://github.com/haven-jeon/PyKoSpacing.git"
      ],
      "execution_count": null,
      "outputs": [
        {
          "output_type": "stream",
          "text": [
            "Collecting git+https://github.com/haven-jeon/PyKoSpacing.git\n",
            "  Cloning https://github.com/haven-jeon/PyKoSpacing.git to /tmp/pip-req-build-475bfzs4\n",
            "  Running command git clone -q https://github.com/haven-jeon/PyKoSpacing.git /tmp/pip-req-build-475bfzs4\n",
            "Requirement already satisfied: tensorflow==2.5.0 in /usr/local/lib/python3.7/dist-packages (from pykospacing==0.5) (2.5.0)\n",
            "Requirement already satisfied: h5py==3.1.0 in /usr/local/lib/python3.7/dist-packages (from pykospacing==0.5) (3.1.0)\n",
            "Collecting argparse>=1.4.0\n",
            "  Downloading argparse-1.4.0-py2.py3-none-any.whl (23 kB)\n",
            "Requirement already satisfied: cached-property in /usr/local/lib/python3.7/dist-packages (from h5py==3.1.0->pykospacing==0.5) (1.5.2)\n",
            "Requirement already satisfied: numpy>=1.14.5 in /usr/local/lib/python3.7/dist-packages (from h5py==3.1.0->pykospacing==0.5) (1.19.5)\n",
            "Requirement already satisfied: absl-py~=0.10 in /usr/local/lib/python3.7/dist-packages (from tensorflow==2.5.0->pykospacing==0.5) (0.12.0)\n",
            "Requirement already satisfied: protobuf>=3.9.2 in /usr/local/lib/python3.7/dist-packages (from tensorflow==2.5.0->pykospacing==0.5) (3.17.3)\n",
            "Requirement already satisfied: tensorboard~=2.5 in /usr/local/lib/python3.7/dist-packages (from tensorflow==2.5.0->pykospacing==0.5) (2.5.0)\n",
            "Requirement already satisfied: wrapt~=1.12.1 in /usr/local/lib/python3.7/dist-packages (from tensorflow==2.5.0->pykospacing==0.5) (1.12.1)\n",
            "Requirement already satisfied: keras-preprocessing~=1.1.2 in /usr/local/lib/python3.7/dist-packages (from tensorflow==2.5.0->pykospacing==0.5) (1.1.2)\n",
            "Requirement already satisfied: termcolor~=1.1.0 in /usr/local/lib/python3.7/dist-packages (from tensorflow==2.5.0->pykospacing==0.5) (1.1.0)\n",
            "Requirement already satisfied: wheel~=0.35 in /usr/local/lib/python3.7/dist-packages (from tensorflow==2.5.0->pykospacing==0.5) (0.36.2)\n",
            "Requirement already satisfied: flatbuffers~=1.12.0 in /usr/local/lib/python3.7/dist-packages (from tensorflow==2.5.0->pykospacing==0.5) (1.12)\n",
            "Requirement already satisfied: tensorflow-estimator<2.6.0,>=2.5.0rc0 in /usr/local/lib/python3.7/dist-packages (from tensorflow==2.5.0->pykospacing==0.5) (2.5.0)\n",
            "Requirement already satisfied: google-pasta~=0.2 in /usr/local/lib/python3.7/dist-packages (from tensorflow==2.5.0->pykospacing==0.5) (0.2.0)\n",
            "Requirement already satisfied: grpcio~=1.34.0 in /usr/local/lib/python3.7/dist-packages (from tensorflow==2.5.0->pykospacing==0.5) (1.34.1)\n",
            "Requirement already satisfied: astunparse~=1.6.3 in /usr/local/lib/python3.7/dist-packages (from tensorflow==2.5.0->pykospacing==0.5) (1.6.3)\n",
            "Requirement already satisfied: typing-extensions~=3.7.4 in /usr/local/lib/python3.7/dist-packages (from tensorflow==2.5.0->pykospacing==0.5) (3.7.4.3)\n",
            "Requirement already satisfied: keras-nightly~=2.5.0.dev in /usr/local/lib/python3.7/dist-packages (from tensorflow==2.5.0->pykospacing==0.5) (2.5.0.dev2021032900)\n",
            "Requirement already satisfied: six~=1.15.0 in /usr/local/lib/python3.7/dist-packages (from tensorflow==2.5.0->pykospacing==0.5) (1.15.0)\n",
            "Requirement already satisfied: gast==0.4.0 in /usr/local/lib/python3.7/dist-packages (from tensorflow==2.5.0->pykospacing==0.5) (0.4.0)\n",
            "Requirement already satisfied: opt-einsum~=3.3.0 in /usr/local/lib/python3.7/dist-packages (from tensorflow==2.5.0->pykospacing==0.5) (3.3.0)\n",
            "Requirement already satisfied: google-auth<2,>=1.6.3 in /usr/local/lib/python3.7/dist-packages (from tensorboard~=2.5->tensorflow==2.5.0->pykospacing==0.5) (1.32.1)\n",
            "Requirement already satisfied: google-auth-oauthlib<0.5,>=0.4.1 in /usr/local/lib/python3.7/dist-packages (from tensorboard~=2.5->tensorflow==2.5.0->pykospacing==0.5) (0.4.4)\n",
            "Requirement already satisfied: requests<3,>=2.21.0 in /usr/local/lib/python3.7/dist-packages (from tensorboard~=2.5->tensorflow==2.5.0->pykospacing==0.5) (2.23.0)\n",
            "Requirement already satisfied: tensorboard-data-server<0.7.0,>=0.6.0 in /usr/local/lib/python3.7/dist-packages (from tensorboard~=2.5->tensorflow==2.5.0->pykospacing==0.5) (0.6.1)\n",
            "Requirement already satisfied: tensorboard-plugin-wit>=1.6.0 in /usr/local/lib/python3.7/dist-packages (from tensorboard~=2.5->tensorflow==2.5.0->pykospacing==0.5) (1.8.0)\n",
            "Requirement already satisfied: werkzeug>=0.11.15 in /usr/local/lib/python3.7/dist-packages (from tensorboard~=2.5->tensorflow==2.5.0->pykospacing==0.5) (1.0.1)\n",
            "Requirement already satisfied: markdown>=2.6.8 in /usr/local/lib/python3.7/dist-packages (from tensorboard~=2.5->tensorflow==2.5.0->pykospacing==0.5) (3.3.4)\n",
            "Requirement already satisfied: setuptools>=41.0.0 in /usr/local/lib/python3.7/dist-packages (from tensorboard~=2.5->tensorflow==2.5.0->pykospacing==0.5) (57.2.0)\n",
            "Requirement already satisfied: cachetools<5.0,>=2.0.0 in /usr/local/lib/python3.7/dist-packages (from google-auth<2,>=1.6.3->tensorboard~=2.5->tensorflow==2.5.0->pykospacing==0.5) (4.2.2)\n",
            "Requirement already satisfied: rsa<5,>=3.1.4 in /usr/local/lib/python3.7/dist-packages (from google-auth<2,>=1.6.3->tensorboard~=2.5->tensorflow==2.5.0->pykospacing==0.5) (4.7.2)\n",
            "Requirement already satisfied: pyasn1-modules>=0.2.1 in /usr/local/lib/python3.7/dist-packages (from google-auth<2,>=1.6.3->tensorboard~=2.5->tensorflow==2.5.0->pykospacing==0.5) (0.2.8)\n",
            "Requirement already satisfied: requests-oauthlib>=0.7.0 in /usr/local/lib/python3.7/dist-packages (from google-auth-oauthlib<0.5,>=0.4.1->tensorboard~=2.5->tensorflow==2.5.0->pykospacing==0.5) (1.3.0)\n",
            "Requirement already satisfied: importlib-metadata in /usr/local/lib/python3.7/dist-packages (from markdown>=2.6.8->tensorboard~=2.5->tensorflow==2.5.0->pykospacing==0.5) (4.6.1)\n",
            "Requirement already satisfied: pyasn1<0.5.0,>=0.4.6 in /usr/local/lib/python3.7/dist-packages (from pyasn1-modules>=0.2.1->google-auth<2,>=1.6.3->tensorboard~=2.5->tensorflow==2.5.0->pykospacing==0.5) (0.4.8)\n",
            "Requirement already satisfied: idna<3,>=2.5 in /usr/local/lib/python3.7/dist-packages (from requests<3,>=2.21.0->tensorboard~=2.5->tensorflow==2.5.0->pykospacing==0.5) (2.10)\n",
            "Requirement already satisfied: certifi>=2017.4.17 in /usr/local/lib/python3.7/dist-packages (from requests<3,>=2.21.0->tensorboard~=2.5->tensorflow==2.5.0->pykospacing==0.5) (2021.5.30)\n",
            "Requirement already satisfied: chardet<4,>=3.0.2 in /usr/local/lib/python3.7/dist-packages (from requests<3,>=2.21.0->tensorboard~=2.5->tensorflow==2.5.0->pykospacing==0.5) (3.0.4)\n",
            "Requirement already satisfied: urllib3!=1.25.0,!=1.25.1,<1.26,>=1.21.1 in /usr/local/lib/python3.7/dist-packages (from requests<3,>=2.21.0->tensorboard~=2.5->tensorflow==2.5.0->pykospacing==0.5) (1.24.3)\n",
            "Requirement already satisfied: oauthlib>=3.0.0 in /usr/local/lib/python3.7/dist-packages (from requests-oauthlib>=0.7.0->google-auth-oauthlib<0.5,>=0.4.1->tensorboard~=2.5->tensorflow==2.5.0->pykospacing==0.5) (3.1.1)\n",
            "Requirement already satisfied: zipp>=0.5 in /usr/local/lib/python3.7/dist-packages (from importlib-metadata->markdown>=2.6.8->tensorboard~=2.5->tensorflow==2.5.0->pykospacing==0.5) (3.5.0)\n",
            "Building wheels for collected packages: pykospacing\n",
            "  Building wheel for pykospacing (setup.py) ... \u001b[?25l\u001b[?25hdone\n",
            "  Created wheel for pykospacing: filename=pykospacing-0.5-py3-none-any.whl size=2255828 sha256=061a04f6db0e2186a036366d5b84559eedcea0e4046fadcd8bbbf1b06cffefa8\n",
            "  Stored in directory: /tmp/pip-ephem-wheel-cache-6jv3oy7r/wheels/9b/93/81/a2a7dc8c66ede5bf30634d20635f32b95eac7ca2ea8844058b\n",
            "Successfully built pykospacing\n",
            "Installing collected packages: argparse, pykospacing\n",
            "Successfully installed argparse-1.4.0 pykospacing-0.5\n"
          ],
          "name": "stdout"
        },
        {
          "output_type": "display_data",
          "data": {
            "application/vnd.colab-display-data+json": {
              "pip_warning": {
                "packages": [
                  "argparse"
                ]
              }
            }
          },
          "metadata": {
            "tags": []
          }
        }
      ]
    },
    {
      "cell_type": "code",
      "metadata": {
        "colab": {
          "base_uri": "https://localhost:8080/"
        },
        "id": "9b1yixYt2ur6",
        "outputId": "a1b27d26-1d03-4f08-ce8b-f9861de5a3c3"
      },
      "source": [
        "! pip install keybert"
      ],
      "execution_count": null,
      "outputs": [
        {
          "output_type": "stream",
          "text": [
            "Collecting keybert\n",
            "  Downloading keybert-0.4.0.tar.gz (18 kB)\n",
            "Collecting sentence-transformers>=0.3.8\n",
            "  Downloading sentence-transformers-2.0.0.tar.gz (85 kB)\n",
            "\u001b[K     |████████████████████████████████| 85 kB 2.4 MB/s \n",
            "\u001b[?25hRequirement already satisfied: scikit-learn>=0.22.2 in /usr/local/lib/python3.7/dist-packages (from keybert) (0.22.2.post1)\n",
            "Requirement already satisfied: numpy>=1.18.5 in /usr/local/lib/python3.7/dist-packages (from keybert) (1.19.5)\n",
            "Collecting rich>=10.4.0\n",
            "  Downloading rich-10.7.0-py3-none-any.whl (209 kB)\n",
            "\u001b[K     |████████████████████████████████| 209 kB 28.9 MB/s \n",
            "\u001b[?25hCollecting colorama<0.5.0,>=0.4.0\n",
            "  Downloading colorama-0.4.4-py2.py3-none-any.whl (16 kB)\n",
            "Requirement already satisfied: pygments<3.0.0,>=2.6.0 in /usr/local/lib/python3.7/dist-packages (from rich>=10.4.0->keybert) (2.6.1)\n",
            "Requirement already satisfied: typing-extensions<4.0.0,>=3.7.4 in /usr/local/lib/python3.7/dist-packages (from rich>=10.4.0->keybert) (3.7.4.3)\n",
            "Collecting commonmark<0.10.0,>=0.9.0\n",
            "  Downloading commonmark-0.9.1-py2.py3-none-any.whl (51 kB)\n",
            "\u001b[K     |████████████████████████████████| 51 kB 5.5 MB/s \n",
            "\u001b[?25hRequirement already satisfied: joblib>=0.11 in /usr/local/lib/python3.7/dist-packages (from scikit-learn>=0.22.2->keybert) (1.0.1)\n",
            "Requirement already satisfied: scipy>=0.17.0 in /usr/local/lib/python3.7/dist-packages (from scikit-learn>=0.22.2->keybert) (1.4.1)\n",
            "Collecting transformers<5.0.0,>=4.6.0\n",
            "  Downloading transformers-4.9.1-py3-none-any.whl (2.6 MB)\n",
            "\u001b[K     |████████████████████████████████| 2.6 MB 38.2 MB/s \n",
            "\u001b[?25hRequirement already satisfied: tqdm in /usr/local/lib/python3.7/dist-packages (from sentence-transformers>=0.3.8->keybert) (4.41.1)\n",
            "Requirement already satisfied: torch>=1.6.0 in /usr/local/lib/python3.7/dist-packages (from sentence-transformers>=0.3.8->keybert) (1.9.0+cu102)\n",
            "Requirement already satisfied: torchvision in /usr/local/lib/python3.7/dist-packages (from sentence-transformers>=0.3.8->keybert) (0.10.0+cu102)\n",
            "Requirement already satisfied: nltk in /usr/local/lib/python3.7/dist-packages (from sentence-transformers>=0.3.8->keybert) (3.2.5)\n",
            "Collecting sentencepiece\n",
            "  Downloading sentencepiece-0.1.96-cp37-cp37m-manylinux_2_17_x86_64.manylinux2014_x86_64.whl (1.2 MB)\n",
            "\u001b[K     |████████████████████████████████| 1.2 MB 41.6 MB/s \n",
            "\u001b[?25hCollecting huggingface-hub\n",
            "  Downloading huggingface_hub-0.0.15-py3-none-any.whl (43 kB)\n",
            "\u001b[K     |████████████████████████████████| 43 kB 1.7 MB/s \n",
            "\u001b[?25hRequirement already satisfied: regex!=2019.12.17 in /usr/local/lib/python3.7/dist-packages (from transformers<5.0.0,>=4.6.0->sentence-transformers>=0.3.8->keybert) (2019.12.20)\n",
            "Requirement already satisfied: packaging in /usr/local/lib/python3.7/dist-packages (from transformers<5.0.0,>=4.6.0->sentence-transformers>=0.3.8->keybert) (21.0)\n",
            "Collecting tokenizers<0.11,>=0.10.1\n",
            "  Downloading tokenizers-0.10.3-cp37-cp37m-manylinux_2_5_x86_64.manylinux1_x86_64.manylinux_2_12_x86_64.manylinux2010_x86_64.whl (3.3 MB)\n",
            "\u001b[K     |████████████████████████████████| 3.3 MB 44.1 MB/s \n",
            "\u001b[?25hRequirement already satisfied: requests in /usr/local/lib/python3.7/dist-packages (from transformers<5.0.0,>=4.6.0->sentence-transformers>=0.3.8->keybert) (2.23.0)\n",
            "Collecting huggingface-hub\n",
            "  Downloading huggingface_hub-0.0.12-py3-none-any.whl (37 kB)\n",
            "Requirement already satisfied: importlib-metadata in /usr/local/lib/python3.7/dist-packages (from transformers<5.0.0,>=4.6.0->sentence-transformers>=0.3.8->keybert) (4.6.1)\n",
            "Requirement already satisfied: filelock in /usr/local/lib/python3.7/dist-packages (from transformers<5.0.0,>=4.6.0->sentence-transformers>=0.3.8->keybert) (3.0.12)\n",
            "Collecting pyyaml>=5.1\n",
            "  Downloading PyYAML-5.4.1-cp37-cp37m-manylinux1_x86_64.whl (636 kB)\n",
            "\u001b[K     |████████████████████████████████| 636 kB 55.1 MB/s \n",
            "\u001b[?25hCollecting sacremoses\n",
            "  Downloading sacremoses-0.0.45-py3-none-any.whl (895 kB)\n",
            "\u001b[K     |████████████████████████████████| 895 kB 51.9 MB/s \n",
            "\u001b[?25hRequirement already satisfied: pyparsing>=2.0.2 in /usr/local/lib/python3.7/dist-packages (from packaging->transformers<5.0.0,>=4.6.0->sentence-transformers>=0.3.8->keybert) (2.4.7)\n",
            "Requirement already satisfied: zipp>=0.5 in /usr/local/lib/python3.7/dist-packages (from importlib-metadata->transformers<5.0.0,>=4.6.0->sentence-transformers>=0.3.8->keybert) (3.5.0)\n",
            "Requirement already satisfied: six in /usr/local/lib/python3.7/dist-packages (from nltk->sentence-transformers>=0.3.8->keybert) (1.15.0)\n",
            "Requirement already satisfied: urllib3!=1.25.0,!=1.25.1,<1.26,>=1.21.1 in /usr/local/lib/python3.7/dist-packages (from requests->transformers<5.0.0,>=4.6.0->sentence-transformers>=0.3.8->keybert) (1.24.3)\n",
            "Requirement already satisfied: idna<3,>=2.5 in /usr/local/lib/python3.7/dist-packages (from requests->transformers<5.0.0,>=4.6.0->sentence-transformers>=0.3.8->keybert) (2.10)\n",
            "Requirement already satisfied: certifi>=2017.4.17 in /usr/local/lib/python3.7/dist-packages (from requests->transformers<5.0.0,>=4.6.0->sentence-transformers>=0.3.8->keybert) (2021.5.30)\n",
            "Requirement already satisfied: chardet<4,>=3.0.2 in /usr/local/lib/python3.7/dist-packages (from requests->transformers<5.0.0,>=4.6.0->sentence-transformers>=0.3.8->keybert) (3.0.4)\n",
            "Requirement already satisfied: click in /usr/local/lib/python3.7/dist-packages (from sacremoses->transformers<5.0.0,>=4.6.0->sentence-transformers>=0.3.8->keybert) (7.1.2)\n",
            "Requirement already satisfied: pillow>=5.3.0 in /usr/local/lib/python3.7/dist-packages (from torchvision->sentence-transformers>=0.3.8->keybert) (7.1.2)\n",
            "Building wheels for collected packages: keybert, sentence-transformers\n",
            "  Building wheel for keybert (setup.py) ... \u001b[?25l\u001b[?25hdone\n",
            "  Created wheel for keybert: filename=keybert-0.4.0-py3-none-any.whl size=20358 sha256=855f655e23734a6cfcb6baae4f5617cd81cad8c1d1682acfcd30793d97df7ecf\n",
            "  Stored in directory: /root/.cache/pip/wheels/fe/e1/7f/8ee72e851e92320fba5c68d9e6e28d227671876429bc80f420\n",
            "  Building wheel for sentence-transformers (setup.py) ... \u001b[?25l\u001b[?25hdone\n",
            "  Created wheel for sentence-transformers: filename=sentence_transformers-2.0.0-py3-none-any.whl size=126709 sha256=87897450d7dc3da265ad23dca37f0b6dbcc09f7348eceadf7e6145c328920d2a\n",
            "  Stored in directory: /root/.cache/pip/wheels/d1/c1/0f/faafd427f705c4b012274ba60d9a91d75830306811e1355293\n",
            "Successfully built keybert sentence-transformers\n",
            "Installing collected packages: tokenizers, sacremoses, pyyaml, huggingface-hub, transformers, sentencepiece, commonmark, colorama, sentence-transformers, rich, keybert\n",
            "  Attempting uninstall: pyyaml\n",
            "    Found existing installation: PyYAML 3.13\n",
            "    Uninstalling PyYAML-3.13:\n",
            "      Successfully uninstalled PyYAML-3.13\n",
            "Successfully installed colorama-0.4.4 commonmark-0.9.1 huggingface-hub-0.0.12 keybert-0.4.0 pyyaml-5.4.1 rich-10.7.0 sacremoses-0.0.45 sentence-transformers-2.0.0 sentencepiece-0.1.96 tokenizers-0.10.3 transformers-4.9.1\n"
          ],
          "name": "stdout"
        }
      ]
    },
    {
      "cell_type": "code",
      "metadata": {
        "id": "FOWpIMk_2wh4"
      },
      "source": [
        " from keybert import KeyBERT\n",
        " doc=\"\"\"\n",
        "29일 코로나19 신규 확진자수가 전날보다 238명 늘어난 1046명을 기록했다. 1132명을 기록한 지난 26일 이후 사흘만에 다시 1000명대로 들어섰다. 집단감염이 발생한 서울 동부구치소에서 233명의 추가 확진자가 나온 영향이 컸다.\n",
        "\n",
        "전날 사망자는 40명으로, 사망자가 국내에서 처음으로 발생한 지난 2월 20일 이후 가장 많은 사망자가 발생했다. 누적 사망자수는 859명이다.\n",
        "\n",
        "‘사회적 거리두기’ 강화, ‘연말연시 특별방역대책’ 시행 등 각종 방역조치 속에 성탄절 연휴를 보냈지만, 확실한 감소세나 뚜렷한 반전이 나타나지 않고 있다. 엎친 데 덮친 격으로 영국에서 유행 중인 ‘변이 바이러스’까지 국내에 유입된 것으로 확인돼 방역당국에 비상이 걸린 상태다.\n",
        "\n",
        "\n",
        "28일 오후 광주 북구보건소에 마련된 선별진료소에서 의료진이 신종 코로나바이러스 감염증(코로나19) 확산 방지를 위해 검사 대상자들의 검체를 채취하고 있다. 최근 광주 일부 요양원에서 코로나19 확진자가 다수 발생해 방역 당국이 긴장하고 있다. /연합뉴스\n",
        "이달 들어 보름간 신규 확진자는 880명→1078명→1014명→1062명→1053명→1097명→926명→869명→1092명→985명→1241명→1132명→970명→808명→1046명 등의 흐름을 보이고 있다. 100명 이상 신규 확진자는 지난달 8일부터 이날까지 52일째다.\n",
        "\n",
        "최근 1주일(12월 23∼29일)간 신규 확진자가 하루 평균 약 1039명꼴로 발생한 가운데 거리두기 단계 조정의 핵심 지표인 지역발생 확진자는 일평균 1014명으로 집계돼 다시 1000명 선을 넘어섰다.\n",
        "\n",
        "이날 신규 확진자의 감염경로를 보면 지역발생이 1030명, 해외유입이 16명이다. 지역발생 확진자 역시 26일 이후 사흘 만에 다시 1000명 선을 넘었다.\n",
        "\n",
        "지역별로 보면 서울 519명, 경기 251명, 인천 32명 등 수도권이 802명, 비수도권에서는 대전 30명, 대구 29명, 경북 28명, 충남 27명, 충북 22명, 강원 21명, 부산 17명, 경남 16명, 광주 15명, 전북 7명, 제주 5명, 세종·전남 각 4명, 울산 3명이다. 비수도권 확진자는 총 228명이다.\n",
        "\n",
        "주요 감염 사례로는 서울 동부구치소에서 하루새 200여명이 추가돼 누적 확진자가 748명으로 늘었다. 또 △서울 구로구 요양병원 및 요양원(누적 170명) △충북 괴산군·음성군·진천군 3개 병원(220명) △충남 천안시 식품점 및 식당(91명) △대구 달성군 교회(138명) 등 곳곳에서 감염 규모가 커지는 양상이다.\n",
        "\n",
        "해외유입 확진자는 전날보다 5명 줄었다. 확진자 가운데 5명은 공항이나 항만 입국 검역 과정에서 확인됐다. 나머지 11명은 경기(6명), 서울(3명), 울산·전북(각 2명) 지역 거주지나 임시생활시설에서 자가격리하던 중 양성 판정을 받았다.\n",
        "\n",
        "이들의 유입 추정 국가는 미국과 인도 각 3명, 미얀마·리투아니아 각 2명, 필리핀·우즈베키스탄·러시아·시리아·아랍에미리트·독일 각 1명이다. 확진자 가운데 내국인이 6명, 외국인이 10명이다.\n",
        "\n",
        "29일 기준 누적 확진자는 5만8725명으로 집계됐다. 이날까지 격리 해제된 확진자는 1천435명 늘\n",
        "\n",
        "어 누적 4만703명이 됐다. 현재 격리치료 중인 환자는 1만7163명으로, 하루 전보다 429명 감소했다.\n",
        "\n",
        "전날 하루 검사 건수는 5만9874건으로, 직전일 3만1895\n",
        "건보다 2만7979건 많다. 검사건수 대비 확진자수를 계산한 양성률은 1.75%(5만9874명 중 1046명)였다. 누적 기준 양성률은 1.43%(409만8181명 중 5만8725명)였다.\n",
        "\"\"\"\n",
        "\n",
        "model = KeyBERT('distilbert-base-nli-mean-tokens')\n",
        "keywords = model.extract_keywords(doc,keyphrase_ngram_range=(1,1),stop_words=None)"
      ],
      "execution_count": null,
      "outputs": []
    },
    {
      "cell_type": "code",
      "metadata": {
        "colab": {
          "base_uri": "https://localhost:8080/"
        },
        "id": "4DLQrm3C27Ux",
        "outputId": "cea0f8c2-3778-4163-cfc7-059193039343"
      },
      "source": [
        "keywords"
      ],
      "execution_count": null,
      "outputs": [
        {
          "output_type": "execute_result",
          "data": {
            "text/plain": [
              "[('비수도권에서는', 0.8001),\n",
              " ('코로나바이러스', 0.7923),\n",
              " ('1만7163명으로', 0.7882),\n",
              " ('5만8725명으로', 0.7816),\n",
              " ('선별진료소에서', 0.7763)]"
            ]
          },
          "metadata": {
            "tags": []
          },
          "execution_count": 5
        }
      ]
    },
    {
      "cell_type": "code",
      "metadata": {
        "colab": {
          "base_uri": "https://localhost:8080/",
          "height": 274
        },
        "id": "0hTKBshk3RIC",
        "outputId": "3b7931f2-8d86-4f3d-8849-8fd131ba538a"
      },
      "source": [
        "import re\n",
        "doc = '''barn**** ,가격대비 괜찮네요 착한가격 빠른배송 만족 합니다,1\n",
        "q300***** ,원래 쓰던거라 상큼하니 가볍고 좋앙,1\n",
        "ssad**** ,가성비갑강추합니다,1\n",
        "9542************** ,저렴하게 굿구매 감사,1\n",
        "roqk***** ,너무좋아요 가격도싸게사고 두개나득템ㅠ 냄새진짜취저에여ㅠㅠ,1\n",
        "evey**** ,향 너무 마음에 들엉ㅎ 여성여성하네요,1\n",
        "nayo******** ,포장 잘해주셨어요,1\n",
        "aos1*** ,만족이에요 정말저렴하게 잘샀어요,1\n",
        "rose**** ,저렴하게 잘 사서 기분이 좋네요,1\n",
        "dnfq*** ,포장이 다소 아쉽지만 잘 쓸께요,10\n",
        "ljim** ,착한 가격에 잘 구입해서 좋아요,1\n",
        "kong**** ,맘에 드는 상품 싸게 구입했어요,1\n",
        "audg****** ,싸게 잘구매해서 좋아요굿자주 세일했으면좋겠어요,1\n",
        "huu3*** ,원했던 향기가 아니네향이 넘 센것같아요,0\n",
        "tdus** ,좋으네요배송도빠르궁,1\n",
        "13br**** ,좋아요  그런데 향이 예전 남성스킨 냄새가 나요,10\n",
        "nmj0*** ,저렴한 가격에 구매했어요 향도 정말 좋네요,1\n",
        "tngh*** ,향 너므 좋아요,1\n",
        "mhc1** ,저렴하게 구매 해서 좋았어요 다음에 또 구매 할 생각입니다 ,1\n",
        "kbok*** ,완전 좋네요 ㅎㅎ 다음에 또 구매할게요,1\n",
        "kyun****** ,향이 조금 빨리 날아가는 듯 해요,0\n",
        "y020*** ,가지고 싶은 향수를 구매해서 넘 좋아요,1\n",
        "shj2*** ,원래 좋아한던 향이라 구매했어요,1\n",
        "ttrt** ,저렴하게 구매해서 그런지 좋네요,1\n",
        "ssw8*** ,늘 쓰던건데 저렴하게 구매했네요,1\n",
        "kung**** ,배송도 빠르고 두번째 구매입니다,1\n",
        "cher****** ,ㅎㅎㅎ 실패는 안하는데 향도 괜찮은데,0\n",
        "navy**** ,좋아요 좋아요 향고 좋고 포장도 잘 되어져서 왔어요,1\n",
        "yshu*** ,늘쓰던거라 향도좋고 오래가네요,1\n",
        "rbf1*** ,좋아요 저렴한가격에 만족합니당,1\n",
        "agri** ,좋아요 정말 강추합니다 감사합니다,1\n",
        "tom0** ,지미추는 항상 쓰는 향수 넘 좋음,1\n",
        "doub**** ,향은 좋은데 너무 빨리 날아가요,0\n",
        "jej2** ,향도 좋구 저렴한 가격에 잘 구매했어용,1\n",
        "jwj0** ,저렴하게 잘 산거 같아요향이 넘 좋네요,1\n",
        "turb*** ,쓰던건데 엄청싸네요 정품 맞겠죠,10\n",
        "dlsp**** ,향도 마음에 들고 저렴하게 잘 산것 같아요 ,1\n",
        "suns********* ,생일선물로 굿,1 '''\n",
        "text = re.sub('[^가-힣]+', ' ', doc)\n",
        "text"
      ],
      "execution_count": null,
      "outputs": [
        {
          "output_type": "execute_result",
          "data": {
            "application/vnd.google.colaboratory.intrinsic+json": {
              "type": "string"
            },
            "text/plain": [
              "' 가격대비 괜찮네요 착한가격 빠른배송 만족 합니다 원래 쓰던거라 상큼하니 가볍고 좋앙 가성비갑강추합니다 저렴하게 굿구매 감사 너무좋아요 가격도싸게사고 두개나득템 냄새진짜취저에여 향 너무 마음에 들엉 여성여성하네요 포장 잘해주셨어요 만족이에요 정말저렴하게 잘샀어요 저렴하게 잘 사서 기분이 좋네요 포장이 다소 아쉽지만 잘 쓸께요 착한 가격에 잘 구입해서 좋아요 맘에 드는 상품 싸게 구입했어요 싸게 잘구매해서 좋아요굿자주 세일했으면좋겠어요 원했던 향기가 아니네향이 넘 센것같아요 좋으네요배송도빠르궁 좋아요 그런데 향이 예전 남성스킨 냄새가 나요 저렴한 가격에 구매했어요 향도 정말 좋네요 향 너므 좋아요 저렴하게 구매 해서 좋았어요 다음에 또 구매 할 생각입니다 완전 좋네요 다음에 또 구매할게요 향이 조금 빨리 날아가는 듯 해요 가지고 싶은 향수를 구매해서 넘 좋아요 원래 좋아한던 향이라 구매했어요 저렴하게 구매해서 그런지 좋네요 늘 쓰던건데 저렴하게 구매했네요 배송도 빠르고 두번째 구매입니다 실패는 안하는데 향도 괜찮은데 좋아요 좋아요 향고 좋고 포장도 잘 되어져서 왔어요 늘쓰던거라 향도좋고 오래가네요 좋아요 저렴한가격에 만족합니당 좋아요 정말 강추합니다 감사합니다 지미추는 항상 쓰는 향수 넘 좋음 향은 좋은데 너무 빨리 날아가요 향도 좋구 저렴한 가격에 잘 구매했어용 저렴하게 잘 산거 같아요향이 넘 좋네요 쓰던건데 엄청싸네요 정품 맞겠죠 향도 마음에 들고 저렴하게 잘 산것 같아요 생일선물로 굿 '"
            ]
          },
          "metadata": {
            "tags": []
          },
          "execution_count": 6
        }
      ]
    },
    {
      "cell_type": "code",
      "metadata": {
        "id": "-i2HJzt15Wh6"
      },
      "source": [
        "from pykospacing import Spacing\n",
        "spacing = Spacing()\n",
        "text = spacing(text)"
      ],
      "execution_count": null,
      "outputs": []
    },
    {
      "cell_type": "code",
      "metadata": {
        "id": "BGb_foGh5omc",
        "colab": {
          "base_uri": "https://localhost:8080/",
          "height": 274
        },
        "outputId": "8923c3ee-a9c9-41fc-f982-a51cf50c89b0"
      },
      "source": [
        "text"
      ],
      "execution_count": null,
      "outputs": [
        {
          "output_type": "execute_result",
          "data": {
            "application/vnd.google.colaboratory.intrinsic+json": {
              "type": "string"
            },
            "text/plain": [
              "'가격 대비 괜찮네요 착한 가격 빠른 배송 만족 합니다 원래 쓰던 거라 상큼하니 가볍고 좋앙 가성비갑 강추합니다 저렴하게 굿 구매 감사 너무 좋아요 가격도 싸게 사고 두개나 득템 냄새 진짜 취저에 여 향 너무 마음에 들엉 여성 여성 하네요 포장 잘해주셨어요 만족이에 요 정말 저렴하게 잘 샀어요 저렴하게 잘 사서 기분이 좋네요 포장이 다소 아쉽지만 잘 쓸께 요 착한 가격에 잘 구입해서 좋 아요 맘에 드는 상품 싸게 구입했어요 싸게 잘 구매해서 좋아요 굿 자주 세일했으면 좋겠어요 원했던 향기가 아니네향이 넘 센 것 같아요 좋으네 요 배송도 빠르궁 좋아요 그런데 향이 예전 남성 스킨 냄새가 나요 저렴한 가격에 구매했어요 향도 정말 좋네요 향 너므 좋아요 저렴하게 구매 해서 좋았어요 다음에 또 구매 할 생각입니다 완전 좋네요 다음에 또 구매할게요 향이 조금 빨 리 날아가는 듯 해요 가지고 싶은 향수를 구매해서 넘 좋아요 원래 좋아한 던 향이라 구매했어요 저렴하게 구매해서 그런지 좋네요 늘 쓰던 건데 저렴하게 구매했네요 배송도 빠르고 두 번째 구매입니다 실패는 안하는데 향도 괜찮은데 좋아요 좋아요 향고 좋고 포장도 잘 되어져서 왔어요 늘 쓰던 거라 향도 좋고 오래 가네요 좋아요 저렴한 가격에 만족합니 당 좋아요 정말 강 추합니다  감사합니다 지미추는 항상 쓰는 향수 넘 좋음 향은 좋은데 너무 빨리 날아가요 향도 좋구 저렴한 가격에 잘 구매했어 용 저렴하게 잘 산 거 같아 요 향이 넘 좋네요 쓰던 건데 엄청 싸네요 정품 맞겠죠 향도 마음에 들고 저렴하게 잘 산 것 같아 요 생일 선물로 굿'"
            ]
          },
          "metadata": {
            "tags": []
          },
          "execution_count": 21
        }
      ]
    },
    {
      "cell_type": "code",
      "metadata": {
        "id": "sGYPnZE_3txe"
      },
      "source": [
        "model = KeyBERT('distilbert-base-nli-mean-tokens')\n",
        "keywords = model.extract_keywords(text,keyphrase_ngram_range=(1,1),stop_words=None)"
      ],
      "execution_count": null,
      "outputs": []
    },
    {
      "cell_type": "code",
      "metadata": {
        "colab": {
          "base_uri": "https://localhost:8080/"
        },
        "id": "HFhhr5l33yzV",
        "outputId": "699aa996-fce4-40f9-eedc-c781aeef5e0e"
      },
      "source": [
        "keywords"
      ],
      "execution_count": null,
      "outputs": [
        {
          "output_type": "execute_result",
          "data": {
            "text/plain": [
              "[('강추합니다', 0.8296),\n",
              " ('감사합니다', 0.8247),\n",
              " ('만족합니', 0.8207),\n",
              " ('생각입니다', 0.8162),\n",
              " ('구매입니다', 0.8055)]"
            ]
          },
          "metadata": {
            "tags": []
          },
          "execution_count": 20
        }
      ]
    },
    {
      "cell_type": "code",
      "metadata": {
        "id": "UCYJK69S30GC"
      },
      "source": [
        ""
      ],
      "execution_count": null,
      "outputs": []
    }
  ]
}