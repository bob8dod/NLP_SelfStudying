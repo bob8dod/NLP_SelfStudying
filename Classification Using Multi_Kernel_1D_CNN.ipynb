{
  "nbformat": 4,
  "nbformat_minor": 0,
  "metadata": {
    "colab": {
      "name": "Classification Using Multi-Kernel 1D_CNN.ipynb",
      "provenance": [],
      "authorship_tag": "ABX9TyOaAYMLhcWYCI7d36posNcq",
      "include_colab_link": true
    },
    "kernelspec": {
      "name": "python3",
      "display_name": "Python 3"
    },
    "language_info": {
      "name": "python"
    }
  },
  "cells": [
    {
      "cell_type": "markdown",
      "metadata": {
        "id": "view-in-github",
        "colab_type": "text"
      },
      "source": [
        "<a href=\"https://colab.research.google.com/github/bob8dod/NLP_SelfStudying/blob/main/Classification%20Using%20Multi_Kernel_1D_CNN.ipynb\" target=\"_parent\"><img src=\"https://colab.research.google.com/assets/colab-badge.svg\" alt=\"Open In Colab\"/></a>"
      ]
    },
    {
      "cell_type": "markdown",
      "metadata": {
        "id": "l6pgPZI34jlA"
      },
      "source": [
        "## Multi-Kernel 1D CNN 으로 리뷰 분류"
      ]
    },
    {
      "cell_type": "markdown",
      "metadata": {
        "id": "MKHYqiXC4poT"
      },
      "source": [
        " 다양한 크기의 커널들을 혼합하여 분류  \n",
        " 이를 위해서는 **Keras Function API** 사용 필수"
      ]
    },
    {
      "cell_type": "markdown",
      "metadata": {
        "id": "fGbFejuI4wSI"
      },
      "source": [
        "![image.png](data:image/png;base64,iVBORw0KGgoAAAANSUhEUgAAAh0AAAGHCAYAAAAUdeBfAAAgAElEQVR4Ae29DZRVxZnvTRJnhdyQyCgiGtCOaRH50H6hNcA0kUtQ27Fjg6sdUJg0GYkwDhFi0EYk6XFIwuUyEQ0xkMUy2HLXgJdB1gSV1cGR9b444Q5EuaRDwIG5MOIdvOGdl4zcuawMztS7/lsLdp/en0/V3rv2Of9aa/c+Z+96dlX9q87p36mPp/opBipABagAFaACVIAK5KBAvxzSYBJUgApQASpABagAFVCEDjYCKkAFqAAVoAJUIBcFCB25yMxEqAAVoAJUgApQAUIH2wAVoAJUgApQASqQiwKEjlxkZiJUgArkqcDjjz+urh1+vfr8hEmi4+q6a9Tzzz+fZ5aZFhWoCQUIHTVRzSwkFagtBTZs2KD+05Pr1N+dOCM6vvb1x9SuXbtqSzSWlgrkoAChIweRmQQVoAL5KkDoyFdvpkYFkipA6EiqFONRASpQGgUIHaWpKma0xhQgdNRYhbO4VKAWFCB01EIts4xlVIDQUcZaY56pABWIVIDQESkPb1KBwhQgdBQmPROmAlQgKwUIHVkpy+dSATMFCB1m+tGaClABBxUgdDhYKcwSFVCKbtDZCqgAFag+BQgd1VenLFF1KMCejuqoR5aCClABnwKEDp8YfEkFHFKA0OFQZTArVIAK2FGA0GFHRz6FCthWgNBhW1E+jwpQgcIVIHQUXgXMABUIVIDQESgLL1IBKlBmBQgdZa495r2aFSB0VHPtsmxUoEYVIHTUaMWz2M4rQOhwvoqYQSpABdIqsG7dOtWx7Dtq156DoqP9/gdVd3d32mQZnwpQgRgFCB0xAvF2cQo888wzCv888KtVcjz88MMiO51Wme2h29KlS8Xlh/3mzZuLq3zDlFH2cTdNUHffM0t0XD9yjOrq6jLMBc2pABWoVIDQUakI3zujwB133OH9WsUW5ZLjmvrhIjudVpnt8Ssf/3R1WdKeYT9v3jxn2kLajHB4Ja1ijE8F8lGA0JGPzkxFoMCcOXO8rvG/O3FGSY7PT5gkstNpldkewwr4la/LkvYM+87OTkGtuWFC6HCjHpgLKlCpAKGjUhG+d0YBQoccmggdG7xenrSwpeN/7euPqV27djnzWWBGqEC1KEDoqJaarMJyEDoIHdJmzZ4OqXK0owLZKkDoyFZfPt1AAUIHoUPafAgdUuVoRwWyVYDQka2+fHqEAseOHVObNm0KjUHoIHSENo6YG4SOGIEyun38+HHvM42hKcmxfft2tXv37tS5W7NmjcL3CYP7ChA63K+jqs3hli1b1LRp00LLR+ggdIQ2jpgbhI4YgTK6jR8RN49vUpgTIzmm3zNLtbe3p87dqlWrVHNzc2o7GuSvAKEjf82Z4ocKrFixQi1evDhUD0IHoSO0ccTcIHTECJTRbfRuADb0hNy0543/9RXRqqlz586phoaGyJ7TjIrMx6ZUgNCRUjBGt6fA3LlzFbpFwwKhg9AR1jbirhM64hTK5n5R0IHS7NmzRw0dOlSdPn06m8LxqVYUIHRYkZEPkSgwefJktWPHjlBTQgehI7RxxNwgdMQIlNHtIqEDRVqwYIGaP39+RqXjY20oQOiwoSKfIVIAv0qOHDkSakvoIHSENo6YG4SOGIEyul00dKCXA98r6PVgcFMBQoeb9VL1uTp79qy66KKLIstJ6CB0RDaQiJuEjghxUtzCP2+ARNJQNHQgn5igPnr0aIV5HgzuKUDocK9OaiJHPT09qr6+PrKshA5CR2QDibhJ6IgQJ8Ut6NivXz+FodAk8OECdKB4LS0tChPVGdxTgNDhXp3URI6wHj9uiRuhg9Ah/TCsXLlS3XNvu3jDu6m3t6itW7fGJo/9afBPuVaORYsWRWriCnTAZ8egQYPouyOytoq5SegoRveaT3X16tXepK8oIaZMmaLa739QtN4fy/Y+M/QqsW3Z7aEbtmeX+EqADewl/hKi6jPPe3lBR55lKiIt3dOB5ajbtm2LzYIr0IGM0ndHbHUVEoHQUYjsTBSzzAEeUWHmzJlq04s/9XaaxQZmaY+GsTeltvGnUWZ76Nb8+9PE5Yd9R0dHVPU4fY/DK3aqBxCRBDZ0ai5BB3136Fpx60zocKs+aiY3GFqJ+zLj8AqHV6QfCEKHVDkzO5egAyWh7w6z+szCmtCRhap8ZqwCI0aMUJhMGhUIHYSOqPYRdY/QEaVOdvdcgw6UlL47sqtvyZMJHRLVaGOsAJbLYtlsVCB0EDqi2kfUPUJHlDrZ3XMROui7I7v6ljyZ0CFRjTZGCsAhGBz4xAVCB6Ejro2E3Sd0hCmT7XUXoQMlpu+ObOs9zdMJHWnUYlwrCuzcudNb9x/3MEIHoSOujYTdJ3SEKZPt9aJ2mU1SKvruSKJS9nEIHdlrzBQqFFi7dq3CZm9xgdBB6IhrI2H3CR1hymR7/fjx495Or+jxkBzw37N79+5MMknfHZnImvqhhI7UktHAVAFsZ5/EWyChg9AhbWuEDqly1W1H3x3F1y+ho/g6qLkcTJs2zRtjjSs4oYPQEddGwu4TOsKUqe3r9N1RfP0TOoqvg5rLATZj2r9/f2y5CR2EjthGEhLBReg4cOCA51pdMuwAG8yXwPAFg5kC9N1hpp+pNaHDVEHap1ZgwIABCsvY4gKhg9AR10bC7rsIHU888YQa/4Vmdd/93xAdY/6vCR54hJWZ15MrQN8dybWyHZPQYVtRPi9SgZMnT3obMUVG+vAmoYPQkaSdBMVxETqQp0XLnlIv7TkpOgAr6PFgMFeAvjvMNZQ+gdAhVY52IgUwM338+PGJbAkdhA6sdErSK1bZoAgdlYrk8/75559XVwz9rBozdqLo+Nx1Y9S9996bS2bpuyMXmfskQujoIwkvZKkA/hnMnj07URKEDkJHXV2dGjhwoLdjaJwHW3+jWrp0qRp30wR19z2zRAd26O3q6vI/0vh1LfR0oCcGPTLS3pwVz2xVnZ2dxlonfQB9dyRVyl48Qoc9LfmkBAosW7Ys8ZfKuHHjFHZ6/fyESaLj05++WGSn0yuzPXS77LLLxeWHfWtra4Ia/SAK/lH069cv0wMAAl8LScK6detUx7LviHfZbb//QdXd3Z0kqcRxCB3xw0p5Qwd9dyRuvtYiEjqsSckHJVEA29Vv3LgxSVTFng72dAA0+vfvrxYtWqQwHyhp4PBKUqXsxitbTwdKT98ddttA3NMIHXEK8b5VBRobG73tppM8lNBB6IATuTSwodsVoUMrYX5OM6+mjNBB3x3mbSTNEwgdadRiXGMFBg0apE6dOpXoOYQOQkeihhIQidARIIrwkp5XgyG0uEm9ZYQOyELfHcLGITAjdAhEo4lMAXxhwUdH0kDoIHQkbSuV8WoVOrKeWzNkyBB16NChSrnPvy8rdKAA9N1xvhozfUHoyFRePtyvwL59+1RDQ4P/UuRrQgehI7KBRNysVeiIkER8K828mjJDB34UAarQ68GQnQKEjuy05ZMrFIAb57a2toqr4W8JHYSO8NYRfYfQEa1Pmrtp5tWUGTqgCb6jsE0D5nkwZKMAoSMbXfnUAAXw5bVkyZKAO8GXCB2EjuCWEX+V0BGvURYxyg4d0KS5uTnRLthZ6FcLzyR01EItO1LGuXPnqvXr1yfODaGD0JG4sVREJHRUCJLT22qADvjugEO6pD5hcpK2apIhdFRNVbpfkKamJrVz587EGSV0EDoSN5aKiISOCkFyelsN0AGp0CuLHg8G+woQOuxryieGKDB06FB14sSJkLt9LxM6CB19W0WyKy5CRy3sMlst0IE5HZjbgTkeDHYVIHTY1ZNPC1EA+2bAs2SaQOggdKRpL/64LkLHU089pdr+cIGCq2/J8cXf/wO1fft2fzGde10t0AFhsYoFq1nifJM4VwmOZ4jQ4XgFVUv2enp6vF8OacpD6CB0pGkv/rguQgfyVO1b22O/mtYZX1XPvrhXdDz6Z2tVR0eHvyoLfT1//nzPf0ehmaiyxAkdVVahrhZn27ZtCjs6pgmEDkJHmvbij0vo8KuR3+uXX35ZTZkyxds3CZ/ftMf06dNTrXDLumTo5cCwMH132FOa0GFPSz4pQgFsqoRNu9IEQgehI0178cfl1vZ+NfjaRAHM64BTQ/ruMFHxgi2h44IWfJWhAnAxvGbNmlQpcGv7i422ps9za/tUFZtDZPZ05CByDSWBlSz44cRgrgChw1xDPiGBAvjQ7tixI0HMC1HY08GejgutId0rQkc6vRg7WgH47MBmlfTdEa1TkruEjiQqMY6xAvX19ZEbRQUlQOggdAS1iyTXCB1JVGKcNArAd0faeWlpnl8rcQkdtVLTBZezX79+qcdECR2EDmmzJXRIlaNdmALad8eWLVvCovB6AgUIHQlEYhQzBY4cOaLQ05E2EDoIHWnbjI5P6NBK8GxTAaxiwWoW+u6Qq0rokGtHy4QKYC6HxKUwoYPQkbCJ9YlG6OgjCS9YUoC+O8yEJHSY6UfrBApg1Qo+qGkDoYPQkbbN6PiEDq0Ez7YVoO8OM0UJHWb60TqBAosXLxYtNyN0EDoSNK/AKISOQFl40ZIC9N0hF5LQIdeOlgkVmDZtmoJH0rSB0EHoSNtmdHxCh1aC56wUoO8OmbKEDplutEqhAHZrxN4raQOhg9CRts3o+IQOrQTPWSlA3x0yZQkdMt1olUIB7C6LXWbTBkIHoSNtm9HxXYSOhx9+WA29ul6NGTtRdAy+Yphav369LiLPDihA3x3pK4HQkV4zWqRQ4OTJk9720ClMzkcldBA6zjeGlC9chA7kqdp3mU1ZTaWPTt8d6auQ0JFeM1qkUGD37t2qqakphcWFqIQOQseF1pDuFaEjnV6MLVeAvjvSaUfoSKcXY6dUAN3Bc+fOTWn1QXRCB6FD1HCUUoQOqXK0kyhA3x3JVSN0JNeKMQUKLFu2TGHcUxKmT5+uVj/znNr4X18RHdePukFkp9Mrsz10mzR5qrj8sF+4cKGk2pywwfyJa+qHi3fp/czQq6zPn+DwihNNI5NM0HdHclkJHcm1YkyBAjNnzlRY0y4JS5YsUR0dHaqzs1N0tLa2iux0emW2h24zZswQlx/2q1evllSbEzbs6XCiGmoqE/Tdkay6CR3JdGIsoQKNjY1q3759QmuaUQGZAoQOmW60MlOAvjvi9SN0xGvEGAYKDBw4kJsjGehHU5kChA6ZbrQyU4C+O+L1I3TEa8QYQgVOnTqlBg0aJLSmGRWQK0DokGtHSzMFli9frlpaWsweUsXWhI4qrtyii4ZhFQyvMFCBvBUgdOStONPTCsB3x4gRI9SWLVv0JZ59ChA6fGLwpV0FMLEKE0kZqEDeChA68lac6fkVgH+ioUOHcmjZL8qHrwkdAaLwkh0F0M2IJbMMVCBvBQgdeSvO9CoVgH+iBQsWVF6u+feEjppvAtkJAOdeGzduzC4BPpkKhChA6AgRhpdzUwC+O4YMGaLgsZThggKEjgta8JVlBeD+HN2MDFQgbwUIHXkrzvSCFMCProaGBoV5HgwfKEDoYEvITAFQPjZ8Y6ACeStA6MhbcaYXpsDUqVPVqlWrwm7X3HVCR81VeT4FPnPmjBowYEA+iTEVKlChgIvQsXTpUjXyxpvV1DtniI5rrh2lurq6KkrKt64rcOTIEc91AHx4MChF6GAryESBnp4er1sxk4fzoVQgRgEXoQN54tb2MRVXpbfpu+NCxRI6LmjBVxYV2LZtm2pra7P4RD6KCiRXgNCRXCvGzF4B+u64oDGh44IWfGVRAYxhLl682OiJ3PBNvmFdrW/49tRTT6kHHnxYvMvu3ffMUtu3bzdqv5XG7OmoVKS23tN3xwf1TeiorXafW2nnz5+v1q5da5QetrZ/9M/WqhXPbBUdGAOX2sKuzPbQbdz4/yguP+zLvLX95s2b1bx588S77La3t1tfeUXoMPo6qApj+u7gnI6qaMguFgK7Le7cudMoa/Dz8eyLe9VLe06KjjFjJ4rsdHpltodumLCoy5L2DPvOzk6j+qNxbwUIHb31qMV39N1B6KjFdp9Lmevr69WJEyeM0iJ0yKGJ0GHU9DIxJnRkImvpHqp9d5Qu45YyzOEVS0LyMRcUwKSpiy666MIF4StCB6FD2HScNCN0OFkthWTq0KFDhaTrQqKEDhdqocrygA8Udlk0DYQOQodpG3LJntDhUm0wL0UpQOgoSvkqTnfHjh2qpaXFuISEDkKHcSNy6AGEDocqg1kpTAFCR2HSV2/Ca9asUYsWLTIuIKGD0GHciBx6AKHDocpgVgpTgNBRmPTVmzCAY/Xq1cYFJHQQOowbkUMPIHQ4VBnMSmEKEDoKk756E8bQig3HSoQOQkc1fUoIHdVUmyyLVAFCh1Q52oUqMHr0aGVjdjahg9AR2shKeIPQUcJKY5atK0DosC4pH9i/f3+FZbOmgdBB6DBtQy7Zr1u3Tv3Rgm95Du/gRyXtcdeMr6ru7m6XisS8UIHUChA6UktGgygF4BCsrq4uKkrie4QOQkfixlJQxFOnTin0YCSBbG5tX1AlMVmnFCB0OFUd5c/Mrl271NSpU60UhNBB6LDSkDJ8yLFjx1S/fv0UPPDGwQeHVzKsiBI/esaMGeI9grCxIzbGLFMgdJSptkqQ1/Xr1yts9mYjEDrKAx3YpwX/fGv9aGpqUmfOnAls/oSOQFlq/uKkyVPFuyGvfuY5hY0xdYC7gp6eHv3WyTOhw8lqKW+mQN3Y1t5GGDdunLpu9DiFjdckxyc/dbHITqdVZnvo9ruXDhaXH/atra02qrGqn6F7OoYMGeItEz979mxoeQkdodLU9I2775ml/u7EGdGxa89BhR9nOmzZssXrdcPGcq4GQoerNVPSfLW1talt27ZZyT17OsrT02Glwkv4kJMnT8bChi4WoUMrwbNfAZvQgecuXrxYYZfvJPOM/PnI6zWhIy+laySdxsZGtX//fiulJXQQOqw0JEceQuhwpCIcy4Zt6ABsYF7dsmXLHCvpB9khdDhZLeXN1MCBA0PHtNOWitBB6EjbZlyOT+hwuXaKy5tt6EBJsKoKqwhtOGm0rQyhw7aiNfw8NHSMbdsKhA5Ch6225MJzCB0u1IJ7ecgCOlDKffv2qUGDBllx1GhTNUKHTTVr/Fl79uxRmL1vKxA6CB222pILzyF0uFAL7uUhK+hASdHmRowYYa332YZ6hA4bKvIZngKbNm1Ss2fPtqYGoYPQYa0xOfAgQocDleBgFrKEDhR3wYIFCvthuRIIHa7URBXkY/ny5QqHrUDoIHTYaksuPIfQ4UItuJeHrKEDE0vHjx9v9bvZREVCh4l6tO2lAHo50NthKxA6CB222pILzyF0uFAL7uUha+hAibG0e+jQoWrHjh2FC0DoKLwKqicDoGlMXrIVCB2EDmlbevPNNxUcd0mPgwcPSpMOtSN0hEpT0zfygA4IjDl3mFh65MiRQvUmdBQqf3UljpUrWMFiKxA6CB3StjRs2DA1Z9aXxAe84doOhA7bilbH8/KCDqgFN+mjR48udGIpoaM62m3hpcB+E/DRYTMQOggd0vY0efJkpd77ufhA27MdVq5cqW770n1q0bKnRMf4LzSrrVu32s4Wn1ewAnlCB4qKtm1zwn9a+QgdaRVj/EAF4IUU3khtBkIHoUPanggdUuVol7cCeUMH9gfCd7WtPbLS6kXoSKsY4wcqgI2GZs6cGXhPepHQQeiQth0XoYPDK9LarG67yy67XH1+wiTR0TD2JiUZCsRcJwyH79y5M3dxCR25S16dCYKabfv6J3QQOqSfFkKHVDna5a3A1DtnqJf2nBQdz764t9cus2nyDuAAeABA8gyEjjzVruK05s+fr9avX2+1hBMnTlS/N6VF4UMpObC1u8RO25TZHrpdOfSz4vLDfsaMGVbrM8+HETryVJtpmSiA75sioAN5xo9FDLVgyCWvQOjIS+kqTwe7Gu7evdtqKdnTwZ4OaYMidEiVo13eChQJHShrW1ubuLdEohWhQ6IabfoogB0N4YDGZiB0EDqk7YnQIVWOdnkrUDR0YOUhltFiOW0egdCRh8pVngbc7A4YMMB6KQkdhA5poyJ0SJWjXd4KFA0dKC8chsFxmO3e6iAtCR1BqvBaKgUOHTrkkXIqowSRCR2EjgTNJDAKoSNQFl50UAEXoAOybN++3ZtYarvHulJyQkelInyfWgE01mnTpqW2izMgdBA64tpI2H1CR5gyvO6aAq5AB3Tp7Oz0NodD73VWgdCRlbI19FyMBS5evNh6iQkdhA5poyJ0SJWjXd4KuAQdKHtLS4uaO3duZjIQOjKTtnYevGjRIrV27VrrBSZ0EDqkjYrQIVWOdnkr4Bp0nD59WtXX11t3gaB1JXRoJXgWKwAyzmLLZEIHoUPaKAkdUuVol7cCrkEHyt/T0+NNLLW5a7jWldChleBZrMCIESMy2S6Z0EHokDbKUaNGqQ1rO8XHrbfeKk061K4W3KDjV/KBAwc8L5fwdJn2OHz4sDp+/HiohtV4w0XogM7Y2gI9HrbndxA6qrEV51ymLJbLogiEDkKHtCkTOqTKmdl1dXWphhuGqzmzviQ6mqdOLLUnXIl6rkIHypLFShZCh6SV0Oa8AidOnFDo6cgiEDoIHdJ25eLwytKlS9XIG28Wu6a/5tpRCv/UXQ67du1SnY89oNR7Pxcdu17+kbeCwuUy2s6by9Bhu6x4HqEjC1Vr6JnYNKi5uTmTEhM6CB3ShuUidLz77rvq4MGDqYcc9BAFhi0wfOFyIHSkrx1CR3rNMrHYu3ev+MN59OhR9eabbxZmj3FJk3FNfDGZfjkhD/rLKu0ZeU+6ARBWrSxYsCCTNkDoIHRIG5aL0CEtS5nsCB3pa2vI5ZeqyZPGiY7xN40RbW2fNpcPP/ywGj58uJo0aZLouOqqq86vhnG2pwNb7uKfjuTABjaYACOxhY2pPX75NzQ0iNNvampSOKT5R9rIg4k9oC1JWLJkiVq9enWSqKnjzJw5U61c91cK2zdLjutGjxPZ6bTKbA/dsFOsLkvaM+w7OjpS15krBoSOYmqC0JFed8x/kQ5HHfvlT7zv+fSpprPAJGj8wHzvvfdEx2OPPabQNhCchQ7vSyOdLudj45c9/uFKg6m998Hr7JQmr1DBOKQBXuV0BUueAXtokCQA0OCRNIvAre0Hi8f/ubX9ZPEXOf4BmHx/ZPFZKMszCR3pa4rQkV6zRBbvvPOO6tevn8IZYcyYMedfBz2A0FEO6ECvCvZeySLgix+/0F/ac1J0jBkrH55AmmW2h26mY8WAz7IG9nQUU3OEjvS6EzrSayayIHSEy1amng4sl006/yO8xMF3CB1yaCJ0sKcj+FOV7uqePXtS9ZoSOtLpi9iEjgjNHn/8cfXKK6+cjwFweOONN7z36MGYMWOG93r9+vVerwZ6NvBaB7xHgB1e49A2Oo4+s6fD/Z6OU6dOqaFDh+oqs34mdBA6pI2KPR1S5Xrb4QcQvqehZ5IhW0JHb/2SvCN0RKgEwAB4IGjI0FABGMFrXNfX8FqDBmz8r9nTES50WXo68Cto6tSp4QUxvEPoIHRIm1Be0IEhKHyv1cqBfZaiAqEjSp3ge4SOYF3OXwUsIAAyACG6pwIwons9zkeumLtB6PArE/66LNCxceNGNX/+/PCCGN4hdBA6pE0oL+iQ5q8sdrqnA3O3tm3bFpttQkesRH0iEDr6SNL7AiADPRi6x0NDh4YRxMY9P/kjPgKho7eWYe/KAh34lbdixYqwYhhfJ3QQOqSNiNAhVa63HSAiCWxoK0KHViL5mdARoxWGTtDLoaGj8j2u6+EVPMo/jELoiBH3w9tlgY7Zs2d7mwIlK1X6WIQOQkf6VvOBBaFDqpyZHaEjvX6EjhjNMIQCkNBgod/rCaaADv0aZ4BGUE8HekiChmN08t6Xhn6T8mzqZ8PU3vvgGSw3LAt0jB8/Xu3fvz9l7SSPTuggdCRvLb1jEjp665HXO0JHeqUJHQk0A0j4gcEPFnryKK4BQMJ6OjSQ6OGZymQJHe6vXhk0aJA6c+ZMZdVZe0/oIHRIG9OwYcNEu5ziHwCOcePGSZOuabutW7eq1jsnqw1rO0VHx9fb1bx582pKQ0KHI9VN6HAbOgAbgI4sA6GD0CFtXxMmTFBwES09wn4MSfNTK3bYt+mJJ54471VZ99omPT/11FNq8+bNtSKXV05ChyPVTehwGzowrILhlSwDoYPQIW1fHF6RKke7vBUgdOSteEh6hA63oWPLli0KE0mzDIQOQoe0fbkIHdipc0T9EDV54nDRUTfs0vNz6aS60M49BZqnTlS7Xv6R6Nj04++q6dOnZ16odevWqW9/+9vql7/8peh48MEHVXd3t5dPZzd8GzFihLiLbtWqVd4urUm79Crjmdpjd87W1lZx/u+//36FozJfSd8jbeQhafzKeLA/ePBgZEPGUtnly5dHxjG9SeggdEjbkIvQ4X3OVrcr9Y8/Eh2d32hJ5BVUqhntilGgYdQwhbqVHAu/OkVNmTIl84wvXbpUYchy1qxZogNzO7u6urx8Ejo+3NHV/4+X0BEPHXPnzlVwDpZluOOOO9QfLfiWWrTsKdEx9Op6kZ1Or8z20G3kjTeLyw/7Mk/oI3Rk+cnks20qMGfGRBGEAl6P/e13c9kRGf8fubV9RK2bLnk1ta+FJbNwfw436FmGZ555RqFbzw+EaV6jOztN/Mq4ZbaHbvh1UlmmpO9hX+YJfYSOLD+ZfLZNBQgdKdXE0lksj7U929v70kiZFx3dFBpM7WsBOrDRGzZ8Y6ACLipA6HCxVpinIAUIHUGqRFzz++GIiJb6FqHD3Ymk2Mp+4MCBqeuUBlQgLwUIHXkp3TsdOI3EhFfpZFnMb8CcsloKhI6UtU3o6CtYtfd0HDp0SDU2NvYtOK9QAUcUIHQUUxHed983WsRzFHb95TcU9nSqpUDoSFHbGFbRh3aLjrO+BiDRAR5ItYfSJEMx7Olwt7dtFOEAACAASURBVKdj+/btqq2tTVctz1TAOQUIHcVUCaEjve6EjpSa+Xs6ABZ+oACA6Pfa7bnehyUuGUKHu9CxevVqtWTJkrgq5H0qUJgChI5ipCd0pNed0JFSMz90ADD8e7LgUbq3Q/d0JH08ocNd6FiwYAGdFCVtyIxXiAKEjkJk9/yIwN+E1BcJh1fS+XCpySWzfujwv9ZNXl8jdGhF4s96WWN8zOAYGBPFLw5pgD1W8ISFlpYWtXv37rDbvE4FCleA0GGvCuCf4fTp04keyJ6ORDL1isSejl5yxL/RUIGY7On4QC/vg2cwGcp16IC32BMnTsQ3DsagAgUpQOiwJ3xdXZ23Wg0/RuLgg9CRXndCR0rN/NDhn8OBx+A9Jo8isKcjubCuQ8eAAQOSF4YxqUABCgwePFhNnjROfIwcOdJ6rr3PdcZu0AEGeiJ/FuchQ4YorF4LC4SOMGXCrxM6wrUJvOOHDkQAZOjGrieR4jqhI1C+wIsuQweGXUaPHh2Yb16kAq4owJ4OezWBno7+/furRYsWqZMnT0Y+mNARKU/gTUJHoCz5X/S+NITJmnoUNbWv5uGVnTt3qmnTpglrhmZUIB8FXISOp556SnX8SbPCZEnJ0f4HExSWq+cdsLljHGzoPBE6tBLJz4SO5FplGpPQ4ebqFUwqwy8eBirgsgIuQscTTzyhWptvFO0mihUht0wYrjZt2uSy7Fy9IqidMuwyu3LlSvXlL3/Z2/QN/wPSHnfeeafaunWrp46zu8yiSw/jk5Jj4cKFqqGhQWSL9Ezt29vb1S233CJOH26AcUjKDhukjTyY2B84cCDw47N48WK1Zs2awHu8SAVcUcBF6MhjTkfR+rOnI30NTJ46Sb3w0kbR8YNnV6vp06enTzSlxauvvqoAHnroP+0ZwK3/pzgLHYAGNGDJgV8Dzc3NIlukZ2oP51n4py/JO2w6Ojq8Q2qPtJEHE/vDhw8HNkt4It2xY0fgPV6kAq4oQOgopibwnUM/Hem0v+e+u9Xbv3lLdPzsF6/lsrV9uhJFx7YGHfA0ikmltgKHV9wcXgEMHjlyxFY18zlUIBMFCB2ZyBr7UEJHrER9IrgKHdhFHD3b586d65NnkwtG0OFfuULouFAN3gevSv10YBk0AxVwXQFCRzE1hImumPAqmSgLm9VP/IE3vF1M7otJ1UXoAGjgMzR37lzrohA6AiTl6pVoj6QBkvESFXBKAUJHMdUBT8Um88kwnw5Dw7UUXIQOwAY+Q7Z7OVCvYuhAL4ffH4fu6fD76fDvw4JfyDp+kl/L3peGsOWZQoOpfTX3dAirhGZUIFcFCB25ys3EDBRwDTqwUAALOZIuk05bdDF0IKHK4RVABZyAIeCsnYMBPvzzPfDaDyRBmSZ0uDmnI6iueI0KuKYAocO1GmF+whRwCTrgh2ngwIGqp6cnLLvG161Chx8skDP9Hr0ffsgAkMT1dhA6CB1oQ2gn6DmSHN3d3aqrq0tki/Rgj5VMkrRhg/FtE3usa8chTR9pIw9Se2gXt9eG8TdQRg8gdGQkLB9rXQFXoAPu7QcNGpS5A7pMoQM9Hwjo8dBDK/qs92QJq0FCB6EDbaPuqitU52MPiI6FD96rGsYMF9kiTdjf0jRObN9+X4uRfeudtygc0vIj78iD1B7a6bX1YZ9TV68TOlytGearUgEXoOPMmTMKG3nC+2zWIRfoqOzpSFIoQgehA+0Em3ap934uOo798idqzqwviWyRJuzxD1ua/q6Xf2Rkv2Ftp8IhTR95Rx6k9tAO85vKGAgdZay12sxz0dCByaLwazV79uxcKsAIOvxb2euJpP5c654O//wO3Md7/3CL30a/JnQQOtAWCB2EDv2dkOY8YcIEDxoBjpJDz0dLk2Zc3FrwSBqnAe/3VaBo6MC2FuPHj1dnz57tm7kMrhhBB+ABYIEPaBR0IN/+VS1xQyuIT+ggdHjtgD0d4p6KWu7pGDZsmNfLhd4ayTFu3DjrX7eEDuuSVsUDi4QOtMmhQ4dmtlIlqIKMoCPogbauEToIHWhL7OlgT4fkO4XDKxLVaFOEAkVBB3yqYKXK/v37cy02oSNAbvrpcMc5GKGD0BHwEY295CJ0YMOs++/9PbVhdbvoaL39xvM7dcYKwAilUaAI6MD/uCFDhhSyazGhI6BpEjoIHZxI+nNvWIITSQO+IISXCB1C4arcrO6aqxXAQ3L8fmuzmjhxYiqFsFJF78KeytBSZGehA90++LUiOTApBhQnsYWNqT0qFB7dpOlj6RIOqT3SRh5M7Pfu3WupiZk9hj0d7OmQtCC0femqHdjNmTNHkmykDed0RMpTszfH33qj+sGOZaLjiecWqJkzZ6bSbtq0aaltUiUQE9kKdGAliu3Z3t6XRkzmw26b9lSY2sMZU2eVbvgWpnlW1wkdhA5J2yJ0SFSjTREKTG69Sb1w4EnRAVhJA8jLli1TjY2NCr0dRYXE0AHPkGFgQejoXX2Ejt56mLwjdBA6JO2H0CFRjTZFKJAXdMBDMUYATpw4UUQxz6eZGDrOWwS8IHT0FoXQ0VsPk3eEDkKHpP0QOiSq0aYIBfKAjn379nkuzvfs2VNEEXul2Qc6KjdjQw8H/GrAJ4ffv0al3w1/LwhstLtzvPYHfR1nPDMscHiFS2bRNggdhI6w74io64SOKHV4zyUFsoYO7BaLHo6NGzc6Uew+0AFI8IOCdvzlhw689kMGXuv36PXQG72hhH6I8b/GPYAH4gcFQgehA+2C0EHoCPp+iLtG6IhTiPddUSBL6ICXUSyMwFwOV0If6PB7FsVrDRN+6MA1Pyz4h1fQA+K/BztAjD+OLry+p9/7z4QOQgfaA6GD0OH/Xkj6mtCRVCnGK1qBLKED+6m0tLQUXcRe6feBDtxFjwSAw9/r4YcOfV8/yQ8UABL/EApeBw3PwNb/TP0sfSZ0EDrQFuquulK8Syp3mTXcZfYG7jKrv49snLlk1oaK1feMrKBj+fLlavTo0YWuVAmqrUDoAGwACAAQgA8EPyBEQUdlT4dO1A8m+hqe6R/K0ddxJnQQOtAOsL06dkqVHJs2fEc1T50oskV6sG+f1SK2X/2fvmFk3/H1doVDUnbYIO/Ig9Qe2h0+fNj/sSzNa/Z0lKaqaj6jWUDH9u3bvT1VXHTuFwgdeohFD62gVfihA6DgvwcI0e81rOiWhPd6uKVyDgfea6jR8fWZ0EHoQFvg8AqHV/R3QpozoSONWoxbpAK2oaOnp8fbUwV7q7gYAqEDGQVIABh08EMHrgEy9DBKJYRUrmzRzwBgaJtKANFx9JnQQehAWyB0EDr0d0Ka89ixY8U9POgZuuuuu9Iklyguh1cSyVRzkWxCx6lTpzxv2GEjCC6IGwodRWeO0EHoQBskdBA6JN9Fo0aNUhvWdoqPW2+9VZJspA2hI1Kemr1pEzrgnXTRokVOa0noCKgeukHnhm/c8I0bvgV8NRhdInQYyVe1xjahA+7Nz50757RWhI6A6iF0EDoIHYSOgK8Go0tLly5VTTfXqzkzJoqOhlHDVFdXl1EeaOyeAjahw73S9c0RoaOvJorQQeggdLgBHWvXrlWnT58O+JRGX3JxIum6devUqm+2qWN/+13RsXDuF1V3d3d0wXm3dAoMGzZMvCP4hAkT1KRJk0pVZmehg1vbc2t7fJI4p6O253TU1dV5M/FXrVql4F0xaXAROji8krT2GK+aFcgdOvRy3DhROZGUE0nRRggd5YCOzs7OXivT/KvUbL0GgCT1O0DoiPuG5X0qUIwChI4A3Tm8wuEVDq+4MbwC0Ojfv783Ix8bVyUNhI6kSjEeFchXAUJHgN6EDkIHocMN6FixYoVKAxv640zo0ErwTAXcUiA1dPgdf2nnYXrIxH9PeyFFceGoRHexIg4cj8UFDq9weAVthMMr5Rheifs8532f0JG34kyPCiRTIBV0ACQ0aOC1hgftaVTfw1m7RffHQ5YIHfEV400420DogFKEDkJH/CembwxCR19NeIUKuKBAKuiozDB6LxB0T4f/vgYSQIaGkbC4fjv9mj0dhA60BUIHoUN/J6Q5EzrSqMW4eSqAVVgYNqzVkBo6/HuuREGHvof4/qGWIEAJEp/QQehAuxh48ac88AB8pD3G3zRGDbn80tR2Oh3Y1111pdgeO+Sa2I8YXqdw6PykPSNt5CGtnY4P7fbu3Rv08XT+GqHD+Sqq2QyuXr1aTZs2rWbLnwo6ABD+XgsNFkEgoe8ROtK3LQ6vXNAM/wAxqVNyHPvlT9ScWV8S2XIiqRsTSS+0hHSvCB3p9GLsfBRAL8eQIUPU/v3780nQwVRSQ4futdCTQ1GmKOgApOihFsQFhPjfh2nCng72dKBtEDo4vBL2HRF1ndARpQ7vFaVArfdyQPdU0AHgQA8GjqTQgUT8q1pgR+iIbvLs6bigD6GD0HGhNSR/VV9frzofe0B8NDU1JU8sYUx6JE0oVJVGYy/HBxWbCjrybAvs6WBPB9oboYPQIfneGTt2rNr18o/Ex1133SVJNtKG0BEpT9XfZC/HB1VM6Aho6nQORudgnNPBOR0BXw1GlwgdRvKV2pi9HBeqj9BxQYvzrwgdhA5CB6Hj/BeCpRcPP/ywGlE/RE2eOFx01A271BvWtpQdPiZHBdjLcUFsZ6GjoaFB7dq1S3Rs2rRJNTc3i2yRpqk9Glh7e7s4/Y6ODoVDWn6kjTyY2B8+fPhCKynwFYdXOLwiaX6cSCpRjTZZKMBejt6qOgsd2OgJO1dKjoULFypAi8QWNqb2+Kd/yy23iNNvbW1VOKT5R9rIg4n9gQMHereUgt4ROggdkqZH6JCoRpssFGAvR29VnYUOTiTlRFI0VUIHoaP3V1ayd4SOZDoxVrYKsJejr76ZQAd8c2CZrEkgdBA60H4IHYQOyfcIoUOiGm1sK8Bejr6KEjr6aqI4kZQTSTmRlBNJA74ajC5x9YqRfKUzZi9HcJUROgJ0IXQQOggdhI6ArwajS4QOI/lKZ8xejuAqswYdcG+uvZViaMU/vOL3SIp4SQKHVzi8gnbC4RUOryT5vqiMw+GVSkX4Pk8F2MsRrrYV6IBrcz9kwM25fl95D9f1vfBsKUXoIHSgfRA6CB1R3xNh9wgdYcrweh4KsJcjXGUr0AHIwKZvOvgnklbeQxzuvaKVCj573bAbCB1QZ+TIkWrOnDmiA71q48aNE9kiTdhjDw5p+nClbWJ/6623KhzS9JE28iC1h3YHDx4MbqSOXyV0OF5BVZw99nJEV64V6NDb2Ouk/NBReQ9xgq5pW31mTwehQ7cFnqlAWgUIHWkVY3xbCrCXI1rJzKGDPR3RFRB0lz0dQarwGhVIrgChI7lWjGlPgaJ6OfSu7/hBj9dBIUmcIDvb16xAR+U8DRRcz9uovIf3YaL4C8eeDvZ0+NsDX1OBNAoMHjzYmw+EOUGSA8N6tgNXr9hW1L3nFdXLkQQoksTJQ1Er0IGMokcDsKFJS0MH7lWubElSMEIHoSNJO2EcKlAWBQgdZakpWT6L6uVAbpMARZI4spKns7IGHemSjY9N6CB0xLcSxqAC5VFg3bp1atU329Sxv/2u6Fg494uqu7u7PAWusZwW1csBmZMARZI4eVQZoSNAZToHc8c5WED18BIVKKUCS5cuVU0316s5MyaKjoZRw1RXV1cpy17tmS6ylwPaJgGKJHHyqCdnoYO7zHKX2Tw+AEyDCuSlAIdX8lI6/3SK7OVAaZMARZI4eSjnLHRga/pdu3aJjk2bNqnm5maRLdI0tUcDxNby0vx3dHQoHFJ7pI08mNgfPnw4j/bHNKhAzShA6KjOqi66lwOqJgGKJHHyqCFnoYNzOjinI48PANOgAnkpQOjIS+l80ym6lwOlTQIUSeLkoRyhI0BlzungnI6AZsFLVMBIAUKHkXxOGrvQywFhkgBFkjh5iJwpdKCQb7zxhlcOLJvVr5MUjD0d7OlI0k4YhwqURQFCR1lqKnk+XejlQG6TAEWSOMlLLo+ZKXQANHQgdGgl4s/elxP3XokXijGoQIkUIHSUqLISZNWVXg5kNQlQJImToNjGUYyhQ3sY1Y7BKkEDOcQ1fT/JZm+wYU8HezrQDiZNmqQmNFyuJt98pegYdsUAI/vBl35ClK7Ob9H2KL/OS9ozdIf+DHYUIHTY0dGVp7jSywE9kgBFkjh5aGsFOvwggddBwyjs6UhenezpuKAVdkg99tq9Sr31gOiYc/dwI3v8o5amDbui7VF+af6hO/RnsKMAocOOji48xaVeDuiRBCiSxMlDWyvQgV1ldUDB/O/1dUKHViL+TOi4oBGhwwx6CB0X2lIWr06dOqXweT137lzs4wkdsRKVJoJLvRwQLQlQJImTRwVkAh0oXGUgdFQqEv6e0HFBG0IHoeNCa3DvFVa6Yei4vr4+Fj4IHe7VnyRHrvVyoAxJgCJJHIkeaW0IHQGKccmsO0tmCR3lgI7Ozs7z87b0/K1aPDc1NakzZ84EfKsoD0o2rG5X6h9/JDo6v9HiOfwLfDgv5qaAa70cKHgSoEgSJw8Rc4MOTDgNGnYJKyQnknIiKdoGoaMc0BH2Oa7267qnY8iQIZ4XYPwKDgvs6QhTpjzXXezlgHpJgCJJnDxqIjfowORS/PLxTzqNKiChg9CB9kHoIHREfU8Ufe/kyZOxsKHzSOjQSpT37GIvB9RMAhRJ4uRRM8bQkVUmCR2EDrQtQgehI6vvmLyfu3LlSnX/vb+nMMQiOVpvv1Ft3bo172wzvQ8VcLWXA9lLAhRJ4uRR2YSOAJU5p4NzOvQy06KXvJqmz9UrAR/wgi4ROgoS3lKyrvZyoHhJgCJJHEtSRT7GWegYOHCg5yAMPR5pj/HjxyuMsaa10/FN7bFDbl1dnTj9ESNGKBw6P2nPSBt5SGun48N+7969kQ0nr5vs6WBPR15tLet0OLyStcLZPd/lXg6UGvMlsUIUR9jcySRxslPwwpOdhQ78A5QG054KU3tsKY/Z/NLgfTnRDbonH6GD0CH9HLlmR+hwrUaS58flXo7kpXAjJqEjoB4IHRxe4fDKA54nV0BfGcPtt9/uzQdC/iVHFu7fCR1lbElKud7LUTZVc4eOpEtn2dPBiaT4MLGngz0dki/ViRMnqp/94jXxMWHCBEmykTaEjkh5nL3JXg67VUPoCNCTPR3s6WBPR7l7OvCj5e3fvCU+TH70BHyleJcIHWHKuHudvRz26yYVdMDPhp4B+8477ygc2uug3/8GJrPoeLiP3g0EnHV8nKOCyYfeFBpM7TmnI6pm092bOXOm2v0Xd3ld/diALO3R1vxZI/vxN16eOk1/Hou2R/n9+UnzGrpD/zIGQkcZa829PLOXw36dRP/nr0gPoACY0MG/oyyua7jQs2h1PNgBUBA4vKJVCT97v4gcnUi6du3aRJtbhZcu3R10k+MfJ5Z+So76qz+t2pqvEdkivSGD/oPY1gV7lF+iG2ygO/QvYyB0lLHW3MozezmyqY/U0KGzAQ+jGjL0Nd3bAejwb2+PePo9oUOrFX52GToaGxtVT09PeOYt3+GcDs7pkDQpQodENdr4FWAvh18Ne6/F0IE1v/6hEv0aWQuCDr12mNARX3kuQwcgYMuWLfGFsBSD0EHokDQlQodENdpoBdjLoZWwfxZDR1BPh84eoaN6/XSsWLHCyAeJbiNJz4QOQkfStuKPR+jwq8HXaRVgL0daxZLHF0MHkvDP1cB7PdwSBR2Y++GfFxKWVXxpSIPpRFBT+2qeSLpt2zbV1tYmrZrUdoQOQkfqRqOU542Xq1ckytGGvRzZtgEj6EBvhx5WwVmHKOjwr3jR8YPOhA43/XQcOnRIjR49OqjKMrlG6CB0SBoWezokqtEGCrCXI9t2cIEUsk0n9dMJHW5CBypywIABqetTakDoIHRI2g6hQ6IabdjLkX0bIHQEaMzhlWjnYNhMDj0eeQRCB6FD0s5chI6lS5eqppvr1ZwZE0VHw6hhqqurSyJHbjbHjx9XmzZtUhhilhzbt29Xu3fvzi2/lQmxl6NSEfvvCR0BmhI6oqEDDqMwtyOPQOggdEjamYvQ8e6776qDBw8qfL9IjgMHDqjTp09L5MjNZuvWreq2O7+ovvfDFaLjjxc9oObNm5dbfv0JsZfDr0Z2r52FDm5t7+7W9thBF6tY8giEDkKHpJ25CB2ScpTNBr0bX1+yQOx+/oWXNua6Os6vL3s5/Gpk99pZ6MCXhjSY9lSY2lfz6hXUCfx05OUem9BB6JB8DxA6JKqZ25QVOtjLYV73SZ9A6AhQitARPbwCj6SY15FHIHQQOiTtbOjQoWpC083iY/DgwZJka96mrNDhWi/Hb/7PObX1jV+rp189oTr+8qia8+NfeWe83/bmKYX7ZQ2EjoCaI3REQ8e5c+dyW8FC6CB0BHxEYy+xpyNWokwilBE6XOrl+Nf3/92DjfufO6RmrT8YegBCACX/8tv3M6nHLB+aGXTAb4feb6XSb0eSAnF4xd0ls6g/+OoAnGUdCB2EDkkbI3RIVDO3KSN0uNLLcfZf/00tffHvQ0EjCEIe2XJUwa5MITPo8ItA6PCrEf/a5b1XdO6nTZumsLwt63DHHXeoVY+OVxtWTBYdTeOGqFWPfl5kizRHXDNQbOuCPcov1Q66Q/8yBkKHea3t2bPHW/aa5kllgw6Xejl+uOudVMChIQRDLmUKmUEHdpyF91EAh/ZaqnehTSIQezrc7ulYsmSJWrVqVZKqNIpD6DCDHkLHW6KVFCbfP0YN3iFj/PjBdze0AEwkCWWDDld6OV4/8hsRcGjw+NnRf05SPU7EyRw6UEr2dKSr6zL0dMABEIY+sg4cXuHwiqSN5dHTgaXj+gdVLZwXLVoUWxVlgg6Xejl+9H//TyPogH1ZAqEjoKY4kTR6Iikk279/v2psbAxQz+4lQgehQ9Ki8oAOSb7KZKN7OrBSLakzwDJBhyu9HGgTizb/nRF0wL4sgdARUFOEjnjowK+EPPZgIXQQOgI+orGXCB2xEsVGAEAkhQ39sLJAh0u9HNDOBnRgRKFIF/K6DcSdCR0BChE64qEDstXX16uTJ08GKGjvEqGD0CFpTYQOiWrmNmWBDpd6OaC6jeGVSZMmqSuuuELBpYHLIRfoePzxx9Urr7ySSgd8aUiDKTSY2uODh/FeaSjDnA6UraWlRe3YsUNazER2hA5CR6KGUhGJ0FEhSE5vywAdrvVyoGpMJ5LCHkPe/fv3V4sXL86ptmXJ5AId8NeBiVZcvZKsksoCHWjc+MWQZSB0EDok7YvQIVHN3KYM0OFaL4dW/cmfvi2a1/Hn3W/rR6jPf/7z6pJLLnF6mCUz6DivgvAFezrcXjKLagUczZ8/X1jDycwIHYSOZC2ldyxCR2898nqHVW3jm272Nn3Dxm9pj7b7pqv29vbMsutiL4curA3nYNgX69prr1V1dXXqzJkz+tFOnZ2FjvHjx4u2f8bQCCbTtLW1FWaPD97ChQvF6cP/BQ6URXIgbeRBYgsb2B89ejS2oe7bt0+hnrIMhA5Ch6R9uQYdx48f9z6T6AmQHHDEV4ZJgq6X09VeDt3GTd2gYz4H9h3C/7/Zs2frxzp1dhY6xo0b5/mBwD+dtAd2QJ04cWJqO52Oqf306dPVlClTxOnDIRYOnZ+0Z6SNPKS10/Fh/9Zbb8U21NOnT6uBAwfGxjOJgDwde+1epd56QHTMuXu4kf3km83+6Rdtj/JLtYPu0L+MwTXowI+AkY2fU23zbxcdt9x1U6Y9AGWs47R5drmXo7IsJhu+rVixQsFj9IgRI7wdwSufXfR7Z6GjaGGYfjIFhgwZok6dOpUssiAWocMMemoVOvCj42e/eE18TJgwQdBaw03QuwHgeOHAk6Kj89kHjSanh+esdu643sthqybwYxDuDF5++WU1aNAgdeKEW27SCR22arpGn9Pc3JzYRbJEIkIHoUPSbq655hp1z313i49hw4ZJkg21IXSESpPLjTL1ckAQk54O2GOuHbaqWL58uefGPheREyZC6EgoFKMFKwDXyGvWrAm+aeEqoYPQIWlGrg2vEDoktWjPpiy9HKZzOrRiPT09Xi8HJpNi3l0e+2TptOPOhI44hXg/UoG1a9eqBQsWRMYxuUnoIHRI2g+hQ6JaddqUpZfDxuoVfw1OnTpVrV+/3ltQgGEW+PFwIRA6XKiFEucBM+rxBZ9VwKTWhe2jVeeCcaKj4fpLjezrPvMpUbo6v0Xbo/w6L2nP0B36lzEQOoqpNXwfYMkrnCNKDqycQ6+EzVCWXg7bW9vDhT32zUEAfIwePVoBwIoOhI6ia6Dk6WMSKSg6q4BVNFi+K13+++abbxrZ7927V5w28ly0Pcov1Q66J1nFlFXdmzyX0GGintwWS3ux0sab+IrJrymP9kdbvSX78hz0tixLL4epR9Kgre2xfBb+OvRSa6xoSbJTcG8F7b8jdNjXtOaeCOjAjGkGKuCKAoSOYmrCtbkrZenlsLH3SlCNYy4HfHYg4AciVhvu3LkzKGpu1wgduUldvQnhC37Pnj3VW0CWrHQKEDqKqTKXoKMsvRyoKRu7zAbVuF4+q5fNoicKzsOydHMQlA//NUKHXw2+FimAiaSYUMpABVxRgNBRTE24BB1l6eVATdmAjnvuuUd9+9vf7lPxevmsvoHva937oa/leSZ05Kl2laaFJbMujBVWqbwslkABQodAtBAT/KBIOnzqCnSUqZcDstsYXnnsscfUxRdf7O3+7e/J0Mtn9SRSLKOFt1JMLi0iEDqKUL3K0sT29nASxkAFXFGA0GGvJjAZEdsdYDVKHHy4Ah1l6uVATZlOJIU9Jo5i+xBsgYG5GxhK0UEvn9XvsW8W6hSTzPMOhI68Fa/C9E6ePOk18iosGotUUgVqFToABv369cvswD+zQ4cOhbYKF6CjbL0cWkwbW9sDJjBnA5NF6+vrPc+k6NnwL5/V6cFbKRyHxx/rpQAAGmBJREFUAVbyDISOPNWu4rRAza5upVzFsrNoIQrUKnSEyGF0GT0d/fv394ZQ8QMjKrgAHWXr5dB62nIOhqFuzOPA9zHOgI/XX3/dO/tXrgA2AB2AjzwDoSNPtas4LTReUDYDFXBBAdego8y7zGLX0jjY0HVeNHSUtZdD62fDDTpgA70dekUhhlnQQ3Xbbbep1tZWnZR3xvAKfjDquL1uZvSG0JGRsLX2WBD1hg0baq3YLK+jCrgGHa45zcqq2oqGjrL2clTWh+mGbxhOgQdSPXSCiaW33367+tjHPqZeffXVXsnhexu9IXn1VBM6esnPN1IF4IRm8eLFUnPaUQGrCtxwww3qez9cIT5GjRplNT9F/zO2WpiIhxVZzrL3ckTIKroFD6TopfIHwPgnP/nJPpt0YgktfjjmEQgdeahcA2ngl1xLS0sNlJRFLIMChI5iaqlI6KiWXg7UnGlPB54Bh2DwFu1foYJJwJ/+9KfVzTff7H1f62Ez9IRgSAY9JFHhvbPvq5/891PqB6+dUEtf/Ht1/3OHVMdfHlVPv3pCbX3j1+rX7/1rlLl3j9ARKxEjJFEADRtddAxUwAUFXBteKfKfcZ71UVQ5q6WXw8acDn99A8Qq3Rng/TPPPONNIMVcDw0acH0ASNEg4n8O8gXY+GrXYTVr/cHQY86Pf6U27/1f6l9++77fvNdrQkcvOfjGRIEBAwY4sYuhSRloWx0KEDqKqceioKMaejlsrV7x1zzmdDQ2NipMZNYBvdKY74GAyf9wFDZnzhxvTge8lVZCyvv/9u+q86/+RyhoBEHII1uOhoIHoUPXBM/GCqBx79+/3/g5fAAVMFWA0GGqoMweXi4vu/ISNbKxXnTUXfeZPisskuQEy0TL/t1je2t7rZv23eF37IZeab18FhNIARtYGv3Xf/3XHoTAy7QO6/+f/5kKODSErNzxDwrAUhkIHZWK8L1YgdmzZ/ciavGDaEgFDBUgdBgKSPNcFTD1SBq0tb2/ANp3h74W1DOEHhDM6/jKV76i0GuN+R897/xvEXBo8Nh1uO/u44QOXQs8GyuAmdJLliwxfg4fQAVMFSB0mCpI+zwVsLH3SlR+K313oNcjyA06JpRiJcsVV1zh9Xg89/oJI+iAl9XKQOioVITvxQpgQhKWaTFQgaIVIHQUXQNMP40CNnaZjUuv0ncHhlTC3Bw8++yz6nd+53fUZ29sMoIOTDytDISOSkX4XqwAuuMwKYmBChStAKGj6Bpg+mkUsAEdf/Inf6KwvT3239EHep4xSVQfV111lbcpHDaAw7LZiy66SH3hC19Q+Lxgcinmdejjd3/3d9VHP/YxNfOHb4rBg9CRphUwrkgBjAVqL3iiB9CIClhQgNBhQUQ+IjcFbAyvfP/73/f2yIHnUQ0da9eu9TxFw+sojieffFJdfPHF3tw7rDSaMGGCeuSRRzxfHnB7oI8nnnjC6+n4+Cf+gxg4MK+Dwyu5NaHaTaihoUH19PTUrgAsuRMKEDqcqAZmIqECphNJYY+A3mb0VGDiaNiPP0wiRU8HAnxz+HunMacDS2avvfZa9fGPf1w9/t2njKDjpwf/yUvH/4fDK341+NpYAUxC2rJli/Fz+AAqYKIAocNEPdoWoYCNre2Rbzj3gvsCfBcH7aeifXds3LjRKyagA/Cxe/dub/XKvHnz1ODBg9Wll17q+V2S9sKseOU4l8wW0ZBqLU3drVdr5WZ53VKA0OFWfTA38QrYdA4G2MC2FE1NTYEeRuG7A95IsYoFPjkAHniPZbOAFfjxwH5aCHQOFl93jFGgAujlQKNloAJFKuAadJg6zbpa6DSryDpg2ukVsOkGHT0a2MQNQHHkyJE+mcEQDHwr3Xrrrd6EUvR0oPfj+uuv99yh+52J0Q16H/l4wRUFMJ9Du9h1JU/MR+0p4Bp0FOUevPZqvjpKbGPDN60E/CehF2PPnj36knf+6U9/6m11D/B46KGH1Ny5cz3YwI/GsKW03PCtl4R844ICoGusYGGgAkUqgF93X1+yQHzY3ryQ0FFka2Da2HsFzsD05m4aRL71rW95PSGHDx/2ejuwxBbxgjZ9s6UiJ5LaUpLPOa8AvvAxi5qBChSlwMSJE9XPfvGa+MBSQpuB0GFTzep/ls2eDq0Whk8uueQSdd1113lzPU6cOOHdgkNHzP+AXw4st4VPjywDoSNLdWv02WjEmqhrVAIWu2AFOLxScAUweZECNud0VGYAG7xh63r46Xj00UfP3waMfPSjH1Xf+c53vOGWrH8wEjrOS88XthRAFx2670wDJjIdOHDgvMMa7bgm6fngwYMKR9L4lfGQNrodK68nff/mm2+qo0ePGtknTSso3t69e8Vp43nIf1kDoaOsNVe7+ba5esWvIoa8saoQm7lhaaxeUjtz5kxvSez48ePV3XffrYYPH64+9alPeXH89rZfEzpsK8rned7u0KBNQ1dXlxo15np1z313i46bxo9TOKT2SHvy1Eli+7prrlZ3tjYb2UvzDrvLLh8kThv2w4YNM63CwuwJHYVJz4SFCmSxtT0AA47AcPjnaegltXAkhiGVs2fPes7AbrvtNm+oRViERGaEjkQyMVIaBfbv36/gmdQ0YBwckwHf/s1bouN7P1yhcEjtkfYLL20U2+MfN+YVSNOHvdQWdhOabjayxz/usgZCR1lrrjbzbeqRNGhrewynoHcDvRzo7agMP//5zz236Zg0/fTTT6sxY8aoyy+/3Bt+CVpiC3v0xrz6q/9PPfc3J9W3XzqusGdM51/9D/Xj1/9R7ej5J4XVLXGB0BGnEO+nVgAUbWMFC6GD0JG68X1oQOiQKke7IhSQev3E/iY4YK+DfzgF4BEU0LOBH4bwq7R8+XJvnxXsywLfHXB5gLM/wEHYrsOn1YP/5a1It+jY4O0n//2UwtyUsEDoCFOG140UQLcd5gWYBEIHoUPafggdUuVoV4QCNnaZRb7DhlMqywQ/HNqJI+Z5oIcDS2VffPFFz6cHfjRq52AADrg014CT5Nzxl0e9XpHKdPGe0BGkCq8ZK4AlWHCpaxIIHYQOafshdEiVo10RCtiAjoULF3o9Fuip+OY3v+nNrcNQd+X+K1itgh+FGiow3wMec/F9C/D42te+5k0o/d73vudJgaGTJKBRGefPu9/m3itFNKZaTRMkrX33SzUgdBA6pG2H0CFVjnZFKGBjeGXz5s0ePGDIBKsH4WkUG7+h1wJzO7B7LDZzg6+OP/3TP1Xw0wEogbdSDLcgYLks4mISOeL1vPO/RcChAQRDMpWBPR2VivC9FQU2bNhg7GSG0EHokDZGQodUOdoVoYDpRFK9tX1Y3jHsgvkd2AAOPSEAEMDFRRddpK644gqF1YaYcArPpa+++qq3/8pHPvIR9UeP/mcj6MDOuZWB0FGpCN9bUQB+/kHZJoHQQeiQth9Ch1Q52hWlAIYjdA9BmvPKHf8QOIxRWQ4Md2NYRQ+3YIUKtq9/7bXXPNhYtmyZN88DUNK/f3/PUdhHPvJRUZ50/jGxtDIQOioV4XsrCmC8EOODJoHQQeiQth9Ch1Q52hWlAJajPrLlaKp/8pgLkmSZ6qlTpzzgwHwOHbBCpXKVir6HFTCAkI9+7HdU2+q/SZUnDRw4Ezq0ojznogDGCv0OadImSuggdKRtMzq+a9DBre11zfAcpcC//PZ9tXHPSfXlZ38V+Y8e9+ErA3u0JAmVO8cCQjDXI+j7GatZ0Ntx2WWXqdE3fSEyH37ACHrN4ZUktcM41hTAuCEasDQQOggd0rbjGnSgLbfNv129cOBJ0dH57IPemLtUD9qVS4F3//m36i/+27sKQyfaNwbOeI/ruJ80YJ4GfHLoyaKww/yNyo3dMKkUK1ngLOyBBx7wbP7m0Ekj6PjpwX/qk00Or/SRhBdsKYCuu9WrV4sfR+ggdEgbDybJwSOr9Bg8eLA06UA7QkegLLyYsQJYoYJN3gAUOgA+0AutryEOAATx8H39+uuve6+1V1Lpyhr49oCPj8pA6KhUhO+tKbB27Vo1f/588fMIHYQOaeNhT4dUOdq5oACGWdBLAB8ZcDPudzeO67ifJMBfUuXmm2vWrPH2V8G8O8zbwNw7bNKJ9xhuwWRTfw81wAF5CBo+CbuGuSlheSR0JKk5xhEpAGjADobSQOggdABctROjNO2I0JFGLcZ1RQH8g8ceJpiAGfYPHddx/6Vf/L+R7sYBF/j+9e+7gtef+9zn1EMPPeT1ZqCHAz0dCLiHzw2GXioD3JrDvXlcvub8+Fdq897/FQoceC6ho1JdvremACYroctOGrDEq+2+6d6ma9h4Le3x4KKvKhxp7XT8e+6brjpXLBXbT/7iJPWDZ580std5kZxHjRkhThvpjR07Vlp11uzwqwu/xOBozj8mHZcAoSNOId53TQH8Y/+z7cciYaMSRJa++PeB7saxBQWGUPQQiS7rI4884u0mi7kbenhF31uwYEHsDrNYKQP4+MFrJxTSvv+5Qwouz59+9YTa+sav1a/f+1f9uNAzoSNUGt6woQCgA/AhCZgANb7pZm+nWez4mva47c4vKhxp7XR8pA3o0e/TnkeOuV7d/8ftRvZp0/THH3rVZ8Rp4zmYUJY04NdRv379Mj0AIEn38yF0JK05xnNFAenW9rDzB/RYoIcDPR06wG8SHIN94hOf8LyR6uv6vHHjRu/zrn146OtZnAkdWajKZ55XAF/+GCaRBA6vcHgFoAFHRZiUHLS8L6xdETrClOF1FxUw9Ujq39oevYJYOYiAng54G8XE6o6ODm9oxT/cgjjo8UCvSE9PTy7SEDpykbl2E0GXnZ+40yhB6CB0YBJcGtjQ7YvQoZXguQwKSFeI6OEWvbU9AAK9ywcPHvRAHa/xGcLQJCaVYo6UP2C+FMAe+7XkFQgdeSldo+lgCRbAQxIIHYQOSbuBDaFDqhztilDAxi6z6MG44YYb1KxZszzwQO+gHtrWvRn+eVGIjx4RbM6ZZyB05Kl2DaaFpVf4ByAJhA5Ch6TdwIbQIVWOdkUoYAM6pk+frj75yU96wymVE0ixSmX58uW9ioblsphQWjnc0itSBm8IHRmIykdeUABd4xgvlARCB6FD0m5gQ+iQKke7IhSwMbzy/e9/v5d/DV0OLImFy3P/0vNt27Z58zwkQ5f6udIzoUOqHO0SK4Alj/4Gn9SQ0EHoSNpWKuMROioV4XuXFTCdSBq1tT2GWXDocOjQIW/4Zd++ffpSrmdCR65y12ZiWL6FJVtpA6GD0JG2zej4hA6tBM9lUQCbo+mJoWnOf979dmgR8WMPP/r0UnMsiR0xYoTCBoRFBUJHUcrXULpz587tM2s6SfEJHYSOJO0kKI5r0AFHd7fcdZPyNm7D5m0pj/ZHW9XChQuDisprVaIAtraHw600wAF347ALC1i5Mnv27PO3sdssvo+LDISOItWvkbSxbtzfvZe02IQOQkfStlIZzzXogKO7kY2f83aaxW6zaQ8AS3t7e2Ux+b7KFIBXUnj2hKfPKPiAu3HEC9vfBLJUbuyGiaSNjY25TxytrCJCR6UifG9dAfzK085q0jyc0EHoSNNe/HFdgw60ZW5t768hvo5S4Df/55wHFXAvDjfjgAztbnzbm6cU7scFDKHo712sIoSDML3PSpxtlvcJHVmqy2d7CmA8EQ0+bSB0EDrSthkdn1vbayV4rlUFsI0BvkP1Pix47UIgdLhQCzWQByzZSuvXn9BB6JB+NNjTIVWOdtWgAJbENjQ0eN+5OGOI25VA6HClJqo8HxhLTLtEi9BB6JB+LAgdUuVo54ICpsMrWDEI1+ZwCuafSOpC2QgdLtRCDeQBmw5t2LAhVUm5y+z1RrvE5rnLbKqKzSEyoSMHkZmEdQVsTCTdvXu3t2Ps008/rUaPHp26h9l6oSoeSOioEIRvs1EAS7fS+vg/fvy4Anigx0NybN26VeGQ2MIGaWMSrNS+q6tLdXd3G9lL04YdJpKZ2D///PPZNIYcnkroyEFkJmFVAVtLZqdNm6YeeughzwFYpTt0qxkWPozQIRSOZukUwBgjdjlkoAJ5KEDoyENlpmFTgR/ueidymWzYElqscNEB3kYvueQSdfnll3s/mPR1l86EDpdqo4rzgg8DZlMzUIE8FCB05KEy07ClgKkb9J8d/WcvK1/+8pe9lYKdnZ22smb9OYQO65LygWEK9O/f33NYE3af16mALQUIHbaU5HPyUMDGhm/YvO3jH/+4mjJlSh5ZFqdB6BBLR8O0CmBS0/79+9OaMT4VSK0AoSO1ZDQoUAEbW9vDEZh0c808i07oyFPtGk8Lfv8xOZOBCmStAKEja4X5fJsK2IAOTCB9+eWXbWYrk2cROjKRlQ8NUgDjjEuWLAm6xWtUwKoChA6rcvJhGStgY3gl4yxaezyhw5qUfFCcAnBWAxpnoAJZK0DoyFphPt+mAqYTSWFflkDoKEtNVUE+e3p61IgRI6qgJCyC6wq4Bh3wF9P4H0erP/6ze0VH61e+qObNm+e67MyfgQJ/3v22aMnsyh3/oN7/t383SDlfU0JHvnrXdGrnzp1TF110UeFbK9d0JdRI4QkdNVLRVVRMOAd7ZMvRVOCBuSDvnX2/VCoQOkpVXeXPLHo60OPBQAWyVAB7/bzw0kbxMXbsWKvZg2dYbm1vVdKqfNi//PZ9tXHPSfXlZ38VCR+4/9zfnEy0xb1rQhE6XKuRKs8P5nRgbkeSQDfoXUZuzGvZDTrg9utLFogP247sCB1JPvGMoxV4959/q/7iv72rMHTy4H95ywMQnPEe13G/rIHQUdaaK2m+sXolqbc8LK8d2fg57xcifiWmPTCGjiOtnY6PtG+56yaxfd11V6rfn/UFI3udF8n5sisvEaeN9Gz/482zybo2vELoyLP2mZbLChA6XK6dKswbQAL+OpIE0y9qPWnvhQNPKsmBf7ydzz4oskV6k1tvUj/YsczIXpJvbTOysV6ctpf/yZOTVJOTcQgdTlYLM0UFFKGDjSBXBfbt2+dtt5wkUULHTUbQQOh4S739G9kBaLEZTNsy4DdpD6HNfPNZVMC2AoQO24ryeZEKnDlzRmEPliTB9IuaPR3s6SB0JPmkMQ4VyE8BQkd+WjOlDxWoq6tT2HU2LhA62NMR10bC7nN4JUwZXqcCxSpA6ChW/5pMvaWlRW3bti227IQOQkdsIwmJQOgIEYaXqUDBChA6Cq6AWkx+8eLFasWKFbFFJ3QQOmIbSUgEQkeIMLxMBQpWgNBRcAXUYvLwHzFz5szYohM6CB2xjSQkAqEjRBhepgIFK0DoKLgCajH5PXv2qIaGhtiiEzoIHbGNJCQCoSNEGF6mAgUrQOgouAJqMfnTp0+rAQMGxBad0EHoiG0kIREIHSHC8DIVKFgBQkfBFVCryQ8ZMkQdO3YssviEDkJHZAOJuEnoiBCHt6hAgQoQOgoUv5aTbm5uVtu3b4+UgNBB6IhsIBE3XYOOrq4uBbf48FIrORp+b4SaMWNGRIl5iwqUQwFCRznqqepyuWjRIrVq1arIchE6CB2RDSTipmvQ0d3d7e3DA7f4kmPhyj9UHR0dESXmLSpQDgUIHeWop6rL5Zo1a9ScOXMiy0XoIHRENpCIm9xlNkIc3qICBSpA6ChQ/FpOGkDR2NgYKQF3mb3SaJfYWt5ldvPmzQptTHo8//zzkW0z7U1TgObeK2kVZ3xXFSB0uFozVZ6vU6dOqYEDB0aWEnM+sLW894WLDa9SHq1f+aLCkdZOx0fa7Y+2iu0xDo9ucf28tGfYp7Xxx7/6us8Y2Y8dOzayfngzuQKEjuRaMWZ1K0DoqO76dbp0gwYNUidPngzNo+kXNTd8q90N30IbVUE3TNuyB5OdnQXlnslSAXsKEDrsacknpVQAk/127NgRamX6RU3oIHSENq6cb5i2ZUJHzhXG5DJTgNCRmbR8cJwC8+fPV6tXrw6NZvpFTeggdIQ2Lks3MEy4YcMGde7cucgnmrZlQkekvLxZIgUIHSWqrGrLKoAD4BEWTL+oCR2EjrC2Zes6HNz169dP1dfXR8KHaVsmdNiqMT6naAUIHUXXQA2nj6GVtra2UAVMv6gJHflBR2dnp/fPF/+Aa/loampSZ86c6dOmTdsyoaOPpLxQUgUIHSWtuFrItukXNaEjP+iohfYYVEbd0wG3/ui5O3v2bFA0b+lu2/zb1QsHnhQdhI5AWXmxhAoQOkpYabWSZUIHnYO53tax+ioKNnT+TdsyoUMryXPZFSB0lL0Gqzj/pl/U7OlgT4crHw/TtkzocKUmmQ9TBQgdpgrSPjMFTL+oCR2EjswaZ8oHm7ZlQkdKwRndWQUIHc5WDTNm+kVN6CB0uPIpMm3LhA5XapL5MFWA0GGqIO0zU8D0i5rQQejIrHGmfPD69esV9sIZ2VgvOuDSvrW1NWWqjE4F3FOA0OFenTBHHypA6OBE0mr5MJi2ZfZ0VEtLYDkIHWwDzipg+kXNng72dLjSuE3bMqHDlZpkPkwVIHSYKkj7zBQw7ZK+8rODFQ5plza6w+uu+4zYfuCgT6lrb7jayF6ad9h98lOfEKcN+8GDB2dWt7X2YEJHrdU4yxumAKEjTBlepwJUgApYUoDQYUlIPqb0ChA6Sl+FLAAVoAKuK0DocL2GmL+8FCB05KU006ECVKBmFSB01GzVs+AVChA6KgThWypABaiAbQUIHbYV5fPKqgCho6w1x3xTASpQGgUIHaWpKmY0YwUIHRkLzMdTASpABQgdbANU4AMFCB1sCVSAClCBjBUgdGQsMB9fGgUIHaWpKmaUClCBsipA6ChrzTHfthUgdNhWlM+jAlSAClQoQOioEIRva1YBQkfNVj0LTgWoQF4KEDryUprpuK4AocP1GmL+qAAVKL0C3d3d6o5ZX1A/2LFMdCxc+Yeqo6Oj9DqwAFSA0ME2QAWoABXIWIGXX35ZTZkyRc2ZM0d0TJ8+XS1ZsiTjXPLxVCB7BQgd2WvMFKgAFaACVIAKUAGlFKGDzYAKUAEqQAWoABXIRYH/H05OAdL7gMVyAAAAAElFTkSuQmCC)"
      ]
    },
    {
      "cell_type": "code",
      "metadata": {
        "id": "1iW_NGJR0tJP"
      },
      "source": [
        "from tensorflow.keras.models import Sequential, Model\n",
        "from tensorflow.keras.layers import Embedding, Dropout, Conv1D, GlobalMaxPooling1D, Dense, Input, Flatten, Concatenate\n",
        "from tensorflow.keras.callbacks import EarlyStopping, ModelCheckpoint\n",
        "from tensorflow.keras.models import load_model"
      ],
      "execution_count": null,
      "outputs": []
    },
    {
      "cell_type": "code",
      "metadata": {
        "id": "9d8Y_lNd4jFf"
      },
      "source": [
        "# 하이퍼파라미터 정의\n",
        "embedding_dim = 128\n",
        "dropout_prob = (0.5, 0.8)\n",
        "num_filters = 128"
      ],
      "execution_count": null,
      "outputs": []
    },
    {
      "cell_type": "code",
      "metadata": {
        "id": "lGlI2CZt5E41"
      },
      "source": [
        "# 모델 설계 (Multi-kernel 1D CNN) _ Function API\n",
        "model_input = Input(shape = (max_len,))\n",
        "z = Embedding(vocab_size, embedding_dim, input_length = max_len, name=\"embedding\")(model_input)\n",
        "z = Dropout(dropout_prob[0])(z)"
      ],
      "execution_count": null,
      "outputs": []
    },
    {
      "cell_type": "code",
      "metadata": {
        "id": "VIfSXePd5n7y"
      },
      "source": [
        "# 3, 4, 5의 크기를 가지는 커널을 각각 128개 사용\n",
        "conv_blocks = []\n",
        "\n",
        "for size in [3, 4, 5]:\n",
        "    conv = Conv1D(filters = num_filters,\n",
        "                         kernel_size = size,\n",
        "                         padding = \"valid\",\n",
        "                         activation = \"relu\",\n",
        "                         strides = 1)(z)\n",
        "    conv = GlobalMaxPooling1D()(conv)\n",
        "    conv = Flatten()(conv)\n",
        "    conv_blocks.append(conv)"
      ],
      "execution_count": null,
      "outputs": []
    },
    {
      "cell_type": "code",
      "metadata": {
        "id": "MydnjyJw6aTc"
      },
      "source": [
        "# 각각 maxpooling한 결과를 연결(concatenate)\n",
        "# 이를 밀집 층(dense layer)으로 연결\n",
        "z = Concatenate()(conv_blocks) if len(conv_blocks) > 1 else conv_blocks[0]\n",
        "z = Dropout(dropout_prob[1])(z)\n",
        "z = Dense(128, activation=\"relu\")(z)\n",
        "model_output = Dense(1, activation=\"sigmoid\")(z)\n",
        "\n",
        "model = Model(model_input, model_output)\n",
        "model.compile(loss=\"binary_crossentropy\", optimizer=\"adam\", metrics=[\"acc\"])"
      ],
      "execution_count": null,
      "outputs": []
    },
    {
      "cell_type": "code",
      "metadata": {
        "colab": {
          "base_uri": "https://localhost:8080/"
        },
        "id": "NMfwUakU6l39",
        "outputId": "48c860df-a58c-4f25-e0f0-013aa53cc975"
      },
      "source": [
        "es = EarlyStopping(monitor='val_loss', mode='min', verbose=1, patience=4)\n",
        "mc = ModelCheckpoint('CNN_model.h5', monitor='val_acc', mode='max', verbose=1, save_best_only=True)\n",
        "\n",
        "model.fit(X_train, y_train, batch_size = 64, epochs=10, validation_data = (X_test, y_test), verbose=1, callbacks=[es, mc])"
      ],
      "execution_count": null,
      "outputs": [
        {
          "output_type": "stream",
          "text": [
            "Epoch 1/10\n",
            "391/391 [==============================] - 16s 40ms/step - loss: 0.4855 - acc: 0.7728 - val_loss: 0.3644 - val_acc: 0.8439\n",
            "\n",
            "Epoch 00001: val_acc improved from -inf to 0.84392, saving model to CNN_model.h5\n",
            "Epoch 2/10\n",
            "391/391 [==============================] - 14s 37ms/step - loss: 0.3486 - acc: 0.8524 - val_loss: 0.3240 - val_acc: 0.8647\n",
            "\n",
            "Epoch 00002: val_acc improved from 0.84392 to 0.86472, saving model to CNN_model.h5\n",
            "Epoch 3/10\n",
            "391/391 [==============================] - 14s 37ms/step - loss: 0.2778 - acc: 0.8886 - val_loss: 0.3180 - val_acc: 0.8664\n",
            "\n",
            "Epoch 00003: val_acc improved from 0.86472 to 0.86640, saving model to CNN_model.h5\n",
            "Epoch 4/10\n",
            "391/391 [==============================] - 14s 37ms/step - loss: 0.2313 - acc: 0.9109 - val_loss: 0.3243 - val_acc: 0.8630\n",
            "\n",
            "Epoch 00004: val_acc did not improve from 0.86640\n",
            "Epoch 5/10\n",
            "391/391 [==============================] - 14s 36ms/step - loss: 0.2028 - acc: 0.9245 - val_loss: 0.3389 - val_acc: 0.8598\n",
            "\n",
            "Epoch 00005: val_acc did not improve from 0.86640\n",
            "Epoch 6/10\n",
            "391/391 [==============================] - 15s 37ms/step - loss: 0.1723 - acc: 0.9340 - val_loss: 0.3537 - val_acc: 0.8574\n",
            "\n",
            "Epoch 00006: val_acc did not improve from 0.86640\n",
            "Epoch 7/10\n",
            "391/391 [==============================] - 14s 37ms/step - loss: 0.1566 - acc: 0.9417 - val_loss: 0.3864 - val_acc: 0.8537\n",
            "\n",
            "Epoch 00007: val_acc did not improve from 0.86640\n",
            "Epoch 00007: early stopping\n"
          ],
          "name": "stdout"
        },
        {
          "output_type": "execute_result",
          "data": {
            "text/plain": [
              "<tensorflow.python.keras.callbacks.History at 0x7f0033885350>"
            ]
          },
          "metadata": {
            "tags": []
          },
          "execution_count": 15
        }
      ]
    },
    {
      "cell_type": "code",
      "metadata": {
        "colab": {
          "base_uri": "https://localhost:8080/"
        },
        "id": "cEdUCTO17w2l",
        "outputId": "cd3e9b9b-dac7-4466-8b95-e8d58ef8f786"
      },
      "source": [
        "loaded_model = load_model('CNN_model.h5')\n",
        "print(\"\\n 테스트 정확도: %.4f\" % (loaded_model.evaluate(X_test, y_test)[1]))"
      ],
      "execution_count": null,
      "outputs": [
        {
          "output_type": "stream",
          "text": [
            "782/782 [==============================] - 5s 7ms/step - loss: 0.3180 - acc: 0.8664\n",
            "\n",
            " 테스트 정확도: 0.8664\n"
          ],
          "name": "stdout"
        }
      ]
    }
  ]
}