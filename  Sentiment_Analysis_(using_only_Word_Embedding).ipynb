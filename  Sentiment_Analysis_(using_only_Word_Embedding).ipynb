{
  "nbformat": 4,
  "nbformat_minor": 0,
  "metadata": {
    "colab": {
      "name": "P/N Classification (using only Word Embedding).ipynb",
      "provenance": [],
      "authorship_tag": "ABX9TyNQDw9iver+8I5fAker3rIf",
      "include_colab_link": true
    },
    "kernelspec": {
      "name": "python3",
      "display_name": "Python 3"
    },
    "language_info": {
      "name": "python"
    }
  },
  "cells": [
    {
      "cell_type": "markdown",
      "metadata": {
        "id": "view-in-github",
        "colab_type": "text"
      },
      "source": [
        "<a href=\"https://colab.research.google.com/github/bob8dod/NLP_SelfStudying/blob/main/%20Sentiment_Analysis_(using_only_Word_Embedding).ipynb\" target=\"_parent\"><img src=\"https://colab.research.google.com/assets/colab-badge.svg\" alt=\"Open In Colab\"/></a>"
      ]
    },
    {
      "cell_type": "markdown",
      "metadata": {
        "id": "fcduW1iSBQla"
      },
      "source": [
        "# 워드 임베딩의 평균만을 이용해서 긍부정 분류"
      ]
    },
    {
      "cell_type": "code",
      "metadata": {
        "id": "W_zO7Ud0AjxA"
      },
      "source": [
        "import numpy as np\n",
        "from tensorflow.keras.preprocessing.sequence import pad_sequences\n",
        "from tensorflow.keras.models import Sequential, load_model\n",
        "from tensorflow.keras.layers import Dense, Embedding, GlobalAveragePooling1D\n",
        "from tensorflow.keras.callbacks import EarlyStopping, ModelCheckpoint\n",
        "from tensorflow.keras.datasets import imdb"
      ],
      "execution_count": null,
      "outputs": []
    },
    {
      "cell_type": "code",
      "metadata": {
        "colab": {
          "base_uri": "https://localhost:8080/"
        },
        "id": "eW3crmuPBra7",
        "outputId": "b567ca2f-7724-45e3-b9e0-d54679c4e107"
      },
      "source": [
        "vocab_size = 20000\n",
        "(x_train, y_train), (x_test, y_test) = imdb.load_data(num_words=vocab_size)\n",
        "print('훈련용 리뷰 개수 :',len(x_train))\n",
        "print('테스트용 리뷰 개수 :',len(x_test))"
      ],
      "execution_count": null,
      "outputs": [
        {
          "output_type": "stream",
          "text": [
            "Downloading data from https://storage.googleapis.com/tensorflow/tf-keras-datasets/imdb.npz\n",
            "17465344/17464789 [==============================] - 0s 0us/step\n"
          ],
          "name": "stdout"
        },
        {
          "output_type": "stream",
          "text": [
            "<string>:6: VisibleDeprecationWarning: Creating an ndarray from ragged nested sequences (which is a list-or-tuple of lists-or-tuples-or ndarrays with different lengths or shapes) is deprecated. If you meant to do this, you must specify 'dtype=object' when creating the ndarray\n",
            "/usr/local/lib/python3.7/dist-packages/tensorflow/python/keras/datasets/imdb.py:155: VisibleDeprecationWarning: Creating an ndarray from ragged nested sequences (which is a list-or-tuple of lists-or-tuples-or ndarrays with different lengths or shapes) is deprecated. If you meant to do this, you must specify 'dtype=object' when creating the ndarray\n",
            "  x_train, y_train = np.array(xs[:idx]), np.array(labels[:idx])\n"
          ],
          "name": "stderr"
        },
        {
          "output_type": "stream",
          "text": [
            "훈련용 리뷰 개수 : 25000\n",
            "테스트용 리뷰 개수 : 25000\n"
          ],
          "name": "stdout"
        },
        {
          "output_type": "stream",
          "text": [
            "/usr/local/lib/python3.7/dist-packages/tensorflow/python/keras/datasets/imdb.py:156: VisibleDeprecationWarning: Creating an ndarray from ragged nested sequences (which is a list-or-tuple of lists-or-tuples-or ndarrays with different lengths or shapes) is deprecated. If you meant to do this, you must specify 'dtype=object' when creating the ndarray\n",
            "  x_test, y_test = np.array(xs[idx:]), np.array(labels[idx:])\n"
          ],
          "name": "stderr"
        }
      ]
    },
    {
      "cell_type": "code",
      "metadata": {
        "colab": {
          "base_uri": "https://localhost:8080/"
        },
        "id": "2fkEiTUfBxKm",
        "outputId": "25cb2971-74b3-48bc-a7ed-f575943b93d2"
      },
      "source": [
        "print(x_train[0][:10]) # 이 데이터는 이미 정수 인코딩까지의 전처리가 진행됨"
      ],
      "execution_count": null,
      "outputs": [
        {
          "output_type": "stream",
          "text": [
            "[1, 14, 22, 16, 43, 530, 973, 1622, 1385, 65]\n"
          ],
          "name": "stdout"
        }
      ]
    },
    {
      "cell_type": "code",
      "metadata": {
        "colab": {
          "base_uri": "https://localhost:8080/"
        },
        "id": "YeiesZFOB5l1",
        "outputId": "8aa84ae7-c501-4303-ab5f-2a51db8ecc17"
      },
      "source": [
        "print('훈련용 리뷰의 평규 길이: {}'.format(np.mean(list(map(len, x_train)), dtype=int)))\n",
        "print('테스트용 리뷰의 평균 길이: {}'.format(np.mean(list(map(len, x_test)), dtype=int)))"
      ],
      "execution_count": null,
      "outputs": [
        {
          "output_type": "stream",
          "text": [
            "훈련용 리뷰의 평규 길이: 238\n",
            "테스트용 리뷰의 평균 길이: 230\n"
          ],
          "name": "stdout"
        }
      ]
    },
    {
      "cell_type": "code",
      "metadata": {
        "colab": {
          "base_uri": "https://localhost:8080/"
        },
        "id": "dNLcH5oRCBz5",
        "outputId": "8c80e2aa-ff2a-49a0-b996-94aa0c5bf375"
      },
      "source": [
        "# 400으로 두 리뷰 데이터를 패딩\n",
        "max_len = 400\n",
        "\n",
        "x_train = pad_sequences(x_train, maxlen=max_len)\n",
        "x_test = pad_sequences(x_test, maxlen=max_len)\n",
        "print('x_train의 크기(shape) :', x_train.shape)\n",
        "print('x_test의 크기(shape) :', x_test.shape)"
      ],
      "execution_count": null,
      "outputs": [
        {
          "output_type": "stream",
          "text": [
            "x_train의 크기(shape) : (25000, 400)\n",
            "x_test의 크기(shape) : (25000, 400)\n"
          ],
          "name": "stdout"
        }
      ]
    },
    {
      "cell_type": "markdown",
      "metadata": {
        "id": "Hn6mNfoPCmOv"
      },
      "source": [
        "모델 설계"
      ]
    },
    {
      "cell_type": "code",
      "metadata": {
        "id": "sgkmcNDfCLIO"
      },
      "source": [
        "model = Sequential()\n",
        "model.add(Embedding(vocab_size, 50, input_length=max_len))\n",
        "model.add(GlobalAveragePooling1D()) # 모든 단어 벡터의 평균을 구한다.\n",
        "model.add(Dense(1, activation='sigmoid'))\n",
        "\n",
        "es = EarlyStopping(monitor='val_loss', mode='min', verbose=1, patience=4)\n",
        "mc = ModelCheckpoint('embedding_average_model.h5', monitor='val_acc', mode='max', verbose=1, save_best_only=True)"
      ],
      "execution_count": null,
      "outputs": []
    },
    {
      "cell_type": "code",
      "metadata": {
        "colab": {
          "base_uri": "https://localhost:8080/"
        },
        "id": "FIt7QNvDCn-U",
        "outputId": "785f86f5-56d1-4f5a-f1ae-582b15c225d5"
      },
      "source": [
        "model.compile(loss='binary_crossentropy', optimizer='adam', metrics=['acc'])\n",
        "model.fit(x_train, y_train, batch_size=32, epochs=10, callbacks=[es, mc], validation_split=0.2)"
      ],
      "execution_count": null,
      "outputs": [
        {
          "output_type": "stream",
          "text": [
            "Epoch 1/10\n",
            "625/625 [==============================] - 11s 16ms/step - loss: 0.6357 - acc: 0.7131 - val_loss: 0.5449 - val_acc: 0.7666\n",
            "\n",
            "Epoch 00001: val_acc improved from -inf to 0.76660, saving model to embedding_average_model.h5\n",
            "Epoch 2/10\n",
            "625/625 [==============================] - 10s 16ms/step - loss: 0.4514 - acc: 0.8483 - val_loss: 0.3967 - val_acc: 0.8654\n",
            "\n",
            "Epoch 00002: val_acc improved from 0.76660 to 0.86540, saving model to embedding_average_model.h5\n",
            "Epoch 3/10\n",
            "625/625 [==============================] - 10s 16ms/step - loss: 0.3368 - acc: 0.8873 - val_loss: 0.3349 - val_acc: 0.8772\n",
            "\n",
            "Epoch 00003: val_acc improved from 0.86540 to 0.87720, saving model to embedding_average_model.h5\n",
            "Epoch 4/10\n",
            "625/625 [==============================] - 10s 16ms/step - loss: 0.2771 - acc: 0.9053 - val_loss: 0.3056 - val_acc: 0.8834\n",
            "\n",
            "Epoch 00004: val_acc improved from 0.87720 to 0.88340, saving model to embedding_average_model.h5\n",
            "Epoch 5/10\n",
            "625/625 [==============================] - 10s 16ms/step - loss: 0.2377 - acc: 0.9190 - val_loss: 0.2886 - val_acc: 0.8884\n",
            "\n",
            "Epoch 00005: val_acc improved from 0.88340 to 0.88840, saving model to embedding_average_model.h5\n",
            "Epoch 6/10\n",
            "625/625 [==============================] - 10s 16ms/step - loss: 0.2083 - acc: 0.9299 - val_loss: 0.2826 - val_acc: 0.8864\n",
            "\n",
            "Epoch 00006: val_acc did not improve from 0.88840\n",
            "Epoch 7/10\n",
            "625/625 [==============================] - 10s 16ms/step - loss: 0.1844 - acc: 0.9382 - val_loss: 0.2727 - val_acc: 0.8930\n",
            "\n",
            "Epoch 00007: val_acc improved from 0.88840 to 0.89300, saving model to embedding_average_model.h5\n",
            "Epoch 8/10\n",
            "625/625 [==============================] - 10s 16ms/step - loss: 0.1644 - acc: 0.9473 - val_loss: 0.2727 - val_acc: 0.8928\n",
            "\n",
            "Epoch 00008: val_acc did not improve from 0.89300\n",
            "Epoch 9/10\n",
            "625/625 [==============================] - 10s 16ms/step - loss: 0.1475 - acc: 0.9520 - val_loss: 0.2720 - val_acc: 0.8944\n",
            "\n",
            "Epoch 00009: val_acc improved from 0.89300 to 0.89440, saving model to embedding_average_model.h5\n",
            "Epoch 10/10\n",
            "625/625 [==============================] - 10s 16ms/step - loss: 0.1318 - acc: 0.9582 - val_loss: 0.2751 - val_acc: 0.8932\n",
            "\n",
            "Epoch 00010: val_acc did not improve from 0.89440\n"
          ],
          "name": "stdout"
        },
        {
          "output_type": "execute_result",
          "data": {
            "text/plain": [
              "<tensorflow.python.keras.callbacks.History at 0x7fae0f729f10>"
            ]
          },
          "metadata": {
            "tags": []
          },
          "execution_count": 31
        }
      ]
    },
    {
      "cell_type": "code",
      "metadata": {
        "colab": {
          "base_uri": "https://localhost:8080/"
        },
        "id": "aEhFA7WfCp6i",
        "outputId": "ae69cd03-4254-49b5-fd7c-99b76178acef"
      },
      "source": [
        "loaded_model = load_model('embedding_average_model.h5')\n",
        "print(\"\\n 테스트 정확도: %.4f\" % (loaded_model.evaluate(x_test, y_test)[1]))"
      ],
      "execution_count": null,
      "outputs": [
        {
          "output_type": "stream",
          "text": [
            "782/782 [==============================] - 2s 2ms/step - loss: 0.2848 - acc: 0.8876\n",
            "\n",
            " 테스트 정확도: 0.8876\n"
          ],
          "name": "stdout"
        }
      ]
    },
    {
      "cell_type": "markdown",
      "metadata": {
        "id": "tmV-ivmbDS9n"
      },
      "source": [
        "별 다른 신경망을 추가하지 않고, 단어 벡터의 평균만으로도 88.76%라는 높은 정확도"
      ]
    }
  ]
}