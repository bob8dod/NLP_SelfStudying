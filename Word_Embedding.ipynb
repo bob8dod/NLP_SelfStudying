{
  "nbformat": 4,
  "nbformat_minor": 0,
  "metadata": {
    "colab": {
      "name": "Word_Embedding.ipynb",
      "provenance": [],
      "authorship_tag": "ABX9TyOOlQa3W+oJ6hUz2/gzqrks",
      "include_colab_link": true
    },
    "kernelspec": {
      "name": "python3",
      "display_name": "Python 3"
    },
    "language_info": {
      "name": "python"
    }
  },
  "cells": [
    {
      "cell_type": "markdown",
      "metadata": {
        "id": "view-in-github",
        "colab_type": "text"
      },
      "source": [
        "<a href=\"https://colab.research.google.com/github/bob8dod/NLP_SelfStudying/blob/main/Word_Embedding.ipynb\" target=\"_parent\"><img src=\"https://colab.research.google.com/assets/colab-badge.svg\" alt=\"Open In Colab\"/></a>"
      ]
    },
    {
      "cell_type": "markdown",
      "metadata": {
        "id": "8WBYaO4cN0L1"
      },
      "source": [
        "# Word Embedding"
      ]
    },
    {
      "cell_type": "markdown",
      "metadata": {
        "id": "1qb-V4KYE-QY"
      },
      "source": [
        "## Keras"
      ]
    },
    {
      "cell_type": "code",
      "metadata": {
        "id": "hjmQh4ExFCDt"
      },
      "source": [
        "v = Embedding(20000, 128, input_length=500)\n",
        "# vocab_size = 20000 -> 해당 데이터는 총 몇개의 단어로 구성되어 있느냐\n",
        "# output_dim = 128 -> 몇개의 차원으로 나타낼 것이냐\n",
        "# input_length = 500 -> 몇개의 corpus를 넣을 것이냐"
      ],
      "execution_count": null,
      "outputs": []
    },
    {
      "cell_type": "markdown",
      "metadata": {
        "id": "unoZ-jwi-Ccw"
      },
      "source": [
        "## Word2Vec"
      ]
    },
    {
      "cell_type": "code",
      "metadata": {
        "colab": {
          "base_uri": "https://localhost:8080/"
        },
        "id": "4x4aDJcUNYRZ",
        "outputId": "c8abfa10-4fcc-488e-b98e-881a98f6e0e0"
      },
      "source": [
        "! pip install konlpy"
      ],
      "execution_count": null,
      "outputs": [
        {
          "output_type": "stream",
          "text": [
            "Collecting konlpy\n",
            "  Downloading konlpy-0.5.2-py2.py3-none-any.whl (19.4 MB)\n",
            "\u001b[K     |████████████████████████████████| 19.4 MB 1.2 MB/s \n",
            "\u001b[?25hRequirement already satisfied: numpy>=1.6 in /usr/local/lib/python3.7/dist-packages (from konlpy) (1.19.5)\n",
            "Requirement already satisfied: lxml>=4.1.0 in /usr/local/lib/python3.7/dist-packages (from konlpy) (4.2.6)\n",
            "Requirement already satisfied: tweepy>=3.7.0 in /usr/local/lib/python3.7/dist-packages (from konlpy) (3.10.0)\n",
            "Collecting colorama\n",
            "  Downloading colorama-0.4.4-py2.py3-none-any.whl (16 kB)\n",
            "Collecting beautifulsoup4==4.6.0\n",
            "  Downloading beautifulsoup4-4.6.0-py3-none-any.whl (86 kB)\n",
            "\u001b[K     |████████████████████████████████| 86 kB 6.2 MB/s \n",
            "\u001b[?25hCollecting JPype1>=0.7.0\n",
            "  Downloading JPype1-1.3.0-cp37-cp37m-manylinux_2_5_x86_64.manylinux1_x86_64.whl (448 kB)\n",
            "\u001b[K     |████████████████████████████████| 448 kB 58.8 MB/s \n",
            "\u001b[?25hRequirement already satisfied: typing-extensions in /usr/local/lib/python3.7/dist-packages (from JPype1>=0.7.0->konlpy) (3.7.4.3)\n",
            "Requirement already satisfied: requests[socks]>=2.11.1 in /usr/local/lib/python3.7/dist-packages (from tweepy>=3.7.0->konlpy) (2.23.0)\n",
            "Requirement already satisfied: requests-oauthlib>=0.7.0 in /usr/local/lib/python3.7/dist-packages (from tweepy>=3.7.0->konlpy) (1.3.0)\n",
            "Requirement already satisfied: six>=1.10.0 in /usr/local/lib/python3.7/dist-packages (from tweepy>=3.7.0->konlpy) (1.15.0)\n",
            "Requirement already satisfied: oauthlib>=3.0.0 in /usr/local/lib/python3.7/dist-packages (from requests-oauthlib>=0.7.0->tweepy>=3.7.0->konlpy) (3.1.1)\n",
            "Requirement already satisfied: idna<3,>=2.5 in /usr/local/lib/python3.7/dist-packages (from requests[socks]>=2.11.1->tweepy>=3.7.0->konlpy) (2.10)\n",
            "Requirement already satisfied: chardet<4,>=3.0.2 in /usr/local/lib/python3.7/dist-packages (from requests[socks]>=2.11.1->tweepy>=3.7.0->konlpy) (3.0.4)\n",
            "Requirement already satisfied: urllib3!=1.25.0,!=1.25.1,<1.26,>=1.21.1 in /usr/local/lib/python3.7/dist-packages (from requests[socks]>=2.11.1->tweepy>=3.7.0->konlpy) (1.24.3)\n",
            "Requirement already satisfied: certifi>=2017.4.17 in /usr/local/lib/python3.7/dist-packages (from requests[socks]>=2.11.1->tweepy>=3.7.0->konlpy) (2021.5.30)\n",
            "Requirement already satisfied: PySocks!=1.5.7,>=1.5.6 in /usr/local/lib/python3.7/dist-packages (from requests[socks]>=2.11.1->tweepy>=3.7.0->konlpy) (1.7.1)\n",
            "Installing collected packages: JPype1, colorama, beautifulsoup4, konlpy\n",
            "  Attempting uninstall: beautifulsoup4\n",
            "    Found existing installation: beautifulsoup4 4.6.3\n",
            "    Uninstalling beautifulsoup4-4.6.3:\n",
            "      Successfully uninstalled beautifulsoup4-4.6.3\n",
            "Successfully installed JPype1-1.3.0 beautifulsoup4-4.6.0 colorama-0.4.4 konlpy-0.5.2\n"
          ],
          "name": "stdout"
        }
      ]
    },
    {
      "cell_type": "code",
      "metadata": {
        "id": "uFpq0iwkM-_m"
      },
      "source": [
        "import pandas as pd\n",
        "import matplotlib.pyplot as plt\n",
        "import urllib.request\n",
        "from gensim.models.word2vec import Word2Vec\n",
        "from konlpy.tag import Okt"
      ],
      "execution_count": null,
      "outputs": []
    },
    {
      "cell_type": "code",
      "metadata": {
        "colab": {
          "base_uri": "https://localhost:8080/",
          "height": 203
        },
        "id": "OyeM7uL6NJxY",
        "outputId": "724766d0-f587-4144-d3dd-6dd8f97a077a"
      },
      "source": [
        "data = open('/content/1.txt', 'r', encoding='utf-8')\n",
        "reviews = data.read().split('\\n')\n",
        "review_data = [r.split(',')[1] for r in reviews]\n",
        "review_data = pd.DataFrame(review_data, columns=['review'])\n",
        "review_data.head()"
      ],
      "execution_count": null,
      "outputs": [
        {
          "output_type": "execute_result",
          "data": {
            "text/html": [
              "<div>\n",
              "<style scoped>\n",
              "    .dataframe tbody tr th:only-of-type {\n",
              "        vertical-align: middle;\n",
              "    }\n",
              "\n",
              "    .dataframe tbody tr th {\n",
              "        vertical-align: top;\n",
              "    }\n",
              "\n",
              "    .dataframe thead th {\n",
              "        text-align: right;\n",
              "    }\n",
              "</style>\n",
              "<table border=\"1\" class=\"dataframe\">\n",
              "  <thead>\n",
              "    <tr style=\"text-align: right;\">\n",
              "      <th></th>\n",
              "      <th>review</th>\n",
              "    </tr>\n",
              "  </thead>\n",
              "  <tbody>\n",
              "    <tr>\n",
              "      <th>0</th>\n",
              "      <td>가격대비 괜찮네요 착한가격 빠른배송 만족 합니다</td>\n",
              "    </tr>\n",
              "    <tr>\n",
              "      <th>1</th>\n",
              "      <td>원래 쓰던거라 상큼하니 가볍고 좋앙</td>\n",
              "    </tr>\n",
              "    <tr>\n",
              "      <th>2</th>\n",
              "      <td>가성비갑강추합니다</td>\n",
              "    </tr>\n",
              "    <tr>\n",
              "      <th>3</th>\n",
              "      <td>저렴하게 굿구매 감사</td>\n",
              "    </tr>\n",
              "    <tr>\n",
              "      <th>4</th>\n",
              "      <td>너무좋아요 가격도싸게사고 두개나득템ㅠ 냄새진짜취저에여ㅠㅠ</td>\n",
              "    </tr>\n",
              "  </tbody>\n",
              "</table>\n",
              "</div>"
            ],
            "text/plain": [
              "                            review\n",
              "0       가격대비 괜찮네요 착한가격 빠른배송 만족 합니다\n",
              "1              원래 쓰던거라 상큼하니 가볍고 좋앙\n",
              "2                        가성비갑강추합니다\n",
              "3                      저렴하게 굿구매 감사\n",
              "4  너무좋아요 가격도싸게사고 두개나득템ㅠ 냄새진짜취저에여ㅠㅠ"
            ]
          },
          "metadata": {
            "tags": []
          },
          "execution_count": 4
        }
      ]
    },
    {
      "cell_type": "code",
      "metadata": {
        "colab": {
          "base_uri": "https://localhost:8080/"
        },
        "id": "0chP_TucN-to",
        "outputId": "2cb24dce-8b37-4f78-cfd2-27317f2cd940"
      },
      "source": [
        "print(len(review_data))"
      ],
      "execution_count": null,
      "outputs": [
        {
          "output_type": "stream",
          "text": [
            "331\n"
          ],
          "name": "stdout"
        }
      ]
    },
    {
      "cell_type": "code",
      "metadata": {
        "colab": {
          "base_uri": "https://localhost:8080/",
          "height": 203
        },
        "id": "FEjfAjdDOG9A",
        "outputId": "b684e07d-c321-4c5d-9f60-2b4d188e6bc6"
      },
      "source": [
        "# 정규 표현식을 통한 한글 외 문자 제거\n",
        "review_data['review'] = review_data['review'] .str.replace(\"[^ㄱ-ㅎㅏ-ㅣ가-힣 ]\",\"\")\n",
        "review_data.head()"
      ],
      "execution_count": null,
      "outputs": [
        {
          "output_type": "execute_result",
          "data": {
            "text/html": [
              "<div>\n",
              "<style scoped>\n",
              "    .dataframe tbody tr th:only-of-type {\n",
              "        vertical-align: middle;\n",
              "    }\n",
              "\n",
              "    .dataframe tbody tr th {\n",
              "        vertical-align: top;\n",
              "    }\n",
              "\n",
              "    .dataframe thead th {\n",
              "        text-align: right;\n",
              "    }\n",
              "</style>\n",
              "<table border=\"1\" class=\"dataframe\">\n",
              "  <thead>\n",
              "    <tr style=\"text-align: right;\">\n",
              "      <th></th>\n",
              "      <th>review</th>\n",
              "    </tr>\n",
              "  </thead>\n",
              "  <tbody>\n",
              "    <tr>\n",
              "      <th>0</th>\n",
              "      <td>가격대비 괜찮네요 착한가격 빠른배송 만족 합니다</td>\n",
              "    </tr>\n",
              "    <tr>\n",
              "      <th>1</th>\n",
              "      <td>원래 쓰던거라 상큼하니 가볍고 좋앙</td>\n",
              "    </tr>\n",
              "    <tr>\n",
              "      <th>2</th>\n",
              "      <td>가성비갑강추합니다</td>\n",
              "    </tr>\n",
              "    <tr>\n",
              "      <th>3</th>\n",
              "      <td>저렴하게 굿구매 감사</td>\n",
              "    </tr>\n",
              "    <tr>\n",
              "      <th>4</th>\n",
              "      <td>너무좋아요 가격도싸게사고 두개나득템ㅠ 냄새진짜취저에여ㅠㅠ</td>\n",
              "    </tr>\n",
              "  </tbody>\n",
              "</table>\n",
              "</div>"
            ],
            "text/plain": [
              "                            review\n",
              "0       가격대비 괜찮네요 착한가격 빠른배송 만족 합니다\n",
              "1              원래 쓰던거라 상큼하니 가볍고 좋앙\n",
              "2                        가성비갑강추합니다\n",
              "3                      저렴하게 굿구매 감사\n",
              "4  너무좋아요 가격도싸게사고 두개나득템ㅠ 냄새진짜취저에여ㅠㅠ"
            ]
          },
          "metadata": {
            "tags": []
          },
          "execution_count": 6
        }
      ]
    },
    {
      "cell_type": "code",
      "metadata": {
        "id": "BC9lBFfVOTNp"
      },
      "source": [
        "# 형태소 분석 - 토큰화\n",
        "stopwords = ['의','가','이','은','들','는','좀','잘','걍','과','도','를','으로','자','에','와','한','하다']\n",
        "okt = Okt()\n",
        "tokenized_data = []\n",
        "for sentence in review_data['review']:\n",
        "    temp_X = okt.morphs(sentence, stem=True) # 토큰화\n",
        "    temp_X = [word for word in temp_X if not word in stopwords] # 불용어 제거\n",
        "    tokenized_data.append(temp_X)"
      ],
      "execution_count": null,
      "outputs": []
    },
    {
      "cell_type": "code",
      "metadata": {
        "colab": {
          "base_uri": "https://localhost:8080/",
          "height": 316
        },
        "id": "V95DXVm7OezK",
        "outputId": "95e9b68d-a40d-4684-a736-a81a059e526a"
      },
      "source": [
        "# 리뷰 길이 분포 확인\n",
        "print('리뷰의 최대 길이 :',max(len(l) for l in tokenized_data))\n",
        "print('리뷰의 평균 길이 :',sum(map(len, tokenized_data))/len(tokenized_data))\n",
        "plt.hist([len(s) for s in tokenized_data], bins=50)\n",
        "plt.xlabel('length of samples')\n",
        "plt.ylabel('number of samples')\n",
        "plt.show()"
      ],
      "execution_count": null,
      "outputs": [
        {
          "output_type": "stream",
          "text": [
            "리뷰의 최대 길이 : 16\n",
            "리뷰의 평균 길이 : 6.096676737160121\n"
          ],
          "name": "stdout"
        },
        {
          "output_type": "display_data",
          "data": {
            "image/png": "[encoded data removed]",
            "text/plain": [
              "<Figure size 432x288 with 1 Axes>"
            ]
          },
          "metadata": {
            "tags": [],
            "needs_background": "light"
          }
        }
      ]
    },
    {
      "cell_type": "code",
      "metadata": {
        "id": "EAtdnuxCPZce"
      },
      "source": [
        "from gensim.models import Word2Vec\n",
        "model = Word2Vec(sentences = tokenized_data, size = 20, window = 5, workers = 4, sg = 0)"
      ],
      "execution_count": null,
      "outputs": []
    },
    {
      "cell_type": "code",
      "metadata": {
        "colab": {
          "base_uri": "https://localhost:8080/"
        },
        "id": "RHVWAlkjPlvS",
        "outputId": "1e34ce0b-5db6-46a0-d971-451386afed5c"
      },
      "source": [
        "# 완성된 임베딩 매트릭스의 크기 확인\n",
        "print(model.wv.vectors.shape)\n",
        "model.wv.vectors #이제 이상태로 히든레이어에 넣으면 원하는대로 사용가능"
      ],
      "execution_count": null,
      "outputs": [
        {
          "output_type": "stream",
          "text": [
            "(84, 20)\n"
          ],
          "name": "stdout"
        },
        {
          "output_type": "execute_result",
          "data": {
            "text/plain": [
              "array([[-0.00134334, -0.00322111, -0.00515075, ...,  0.01563498,\n",
              "         0.02335054, -0.00503694],\n",
              "       [-0.00354766,  0.01125529, -0.00382704, ..., -0.01192689,\n",
              "        -0.00586586,  0.01851583],\n",
              "       [-0.01836547, -0.01456385, -0.01396365, ...,  0.00297436,\n",
              "         0.0163564 , -0.0189751 ],\n",
              "       ...,\n",
              "       [ 0.00741827, -0.00386968,  0.01179863, ...,  0.02110151,\n",
              "         0.01546897, -0.01908136],\n",
              "       [-0.01528086, -0.0131008 , -0.01013615, ...,  0.02494558,\n",
              "        -0.01409938,  0.00475392],\n",
              "       [ 0.00891863,  0.0048786 , -0.0253587 , ..., -0.01820784,\n",
              "         0.01358234,  0.01801804]], dtype=float32)"
            ]
          },
          "metadata": {
            "tags": []
          },
          "execution_count": 18
        }
      ]
    },
    {
      "cell_type": "code",
      "metadata": {
        "colab": {
          "base_uri": "https://localhost:8080/"
        },
        "id": "Ca7JbUGVPm_h",
        "outputId": "3f76f454-1ff4-41d9-fb72-ea2ea6a3f8eb"
      },
      "source": [
        "print(model.wv.most_similar(\"빠르다\"))"
      ],
      "execution_count": null,
      "outputs": [
        {
          "output_type": "stream",
          "text": [
            "[('제', 0.6140363216400146), ('잘살다', 0.4553600549697876), ('정말', 0.35710009932518005), ('냄새', 0.3307492733001709), ('ㅎㅎ', 0.31280961632728577), ('쓰기', 0.30893436074256897), ('요', 0.2729012370109558), ('인데', 0.2654724419116974), ('만족', 0.2649107873439789), ('용', 0.2516595125198364)]\n"
          ],
          "name": "stdout"
        }
      ]
    },
    {
      "cell_type": "markdown",
      "metadata": {
        "id": "dFjU6ia6-Go0"
      },
      "source": [
        "## Glove"
      ]
    },
    {
      "cell_type": "code",
      "metadata": {
        "id": "x1XH9rHRPvFB",
        "colab": {
          "base_uri": "https://localhost:8080/"
        },
        "outputId": "15751a2f-2825-4b2a-a24a-e7e5bb078d20"
      },
      "source": [
        "! pip install glove_python_binary"
      ],
      "execution_count": null,
      "outputs": [
        {
          "output_type": "stream",
          "text": [
            "Collecting glove_python_binary\n",
            "  Downloading glove_python_binary-0.2.0-cp37-cp37m-manylinux1_x86_64.whl (948 kB)\n",
            "\u001b[?25l\r\u001b[K     |▍                               | 10 kB 17.1 MB/s eta 0:00:01\r\u001b[K     |▊                               | 20 kB 21.9 MB/s eta 0:00:01\r\u001b[K     |█                               | 30 kB 25.9 MB/s eta 0:00:01\r\u001b[K     |█▍                              | 40 kB 29.4 MB/s eta 0:00:01\r\u001b[K     |█▊                              | 51 kB 32.8 MB/s eta 0:00:01\r\u001b[K     |██                              | 61 kB 30.0 MB/s eta 0:00:01\r\u001b[K     |██▍                             | 71 kB 27.5 MB/s eta 0:00:01\r\u001b[K     |██▊                             | 81 kB 27.3 MB/s eta 0:00:01\r\u001b[K     |███                             | 92 kB 28.8 MB/s eta 0:00:01\r\u001b[K     |███▌                            | 102 kB 30.4 MB/s eta 0:00:01\r\u001b[K     |███▉                            | 112 kB 30.4 MB/s eta 0:00:01\r\u001b[K     |████▏                           | 122 kB 30.4 MB/s eta 0:00:01\r\u001b[K     |████▌                           | 133 kB 30.4 MB/s eta 0:00:01\r\u001b[K     |████▉                           | 143 kB 30.4 MB/s eta 0:00:01\r\u001b[K     |█████▏                          | 153 kB 30.4 MB/s eta 0:00:01\r\u001b[K     |█████▌                          | 163 kB 30.4 MB/s eta 0:00:01\r\u001b[K     |█████▉                          | 174 kB 30.4 MB/s eta 0:00:01\r\u001b[K     |██████▏                         | 184 kB 30.4 MB/s eta 0:00:01\r\u001b[K     |██████▋                         | 194 kB 30.4 MB/s eta 0:00:01\r\u001b[K     |███████                         | 204 kB 30.4 MB/s eta 0:00:01\r\u001b[K     |███████▎                        | 215 kB 30.4 MB/s eta 0:00:01\r\u001b[K     |███████▋                        | 225 kB 30.4 MB/s eta 0:00:01\r\u001b[K     |████████                        | 235 kB 30.4 MB/s eta 0:00:01\r\u001b[K     |████████▎                       | 245 kB 30.4 MB/s eta 0:00:01\r\u001b[K     |████████▋                       | 256 kB 30.4 MB/s eta 0:00:01\r\u001b[K     |█████████                       | 266 kB 30.4 MB/s eta 0:00:01\r\u001b[K     |█████████▎                      | 276 kB 30.4 MB/s eta 0:00:01\r\u001b[K     |█████████▊                      | 286 kB 30.4 MB/s eta 0:00:01\r\u001b[K     |██████████                      | 296 kB 30.4 MB/s eta 0:00:01\r\u001b[K     |██████████▍                     | 307 kB 30.4 MB/s eta 0:00:01\r\u001b[K     |██████████▊                     | 317 kB 30.4 MB/s eta 0:00:01\r\u001b[K     |███████████                     | 327 kB 30.4 MB/s eta 0:00:01\r\u001b[K     |███████████▍                    | 337 kB 30.4 MB/s eta 0:00:01\r\u001b[K     |███████████▊                    | 348 kB 30.4 MB/s eta 0:00:01\r\u001b[K     |████████████                    | 358 kB 30.4 MB/s eta 0:00:01\r\u001b[K     |████████████▍                   | 368 kB 30.4 MB/s eta 0:00:01\r\u001b[K     |████████████▊                   | 378 kB 30.4 MB/s eta 0:00:01\r\u001b[K     |█████████████▏                  | 389 kB 30.4 MB/s eta 0:00:01\r\u001b[K     |█████████████▌                  | 399 kB 30.4 MB/s eta 0:00:01\r\u001b[K     |█████████████▉                  | 409 kB 30.4 MB/s eta 0:00:01\r\u001b[K     |██████████████▏                 | 419 kB 30.4 MB/s eta 0:00:01\r\u001b[K     |██████████████▌                 | 430 kB 30.4 MB/s eta 0:00:01\r\u001b[K     |██████████████▉                 | 440 kB 30.4 MB/s eta 0:00:01\r\u001b[K     |███████████████▏                | 450 kB 30.4 MB/s eta 0:00:01\r\u001b[K     |███████████████▌                | 460 kB 30.4 MB/s eta 0:00:01\r\u001b[K     |███████████████▉                | 471 kB 30.4 MB/s eta 0:00:01\r\u001b[K     |████████████████▎               | 481 kB 30.4 MB/s eta 0:00:01\r\u001b[K     |████████████████▋               | 491 kB 30.4 MB/s eta 0:00:01\r\u001b[K     |█████████████████               | 501 kB 30.4 MB/s eta 0:00:01\r\u001b[K     |█████████████████▎              | 512 kB 30.4 MB/s eta 0:00:01\r\u001b[K     |█████████████████▋              | 522 kB 30.4 MB/s eta 0:00:01\r\u001b[K     |██████████████████              | 532 kB 30.4 MB/s eta 0:00:01\r\u001b[K     |██████████████████▎             | 542 kB 30.4 MB/s eta 0:00:01\r\u001b[K     |██████████████████▋             | 552 kB 30.4 MB/s eta 0:00:01\r\u001b[K     |███████████████████             | 563 kB 30.4 MB/s eta 0:00:01\r\u001b[K     |███████████████████▍            | 573 kB 30.4 MB/s eta 0:00:01\r\u001b[K     |███████████████████▊            | 583 kB 30.4 MB/s eta 0:00:01\r\u001b[K     |████████████████████            | 593 kB 30.4 MB/s eta 0:00:01\r\u001b[K     |████████████████████▍           | 604 kB 30.4 MB/s eta 0:00:01\r\u001b[K     |████████████████████▊           | 614 kB 30.4 MB/s eta 0:00:01\r\u001b[K     |█████████████████████           | 624 kB 30.4 MB/s eta 0:00:01\r\u001b[K     |█████████████████████▍          | 634 kB 30.4 MB/s eta 0:00:01\r\u001b[K     |█████████████████████▊          | 645 kB 30.4 MB/s eta 0:00:01\r\u001b[K     |██████████████████████          | 655 kB 30.4 MB/s eta 0:00:01\r\u001b[K     |██████████████████████▌         | 665 kB 30.4 MB/s eta 0:00:01\r\u001b[K     |██████████████████████▉         | 675 kB 30.4 MB/s eta 0:00:01\r\u001b[K     |███████████████████████▏        | 686 kB 30.4 MB/s eta 0:00:01\r\u001b[K     |███████████████████████▌        | 696 kB 30.4 MB/s eta 0:00:01\r\u001b[K     |███████████████████████▉        | 706 kB 30.4 MB/s eta 0:00:01\r\u001b[K     |████████████████████████▏       | 716 kB 30.4 MB/s eta 0:00:01\r\u001b[K     |████████████████████████▌       | 727 kB 30.4 MB/s eta 0:00:01\r\u001b[K     |████████████████████████▉       | 737 kB 30.4 MB/s eta 0:00:01\r\u001b[K     |█████████████████████████▏      | 747 kB 30.4 MB/s eta 0:00:01\r\u001b[K     |█████████████████████████▌      | 757 kB 30.4 MB/s eta 0:00:01\r\u001b[K     |██████████████████████████      | 768 kB 30.4 MB/s eta 0:00:01\r\u001b[K     |██████████████████████████▎     | 778 kB 30.4 MB/s eta 0:00:01\r\u001b[K     |██████████████████████████▋     | 788 kB 30.4 MB/s eta 0:00:01\r\u001b[K     |███████████████████████████     | 798 kB 30.4 MB/s eta 0:00:01\r\u001b[K     |███████████████████████████▎    | 808 kB 30.4 MB/s eta 0:00:01\r\u001b[K     |███████████████████████████▋    | 819 kB 30.4 MB/s eta 0:00:01\r\u001b[K     |████████████████████████████    | 829 kB 30.4 MB/s eta 0:00:01\r\u001b[K     |████████████████████████████▎   | 839 kB 30.4 MB/s eta 0:00:01\r\u001b[K     |████████████████████████████▋   | 849 kB 30.4 MB/s eta 0:00:01\r\u001b[K     |█████████████████████████████   | 860 kB 30.4 MB/s eta 0:00:01\r\u001b[K     |█████████████████████████████▍  | 870 kB 30.4 MB/s eta 0:00:01\r\u001b[K     |█████████████████████████████▊  | 880 kB 30.4 MB/s eta 0:00:01\r\u001b[K     |██████████████████████████████  | 890 kB 30.4 MB/s eta 0:00:01\r\u001b[K     |██████████████████████████████▍ | 901 kB 30.4 MB/s eta 0:00:01\r\u001b[K     |██████████████████████████████▊ | 911 kB 30.4 MB/s eta 0:00:01\r\u001b[K     |███████████████████████████████ | 921 kB 30.4 MB/s eta 0:00:01\r\u001b[K     |███████████████████████████████▍| 931 kB 30.4 MB/s eta 0:00:01\r\u001b[K     |███████████████████████████████▊| 942 kB 30.4 MB/s eta 0:00:01\r\u001b[K     |████████████████████████████████| 948 kB 30.4 MB/s \n",
            "\u001b[?25hRequirement already satisfied: numpy in /usr/local/lib/python3.7/dist-packages (from glove_python_binary) (1.19.5)\n",
            "Requirement already satisfied: scipy in /usr/local/lib/python3.7/dist-packages (from glove_python_binary) (1.4.1)\n",
            "Installing collected packages: glove-python-binary\n",
            "Successfully installed glove-python-binary-0.2.0\n"
          ],
          "name": "stdout"
        }
      ]
    },
    {
      "cell_type": "code",
      "metadata": {
        "id": "Gbn-2e_d-FzI"
      },
      "source": [
        "from glove import Corpus, Glove\n",
        "\n",
        "corpus = Corpus() \n",
        "corpus.fit(result, window=5)\n",
        "# 훈련 데이터로부터 GloVe에서 사용할 동시 등장 행렬 생성\n",
        "# 현재는 훈련데이터가 없음....\n",
        "\n",
        "glove = Glove(no_components=100, learning_rate=0.05)\n",
        "glove.fit(corpus.matrix, epochs=20, no_threads=4, verbose=True)\n",
        "glove.add_dictionary(corpus.dictionary)\n",
        "# 학습에 이용할 쓰레드의 개수는 4로 설정, 에포크는 20."
      ],
      "execution_count": null,
      "outputs": []
    },
    {
      "cell_type": "code",
      "metadata": {
        "id": "JN39W0ez-lFA"
      },
      "source": [
        "model_result1=glove.most_similar(\"man\")\n",
        "print(model_result1)"
      ],
      "execution_count": null,
      "outputs": []
    },
    {
      "cell_type": "markdown",
      "metadata": {
        "id": "W-Y5HpCM_azt"
      },
      "source": [
        "[('woman', 0.9621753707315267), ('guy', 0.8860281455579162), ('girl', 0.8609057388487154), ('kid', 0.8383640509911114)]"
      ]
    },
    {
      "cell_type": "markdown",
      "metadata": {
        "id": "tFjU29okD3ru"
      },
      "source": [
        "### FastText"
      ]
    },
    {
      "cell_type": "markdown",
      "metadata": {
        "id": "pNcYGN3zD7JK"
      },
      "source": [
        "https://joyhong.tistory.com/137"
      ]
    }
  ]
}