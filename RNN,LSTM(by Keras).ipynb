{
  "nbformat": 4,
  "nbformat_minor": 0,
  "metadata": {
    "colab": {
      "name": "RNN,LSTM(by Keras).ipynb",
      "provenance": [],
      "authorship_tag": "ABX9TyPFSX/IP+KCq+nFp+jRCcCq",
      "include_colab_link": true
    },
    "kernelspec": {
      "name": "python3",
      "display_name": "Python 3"
    },
    "language_info": {
      "name": "python"
    }
  },
  "cells": [
    {
      "cell_type": "markdown",
      "metadata": {
        "id": "view-in-github",
        "colab_type": "text"
      },
      "source": [
        "<a href=\"https://colab.research.google.com/github/bob8dod/NLP_SelfStudying/blob/main/RNN%2CLSTM(by%20Keras).ipynb\" target=\"_parent\"><img src=\"https://colab.research.google.com/assets/colab-badge.svg\" alt=\"Open In Colab\"/></a>"
      ]
    },
    {
      "cell_type": "markdown",
      "metadata": {
        "id": "GioVRLlqEQss"
      },
      "source": [
        "## 케라스의 SimpleRNN과 LSTM 이해 + bidirection(양방향)"
      ]
    },
    {
      "cell_type": "markdown",
      "metadata": {
        "id": "JJ3fnGfIVaIV"
      },
      "source": [
        "### RNN"
      ]
    },
    {
      "cell_type": "code",
      "metadata": {
        "id": "9J3TZ6DyEVVX"
      },
      "source": [
        "import numpy as np\n",
        "import tensorflow as tf\n",
        "from tensorflow.keras.layers import SimpleRNN, LSTM, Bidirectional"
      ],
      "execution_count": null,
      "outputs": []
    },
    {
      "cell_type": "code",
      "metadata": {
        "colab": {
          "base_uri": "https://localhost:8080/"
        },
        "id": "L2h4g4sfEZUS",
        "outputId": "3810d262-10a3-41ea-87e8-be718b6657c3"
      },
      "source": [
        "# 임의의 입력 생성\n",
        "train_X = [[0.1, 4.2, 1.5, 1.1, 2.8], [1.0, 3.1, 2.5, 0.7, 1.1], [0.3, 2.1, 1.5, 2.1, 0.1], [2.2, 1.4, 0.5, 0.9, 1.1]]\n",
        "print(np.shape(train_X))"
      ],
      "execution_count": null,
      "outputs": [
        {
          "output_type": "stream",
          "text": [
            "(4, 5)\n"
          ],
          "name": "stdout"
        }
      ]
    },
    {
      "cell_type": "markdown",
      "metadata": {
        "id": "P2mk1G_OEv2p"
      },
      "source": [
        "문장의 길이는 4 (단어의 개수), 백터의 차원은 5(임베딩의 결과)  \n",
        "다시 말해 4번의 시점(timesteps)이 존재하고, 각 시점마다 5차원의 단어 벡터가 입력으로 사용"
      ]
    },
    {
      "cell_type": "code",
      "metadata": {
        "colab": {
          "base_uri": "https://localhost:8080/"
        },
        "id": "b2GjanfOElCZ",
        "outputId": "6a9715b1-396c-4e88-b121-0e4575ac0a0c"
      },
      "source": [
        "#2D 텐서를 3D 텐서로 변경 _   배치 크기 1을 추가해주므로서 해결\n",
        "train_X = [[[0.1, 4.2, 1.5, 1.1, 2.8], [1.0, 3.1, 2.5, 0.7, 1.1], [0.3, 2.1, 1.5, 2.1, 0.1], [2.2, 1.4, 0.5, 0.9, 1.1]]]\n",
        "train_X = np.array(train_X, dtype=np.float32)\n",
        "print(train_X.shape)"
      ],
      "execution_count": null,
      "outputs": [
        {
          "output_type": "stream",
          "text": [
            "(1, 4, 5)\n"
          ],
          "name": "stdout"
        }
      ]
    },
    {
      "cell_type": "markdown",
      "metadata": {
        "id": "hxGBmJkCFA4x"
      },
      "source": [
        "(batch_size, timesteps, input_dim)에 해당되는 (1, 4, 5)의 크기를 가지는 3D 텐서가 생성"
      ]
    },
    {
      "cell_type": "code",
      "metadata": {
        "colab": {
          "base_uri": "https://localhost:8080/"
        },
        "id": "XjaeTw1HE9BL",
        "outputId": "2ce032db-60e4-4dd9-f82c-71eba6c573ab"
      },
      "source": [
        "# 은닉 상태의 크기를 3으로 지정하고, 두 인자 값이 모두 False일 때의 출력값\n",
        "hidden_size = 3\n",
        "rnn = SimpleRNN(hidden_size)\n",
        "hidden_state = rnn(train_X) #출력값 ->  마지막 시점의 은닉 상태\n",
        "print('hidden state : {}, shape: {}'.format(hidden_state, hidden_state.shape))"
      ],
      "execution_count": null,
      "outputs": [
        {
          "output_type": "stream",
          "text": [
            "hidden state : [[ 0.96368945 -0.4679326   0.6282686 ]], shape: (1, 3)\n"
          ],
          "name": "stdout"
        }
      ]
    },
    {
      "cell_type": "markdown",
      "metadata": {
        "id": "SCvGPI6EFqZc"
      },
      "source": [
        "return_sequences = False인 경우에는 SimpleRNN은 마지막 시점의 은닉 상태만 출력"
      ]
    },
    {
      "cell_type": "code",
      "metadata": {
        "colab": {
          "base_uri": "https://localhost:8080/"
        },
        "id": "x1XtGbQ8Fjwn",
        "outputId": "ed32a475-bf03-478e-a6ed-263053a97677"
      },
      "source": [
        "# return_sequences를 True로 지정하여 모든 시점의 은닉 상태를 출력\n",
        "hidden_size = 3\n",
        "rnn = SimpleRNN(hidden_size, return_sequences=True)\n",
        "hidden_states = rnn(train_X) # 모든 시점의 은닉 상태\n",
        "print('hidden states : {}, shape: {}'.format(hidden_states, hidden_states.shape))"
      ],
      "execution_count": null,
      "outputs": [
        {
          "output_type": "stream",
          "text": [
            "hidden states : [[[-0.66683996  0.9801001   0.94365513]\n",
            "  [ 0.121343    0.99046004 -0.60518473]\n",
            "  [-0.93688875  0.9586117   0.202979  ]\n",
            "  [-0.6017417   0.97547644 -0.41433105]]], shape: (1, 4, 3)\n"
          ],
          "name": "stdout"
        }
      ]
    },
    {
      "cell_type": "markdown",
      "metadata": {
        "id": "c5lauVmLGJOQ"
      },
      "source": [
        "(1, 4, 3) 크기의 텐서가 출력. 앞서 입력 데이터는 (1, 4, 5)의 크기를 가지는 3D 텐서, 그 중 4가 시점(timesteps)에 해당하는 값이므로 모든 시점에 대해서 은닉 상태의 값을 출력하여 (1, 4, 3) 크기의 텐서를 출력하는 것"
      ]
    },
    {
      "cell_type": "code",
      "metadata": {
        "colab": {
          "base_uri": "https://localhost:8080/"
        },
        "id": "Ghp6lo8DF4Jc",
        "outputId": "b4c6ed54-a727-40c5-8630-18ed6e4c9e01"
      },
      "source": [
        "# return_state가 True일 경우 무조건 마지막 시점의 은닉 상태를 출력\n",
        "rnn = SimpleRNN(3, return_sequences=True, return_state=True)\n",
        "hidden_states, last_state = rnn(train_X)\n",
        "\n",
        "print('hidden states : {}, shape: {}'.format(hidden_states, hidden_states.shape))\n",
        "print('last hidden state : {}, shape: {}'.format(last_state, last_state.shape))"
      ],
      "execution_count": null,
      "outputs": [
        {
          "output_type": "stream",
          "text": [
            "hidden states : [[[ 0.99958116 -0.976393   -0.9698981 ]\n",
            "  [ 0.98737395 -0.90617484  0.724984  ]\n",
            "  [ 0.8717771  -0.82542604  0.7534499 ]\n",
            "  [ 0.9880784  -0.05747649  0.94639844]]], shape: (1, 4, 3)\n",
            "last hidden state : [[ 0.9880784  -0.05747649  0.94639844]], shape: (1, 3)\n"
          ],
          "name": "stdout"
        }
      ]
    },
    {
      "cell_type": "markdown",
      "metadata": {
        "id": "lxjzpUP8Gf8x"
      },
      "source": [
        "첫번째 출력은 return_sequences=True로 인한 출력으로 모든 시점의 은닉 상태  \n",
        "두번째 출력은 return_state=True로 인한 출력으로 마지막 시점의 은닉 상태 "
      ]
    },
    {
      "cell_type": "markdown",
      "metadata": {
        "id": "2Hb8Hr27VgeE"
      },
      "source": [
        "### LSTM"
      ]
    },
    {
      "cell_type": "code",
      "metadata": {
        "id": "HB3ioHt6GdrT"
      },
      "source": [
        "import numpy as np\n",
        "import tensorflow as tf\n",
        "from tensorflow.keras.layers import LSTM"
      ],
      "execution_count": null,
      "outputs": []
    },
    {
      "cell_type": "code",
      "metadata": {
        "colab": {
          "base_uri": "https://localhost:8080/"
        },
        "id": "NfxeEIPYV1Mk",
        "outputId": "9479547b-cc1d-430a-8433-c612e59cd73c"
      },
      "source": [
        "#  return_sequences를 False로 두고, return_state가 True인 경우\n",
        "hidden_size=3\n",
        "lstm = LSTM(3, return_sequences=False, return_state=True)\n",
        "hidden_state, last_state, last_cell_state = lstm(train_X)\n",
        "print('hidden state : {}, shape: {}'.format(hidden_state, hidden_state.shape))\n",
        "print('last hidden state : {}, shape: {}'.format(last_state, last_state.shape))\n",
        "print('last cell state : {}, shape: {}'.format(last_cell_state, last_cell_state.shape))"
      ],
      "execution_count": null,
      "outputs": [
        {
          "output_type": "stream",
          "text": [
            "hidden state : [[ 0.0536137  -0.21565194 -0.1200773 ]], shape: (1, 3)\n",
            "last hidden state : [[ 0.0536137  -0.21565194 -0.1200773 ]], shape: (1, 3)\n",
            "last cell state : [[ 0.11871988 -0.6563361  -0.16144732]], shape: (1, 3)\n"
          ],
          "name": "stdout"
        }
      ]
    },
    {
      "cell_type": "markdown",
      "metadata": {
        "id": "0IzMMzWeWcIB"
      },
      "source": [
        "세 개의 결과를 반환  \n",
        "return_state를 True로 둔 경우에는 마지막 시점의 은닉 상태뿐만 아니라 **셀 상태**까지 반환"
      ]
    },
    {
      "cell_type": "code",
      "metadata": {
        "colab": {
          "base_uri": "https://localhost:8080/"
        },
        "id": "6x9DJceiWOzm",
        "outputId": "eb2d8728-11a8-47ad-a5b8-a867ce0922fd"
      },
      "source": [
        "#  return_sequences를 True로 두고, return_state가 True인 경우\n",
        "lstm = LSTM(3, return_sequences=True, return_state=True)\n",
        "hidden_states, last_hidden_state, last_cell_state = lstm(train_X)\n",
        "\n",
        "print('hidden states : {}, shape: {}'.format(hidden_states, hidden_states.shape))\n",
        "print('last hidden state : {}, shape: {}'.format(last_hidden_state, last_hidden_state.shape))\n",
        "print('last cell state : {}, shape: {}'.format(last_cell_state, last_cell_state.shape))"
      ],
      "execution_count": null,
      "outputs": [
        {
          "output_type": "stream",
          "text": [
            "hidden states : [[[-0.02282901 -0.00437691  0.01471106]\n",
            "  [-0.01553637 -0.02808608  0.19243017]\n",
            "  [ 0.07684343 -0.02255225 -0.24311349]\n",
            "  [ 0.27054957  0.01514344  0.02564686]]], shape: (1, 4, 3)\n",
            "last hidden state : [[0.27054957 0.01514344 0.02564686]], shape: (1, 3)\n",
            "last cell state : [[0.30442485 0.02871585 0.06054708]], shape: (1, 3)\n"
          ],
          "name": "stdout"
        }
      ]
    },
    {
      "cell_type": "markdown",
      "metadata": {
        "id": "mmjwgs5JW8F3"
      },
      "source": [
        "### Bidirectional(LSTM)"
      ]
    },
    {
      "cell_type": "markdown",
      "metadata": {
        "id": "NUtVRVw_ZYJ9"
      },
      "source": [
        ""
      ]
    },
    {
      "cell_type": "code",
      "metadata": {
        "id": "spwom5McXGx5"
      },
      "source": [
        "# return_sequences가 True인 경우와 False인 경우에 대해서 \n",
        "# 은닉 상태의 값이 어떻게 바뀌는지 직접 비교하기 위해서 이번에는 출력되는 은닉 상태의 값을 고정\n",
        "k_init = tf.keras.initializers.Constant(value=0.1)\n",
        "b_init = tf.keras.initializers.Constant(value=0)\n",
        "r_init = tf.keras.initializers.Constant(value=0.1)"
      ],
      "execution_count": null,
      "outputs": []
    },
    {
      "cell_type": "code",
      "metadata": {
        "colab": {
          "base_uri": "https://localhost:8080/"
        },
        "id": "hTzq5VVhZec3",
        "outputId": "0cbc9b96-3154-4025-b42f-2c38f885e883"
      },
      "source": [
        "# 1. return_sequences가 False이고, return_state가 True\n",
        "hidden_size = 3\n",
        "bilstm = Bidirectional(LSTM(hidden_size, return_sequences=False, return_state=True, kernel_initializer=k_init, bias_initializer=b_init, recurrent_initializer=r_init))\n",
        "hidden_states, forward_h, forward_c, backward_h, backward_c = bilstm(train_X)\n",
        "\n",
        "print('hidden states : {}, shape: {}'.format(hidden_states, hidden_states.shape))\n",
        "print('forward state : {}, shape: {}'.format(forward_h, forward_h.shape))\n",
        "print('backward state : {}, shape: {}'.format(backward_h, backward_h.shape))"
      ],
      "execution_count": null,
      "outputs": [
        {
          "output_type": "stream",
          "text": [
            "hidden states : [[0.6303139  0.6303139  0.6303139  0.70387346 0.70387346 0.70387346]], shape: (1, 6)\n",
            "forward state : [[0.6303139 0.6303139 0.6303139]], shape: (1, 3)\n",
            "backward state : [[0.70387346 0.70387346 0.70387346]], shape: (1, 3)\n"
          ],
          "name": "stdout"
        }
      ]
    },
    {
      "cell_type": "markdown",
      "metadata": {
        "id": "duTHZNu-Z0k9"
      },
      "source": [
        "- return_state가 True인 경우  \n",
        "정방향 LSTM의 은닉 상태와 셀 상태, 역방향 LSTM의 은닉 상태와 셀 상태 4가지를 반환하기 때문에\n",
        "총 5개의 값을 반환  \n",
        "첫번째 출력값의 크기가 (1, 6)인 것에 주목  \n",
        "- return_sequences가 False인 경우  \n",
        "정방향 LSTM의 마지막 시점의 은닉 상태와 역방향 LSTM의 첫번째 시점의 은닉 상태가 연결된 채 반환  \n"
      ]
    },
    {
      "cell_type": "markdown",
      "metadata": {
        "id": "CBZwWfpsaqA0"
      },
      "source": [
        "- 정방향 LSTM의 마지막 시점의 은닉 상태값 : [0.6303139 0.6303139 0.6303139]\n",
        "- 역방향 LSTM의 첫번째 시점의 은닉 상태값 : [0.70387346 0.70387346 0.70387346]"
      ]
    },
    {
      "cell_type": "markdown",
      "metadata": {
        "id": "ODGUp8P4afT7"
      },
      "source": [
        "![image.png](data:image/png;base64,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)"
      ]
    },
    {
      "cell_type": "code",
      "metadata": {
        "colab": {
          "base_uri": "https://localhost:8080/"
        },
        "id": "5HYxrHRSZz_w",
        "outputId": "f57c9ad1-f23a-4a77-84b8-82772f3e7833"
      },
      "source": [
        "# return_sequences를 True로 변경, return_state가 True 일 경우\n",
        "# 위에서 값을 고정하였으므로 비교 가능\n",
        "bilstm = Bidirectional(LSTM(3, return_sequences=True, return_state=True,\n",
        "                            kernel_initializer=k_init, bias_initializer=b_init, recurrent_initializer=r_init))\n",
        "hidden_states, forward_h, forward_c, backward_h, backward_c = bilstm(train_X)\n",
        "print('hidden states : {}, shape: {}'.format(hidden_states, hidden_states.shape))\n",
        "print('forward state : {}, shape: {}'.format(forward_h, forward_h.shape))\n",
        "print('backward state : {}, shape: {}'.format(backward_h, backward_h.shape))"
      ],
      "execution_count": null,
      "outputs": [
        {
          "output_type": "stream",
          "text": [
            "hidden states : [[[0.35906476 0.35906476 0.35906476 0.70387346 0.70387346 0.70387346]\n",
            "  [0.5511133  0.5511133  0.5511133  0.5886358  0.5886358  0.5886358 ]\n",
            "  [0.5911575  0.5911575  0.5911575  0.39516988 0.39516988 0.39516988]\n",
            "  [0.6303139  0.6303139  0.6303139  0.2194224  0.2194224  0.2194224 ]]], shape: (1, 4, 6)\n",
            "forward state : [[0.6303139 0.6303139 0.6303139]], shape: (1, 3)\n",
            "backward state : [[0.70387346 0.70387346 0.70387346]], shape: (1, 3)\n"
          ],
          "name": "stdout"
        }
      ]
    },
    {
      "cell_type": "markdown",
      "metadata": {
        "id": "ZikAgNevbsrn"
      },
      "source": [
        "모든 시점의 은닉 상태가 출력  \n",
        "방향 LSTM의 첫번째 시점의 은닉 상태는 더 이상 정방향 LSTM의 마지막 시점의 은닉 상태와 연결되는 것이 아니라 정방향 LSTM의 첫번째 시점의 은닉 상태와 연결"
      ]
    },
    {
      "cell_type": "markdown",
      "metadata": {
        "id": "-0wuArHUbyyw"
      },
      "source": [
        "![image.png](data:image/png;base64,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)"
      ]
    }
  ]
}