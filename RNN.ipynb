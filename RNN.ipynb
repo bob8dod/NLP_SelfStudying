{
  "nbformat": 4,
  "nbformat_minor": 0,
  "metadata": {
    "colab": {
      "name": "RNN.ipynb",
      "provenance": [],
      "authorship_tag": "ABX9TyPKqEb6BKcdaTvjrk5ppxHh",
      "include_colab_link": true
    },
    "kernelspec": {
      "name": "python3",
      "display_name": "Python 3"
    },
    "language_info": {
      "name": "python"
    }
  },
  "cells": [
    {
      "cell_type": "markdown",
      "metadata": {
        "id": "view-in-github",
        "colab_type": "text"
      },
      "source": [
        "<a href=\"https://colab.research.google.com/github/bob8dod/NLP_SelfStudying/blob/main/RNN.ipynb\" target=\"_parent\"><img src=\"https://colab.research.google.com/assets/colab-badge.svg\" alt=\"Open In Colab\"/></a>"
      ]
    },
    {
      "cell_type": "markdown",
      "metadata": {
        "id": "1xqjjtEAuw2c"
      },
      "source": [
        "## 순환 신경망 (RNN, Recurrent Neural Network)"
      ]
    },
    {
      "cell_type": "markdown",
      "metadata": {
        "id": "HKcUv_ijxcTs"
      },
      "source": [
        "### Keras Sequential API 로 구현"
      ]
    },
    {
      "cell_type": "code",
      "metadata": {
        "id": "EfoI-l1Juj7h"
      },
      "source": [
        "from keras.models import Sequential\n",
        "from keras.layers import SimpleRNN"
      ],
      "execution_count": null,
      "outputs": []
    },
    {
      "cell_type": "code",
      "metadata": {
        "colab": {
          "base_uri": "https://localhost:8080/"
        },
        "id": "3CtSYz2xvR07",
        "outputId": "df4fd962-f6d6-44ce-b89e-3d26eb363dab"
      },
      "source": [
        "hidden_size = 3\n",
        "timesteps = 2\n",
        "input_dim = 10\n",
        "model = Sequential()\n",
        "model.add(SimpleRNN(hidden_size, input_shape=(timesteps,input_dim)))\n",
        "# model.add(SimpleRNN(3, input_length=2, input_dim=10))\n",
        "model.summary()"
      ],
      "execution_count": null,
      "outputs": [
        {
          "output_type": "stream",
          "text": [
            "Model: \"sequential\"\n",
            "_________________________________________________________________\n",
            "Layer (type)                 Output Shape              Param #   \n",
            "=================================================================\n",
            "simple_rnn (SimpleRNN)       (None, 3)                 42        \n",
            "=================================================================\n",
            "Total params: 42\n",
            "Trainable params: 42\n",
            "Non-trainable params: 0\n",
            "_________________________________________________________________\n"
          ],
          "name": "stdout"
        }
      ]
    },
    {
      "cell_type": "markdown",
      "metadata": {
        "id": "iMcVmKe3wGrW"
      },
      "source": [
        "출력값이 (batch_size, output_dim) 크기의 2D 텐서일 때, output_dim은 hidden_size의 값인 3.  \n",
        "그래서 batch_size를 현 단계에서는 알 수 없으므로 (None, 3)\n"
      ]
    },
    {
      "cell_type": "code",
      "metadata": {
        "colab": {
          "base_uri": "https://localhost:8080/"
        },
        "id": "A-tKqrDUv4Cx",
        "outputId": "80e1400b-8302-44d8-b79e-b21fd4f20b49"
      },
      "source": [
        "hidden_size = 3\n",
        "timesteps = 2\n",
        "input_dim = 10\n",
        "batch_size = 8 #batch_size설정\n",
        "model = Sequential()\n",
        "model.add(SimpleRNN(hidden_size, batch_input_shape=(batch_size,timesteps,input_dim)))\n",
        "model.summary()"
      ],
      "execution_count": null,
      "outputs": [
        {
          "output_type": "stream",
          "text": [
            "Model: \"sequential_1\"\n",
            "_________________________________________________________________\n",
            "Layer (type)                 Output Shape              Param #   \n",
            "=================================================================\n",
            "simple_rnn_1 (SimpleRNN)     (8, 3)                    42        \n",
            "=================================================================\n",
            "Total params: 42\n",
            "Trainable params: 42\n",
            "Non-trainable params: 0\n",
            "_________________________________________________________________\n"
          ],
          "name": "stdout"
        }
      ]
    },
    {
      "cell_type": "markdown",
      "metadata": {
        "id": "yuLc9M-mwzFT"
      },
      "source": [
        "batch_size를 8로 기재하자, 출력의 크기가 (8, 3)"
      ]
    },
    {
      "cell_type": "code",
      "metadata": {
        "colab": {
          "base_uri": "https://localhost:8080/"
        },
        "id": "ChbLmtiEwfbw",
        "outputId": "b221fe74-0132-4c95-e113-af6ea57f7792"
      },
      "source": [
        "hidden_size = 3\n",
        "timesteps = 2\n",
        "input_dim = 10\n",
        "batch_size = 8 #batch_size설정\n",
        "model = Sequential()\n",
        "model.add(SimpleRNN(hidden_size, batch_input_shape=(batch_size,timesteps,input_dim), return_sequences=True))\n",
        "model.summary()"
      ],
      "execution_count": null,
      "outputs": [
        {
          "output_type": "stream",
          "text": [
            "Model: \"sequential_2\"\n",
            "_________________________________________________________________\n",
            "Layer (type)                 Output Shape              Param #   \n",
            "=================================================================\n",
            "simple_rnn_2 (SimpleRNN)     (8, 2, 3)                 42        \n",
            "=================================================================\n",
            "Total params: 42\n",
            "Trainable params: 42\n",
            "Non-trainable params: 0\n",
            "_________________________________________________________________\n"
          ],
          "name": "stdout"
        }
      ]
    },
    {
      "cell_type": "markdown",
      "metadata": {
        "id": "Po6QiZiGxZCJ"
      },
      "source": [
        "출력의 크기가 (8, 2, 3)이 됨"
      ]
    },
    {
      "cell_type": "markdown",
      "metadata": {
        "id": "PD6juf62xfz7"
      },
      "source": [
        "### 파이썬으로 직접 구현"
      ]
    },
    {
      "cell_type": "markdown",
      "metadata": {
        "id": "38O-dxMmy4nf"
      },
      "source": [
        "\n",
        "의사 코드\n",
        "```\n",
        "hidden_state_t = 0 # 초기 은닉 상태를 0(벡터)로 초기화\n",
        "for input_t in input_length: # 각 시점마다 입력을 받는다.\n",
        "    output_t = tanh(input_t, hidden_state_t) # 각 시점에 대해서 입력과 은닉 상태를 가지고 연산\n",
        "    hidden_state_t = output_t # 계산 결과는 현재 시점의 은닉 상태가 된다.\n",
        "```\n",
        "\n"
      ]
    },
    {
      "cell_type": "code",
      "metadata": {
        "id": "fDCC-qfOxUJI"
      },
      "source": [
        "import numpy as np\n",
        "\n",
        "#초기 입력, 타임스탭, 히든스테이트 값 설정\n",
        "\n",
        "timesteps = 10 # 시점의 수. NLP에서는 보통 문장의 길이가 된다.\n",
        "input_dim = 4 # 입력의 차원. NLP에서는 보통 단어 벡터의 차원이 된다.\n",
        "hidden_size = 8 # 은닉 상태의 크기. 메모리 셀의 용량이다.\n",
        "\n",
        "inputs = np.random.random((timesteps, input_dim)) # 입력에 해당되는 2D 텐서\n",
        "\n",
        "hidden_state_t = np.zeros((hidden_size,)) # 초기 은닉 상태는 0(벡터)로 초기화\n",
        "# 은닉 상태의 크기 hidden_size로 은닉 상태를 만듬."
      ],
      "execution_count": null,
      "outputs": []
    },
    {
      "cell_type": "code",
      "metadata": {
        "colab": {
          "base_uri": "https://localhost:8080/"
        },
        "id": "5DQVPpqIzMfJ",
        "outputId": "edaa52f0-24f6-435d-b301-b05cda538799"
      },
      "source": [
        "print(hidden_state_t) # 초기 은닉 상태"
      ],
      "execution_count": null,
      "outputs": [
        {
          "output_type": "stream",
          "text": [
            "[0. 0. 0. 0. 0. 0. 0. 0.]\n"
          ],
          "name": "stdout"
        }
      ]
    },
    {
      "cell_type": "code",
      "metadata": {
        "id": "1fy7DoPUzO1S"
      },
      "source": [
        "#입력, 히든 가중치 설정\n",
        "Wx = np.random.random((hidden_size, input_dim))  # (8, 4)크기의 2D 텐서 생성. 입력에 대한 가중치.\n",
        "Wh = np.random.random((hidden_size, hidden_size)) # (8, 8)크기의 2D 텐서 생성. 은닉 상태에 대한 가중치.\n",
        "b = np.random.random((hidden_size,)) # (8,)크기의 1D 텐서 생성. 이 값은 편향(bias)."
      ],
      "execution_count": null,
      "outputs": []
    },
    {
      "cell_type": "code",
      "metadata": {
        "colab": {
          "base_uri": "https://localhost:8080/"
        },
        "id": "RPD3FgCIzpgG",
        "outputId": "6a822831-2527-43c9-f349-3588505adba7"
      },
      "source": [
        "#가중치와 편향의 크기 확인\n",
        "print(np.shape(Wx))\n",
        "print(np.shape(Wh))\n",
        "print(np.shape(b))"
      ],
      "execution_count": null,
      "outputs": [
        {
          "output_type": "stream",
          "text": [
            "(8, 4)\n",
            "(8, 8)\n",
            "(8,)\n"
          ],
          "name": "stdout"
        }
      ]
    },
    {
      "cell_type": "markdown",
      "metadata": {
        "id": "bDt6sANH0rJ_"
      },
      "source": [
        "![image.png](data:image/png;base64,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)"
      ]
    },
    {
      "cell_type": "code",
      "metadata": {
        "colab": {
          "base_uri": "https://localhost:8080/"
        },
        "id": "zb-QHevw0aTf",
        "outputId": "4b8add94-15c4-402c-d4f0-fe25e27136dd"
      },
      "source": [
        "total_hidden_states = []\n",
        "\n",
        "# 메모리 셀 동작\n",
        "for input_t in inputs: # 각 시점에 따라서 입력값이 입력됨.\n",
        "  output_t = np.tanh(np.dot(Wx,input_t) + np.dot(Wh,hidden_state_t) + b) # Wx * Xt + Wh * Ht-1 + b(bias)\n",
        "  total_hidden_states.append(list(output_t)) # 각 시점의 은닉 상태의 값을 계속해서 축적\n",
        "  print(np.shape(total_hidden_states)) # 각 시점 t별 메모리 셀의 출력의 크기는 (timestep, output_dim)\n",
        "  hidden_state_t = output_t\n",
        "\n",
        "total_hidden_states = np.stack(total_hidden_states, axis = 0) \n",
        "# 출력 시 값을 깔끔하게 해준다.\n",
        "\n",
        "print(total_hidden_states) # (timesteps, output_dim)의 크기. 이 경우 (10, 8)의 크기를 가지는 메모리 셀의 2D 텐서를 출력."
      ],
      "execution_count": null,
      "outputs": [
        {
          "output_type": "stream",
          "text": [
            "(1, 8)\n",
            "(2, 8)\n",
            "(3, 8)\n",
            "(4, 8)\n",
            "(5, 8)\n",
            "(6, 8)\n",
            "(7, 8)\n",
            "(8, 8)\n",
            "(9, 8)\n",
            "(10, 8)\n",
            "[[0.22364814 0.88316435 0.90339992 0.55720634 0.89722888 0.67427525\n",
            "  0.77323787 0.84802971]\n",
            " [0.9988804  0.99985694 0.99999351 0.9996528  0.99942303 0.99796056\n",
            "  0.99945957 0.99993893]\n",
            " [0.99991582 0.9999759  0.99999825 0.99995125 0.99997152 0.99865176\n",
            "  0.99992751 0.99996084]\n",
            " [0.99991873 0.99997448 0.99999864 0.99995492 0.99996269 0.99878048\n",
            "  0.99991201 0.99996878]\n",
            " [0.99989231 0.9999761  0.9999985  0.99989326 0.99994168 0.99848315\n",
            "  0.99985291 0.99997844]\n",
            " [0.99992533 0.99998841 0.99999956 0.99994364 0.99995507 0.99934405\n",
            "  0.99990132 0.99999005]\n",
            " [0.99996511 0.99999291 0.99999968 0.99998116 0.99998536 0.99959401\n",
            "  0.99996263 0.99998803]\n",
            " [0.99989577 0.99998112 0.99999913 0.9998975  0.99993095 0.99886913\n",
            "  0.99984102 0.99998646]\n",
            " [0.99986399 0.99993774 0.99999859 0.99987154 0.99973973 0.99797586\n",
            "  0.99949772 0.99998383]\n",
            " [0.99994056 0.99995029 0.99999858 0.99995061 0.99989752 0.9983925\n",
            "  0.99974939 0.99997851]]\n"
          ],
          "name": "stdout"
        }
      ]
    }
  ]
}