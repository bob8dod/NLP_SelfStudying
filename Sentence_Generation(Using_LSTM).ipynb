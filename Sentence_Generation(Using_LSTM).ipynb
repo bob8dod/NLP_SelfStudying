{
  "nbformat": 4,
  "nbformat_minor": 0,
  "metadata": {
    "colab": {
      "name": "Sentence_Generation(Using_LSTM).ipynb",
      "provenance": [],
      "authorship_tag": "ABX9TyOZd72oP/4DGxQo8NQG5W1l",
      "include_colab_link": true
    },
    "kernelspec": {
      "name": "python3",
      "display_name": "Python 3"
    },
    "language_info": {
      "name": "python"
    }
  },
  "cells": [
    {
      "cell_type": "markdown",
      "metadata": {
        "id": "view-in-github",
        "colab_type": "text"
      },
      "source": [
        "<a href=\"https://colab.research.google.com/github/bob8dod/NLP_SelfStudying/blob/main/Sentence_Generation(Using_LSTM).ipynb\" target=\"_parent\"><img src=\"https://colab.research.google.com/assets/colab-badge.svg\" alt=\"Open In Colab\"/></a>"
      ]
    },
    {
      "cell_type": "markdown",
      "metadata": {
        "id": "JF7dJIN_tg6q"
      },
      "source": [
        "## LSTM을 이용하여 텍스트 생성하기"
      ]
    },
    {
      "cell_type": "code",
      "metadata": {
        "id": "ixekMlPMtP3K"
      },
      "source": [
        "import pandas as pd\n",
        "from string import punctuation\n",
        "from tensorflow.keras.preprocessing.text import Tokenizer\n",
        "from tensorflow.keras.preprocessing.sequence import pad_sequences\n",
        "import numpy as np\n",
        "from tensorflow.keras.utils import to_categorical"
      ],
      "execution_count": null,
      "outputs": []
    },
    {
      "cell_type": "code",
      "metadata": {
        "colab": {
          "base_uri": "https://localhost:8080/",
          "height": 315
        },
        "id": "xZVaQRyTuC0A",
        "outputId": "05afd4ae-0603-4397-e8b3-6c11a9bba0fa"
      },
      "source": [
        "df=pd.read_csv('/content/ArticlesApril2018.csv')\n",
        "df.head(2)"
      ],
      "execution_count": null,
      "outputs": [
        {
          "output_type": "execute_result",
          "data": {
            "text/html": [
              "<div>\n",
              "<style scoped>\n",
              "    .dataframe tbody tr th:only-of-type {\n",
              "        vertical-align: middle;\n",
              "    }\n",
              "\n",
              "    .dataframe tbody tr th {\n",
              "        vertical-align: top;\n",
              "    }\n",
              "\n",
              "    .dataframe thead th {\n",
              "        text-align: right;\n",
              "    }\n",
              "</style>\n",
              "<table border=\"1\" class=\"dataframe\">\n",
              "  <thead>\n",
              "    <tr style=\"text-align: right;\">\n",
              "      <th></th>\n",
              "      <th>articleID</th>\n",
              "      <th>articleWordCount</th>\n",
              "      <th>byline</th>\n",
              "      <th>documentType</th>\n",
              "      <th>headline</th>\n",
              "      <th>keywords</th>\n",
              "      <th>multimedia</th>\n",
              "      <th>newDesk</th>\n",
              "      <th>printPage</th>\n",
              "      <th>pubDate</th>\n",
              "      <th>sectionName</th>\n",
              "      <th>snippet</th>\n",
              "      <th>source</th>\n",
              "      <th>typeOfMaterial</th>\n",
              "      <th>webURL</th>\n",
              "    </tr>\n",
              "  </thead>\n",
              "  <tbody>\n",
              "    <tr>\n",
              "      <th>0</th>\n",
              "      <td>5adf6684068401528a2aa69b</td>\n",
              "      <td>781</td>\n",
              "      <td>By JOHN BRANCH</td>\n",
              "      <td>article</td>\n",
              "      <td>Former N.F.L. Cheerleaders’ Settlement Offer: ...</td>\n",
              "      <td>['Workplace Hazards and Violations', 'Football...</td>\n",
              "      <td>68</td>\n",
              "      <td>Sports</td>\n",
              "      <td>0</td>\n",
              "      <td>2018-04-24 17:16:49</td>\n",
              "      <td>Pro Football</td>\n",
              "      <td>“I understand that they could meet with us, pa...</td>\n",
              "      <td>The New York Times</td>\n",
              "      <td>News</td>\n",
              "      <td>https://www.nytimes.com/2018/04/24/sports/foot...</td>\n",
              "    </tr>\n",
              "    <tr>\n",
              "      <th>1</th>\n",
              "      <td>5adf653f068401528a2aa697</td>\n",
              "      <td>656</td>\n",
              "      <td>By LISA FRIEDMAN</td>\n",
              "      <td>article</td>\n",
              "      <td>E.P.A. to Unveil a New Rule. Its Effect: Less ...</td>\n",
              "      <td>['Environmental Protection Agency', 'Pruitt, S...</td>\n",
              "      <td>68</td>\n",
              "      <td>Climate</td>\n",
              "      <td>0</td>\n",
              "      <td>2018-04-24 17:11:21</td>\n",
              "      <td>Unknown</td>\n",
              "      <td>The agency plans to publish a new regulation T...</td>\n",
              "      <td>The New York Times</td>\n",
              "      <td>News</td>\n",
              "      <td>https://www.nytimes.com/2018/04/24/climate/epa...</td>\n",
              "    </tr>\n",
              "  </tbody>\n",
              "</table>\n",
              "</div>"
            ],
            "text/plain": [
              "                  articleID  ...                                             webURL\n",
              "0  5adf6684068401528a2aa69b  ...  https://www.nytimes.com/2018/04/24/sports/foot...\n",
              "1  5adf653f068401528a2aa697  ...  https://www.nytimes.com/2018/04/24/climate/epa...\n",
              "\n",
              "[2 rows x 15 columns]"
            ]
          },
          "metadata": {
            "tags": []
          },
          "execution_count": 42
        }
      ]
    },
    {
      "cell_type": "code",
      "metadata": {
        "colab": {
          "base_uri": "https://localhost:8080/"
        },
        "id": "XjDmo9ptuRPp",
        "outputId": "27a27fc6-f32e-42b7-bab1-d189dc272137"
      },
      "source": [
        "print('열의 개수: ',len(df.columns))\n",
        "print(df.columns)\n",
        "# 사용할 열은 제목에 해당되는 headline 열\n",
        "df['headline'].isnull().values.any()"
      ],
      "execution_count": null,
      "outputs": [
        {
          "output_type": "stream",
          "text": [
            "열의 개수:  15\n",
            "Index(['articleID', 'articleWordCount', 'byline', 'documentType', 'headline',\n",
            "       'keywords', 'multimedia', 'newDesk', 'printPage', 'pubDate',\n",
            "       'sectionName', 'snippet', 'source', 'typeOfMaterial', 'webURL'],\n",
            "      dtype='object')\n"
          ],
          "name": "stdout"
        },
        {
          "output_type": "execute_result",
          "data": {
            "text/plain": [
              "False"
            ]
          },
          "metadata": {
            "tags": []
          },
          "execution_count": 43
        }
      ]
    },
    {
      "cell_type": "code",
      "metadata": {
        "colab": {
          "base_uri": "https://localhost:8080/"
        },
        "id": "VrnyWrUNufiK",
        "outputId": "9c745d27-1d68-425a-ce75-aa8fccd3d49d"
      },
      "source": [
        "headline = [] # 리스트 선언\n",
        "headline.extend(list(df['headline'].values)) # 헤드라인의 값들을 리스트로 저장\n",
        "# headline.extend(list(df.headline.values))\n",
        "headline[:5] # 상위 5개만 출력"
      ],
      "execution_count": null,
      "outputs": [
        {
          "output_type": "execute_result",
          "data": {
            "text/plain": [
              "['Former N.F.L. Cheerleaders’ Settlement Offer: $1 and a Meeting With Goodell',\n",
              " 'E.P.A. to Unveil a New Rule. Its Effect: Less Science in Policymaking.',\n",
              " 'The New Noma, Explained',\n",
              " 'Unknown',\n",
              " 'Unknown']"
            ]
          },
          "metadata": {
            "tags": []
          },
          "execution_count": 44
        }
      ]
    },
    {
      "cell_type": "code",
      "metadata": {
        "colab": {
          "base_uri": "https://localhost:8080/"
        },
        "id": "csKXt1AXu-XA",
        "outputId": "35e78775-3d96-47c7-e7d4-c32e9a51b8c1"
      },
      "source": [
        "headline = [n for n in headline if n != \"Unknown\"] # Unknown 값을 가진 샘플 제거\n",
        "print('노이즈값 제거 후 샘플의 개수 : {}'.format(len(headline))) # 제거 후 샘플의 개수"
      ],
      "execution_count": null,
      "outputs": [
        {
          "output_type": "stream",
          "text": [
            "노이즈값 제거 후 샘플의 개수 : 1214\n"
          ],
          "name": "stdout"
        }
      ]
    },
    {
      "cell_type": "code",
      "metadata": {
        "colab": {
          "base_uri": "https://localhost:8080/"
        },
        "id": "dIcCbM0rvR5V",
        "outputId": "a3a38f44-1d49-43b4-ef27-3b064e4de6fc"
      },
      "source": [
        "def repreprocessing(s):\n",
        "    s=s.encode(\"utf8\").decode(\"ascii\",'ignore')\n",
        "    return ''.join(c for c in s if c not in punctuation).lower() # 구두점 제거와 동시에 소문자화\n",
        "\n",
        "text = [repreprocessing(x) for x in headline]\n",
        "text[:5]"
      ],
      "execution_count": null,
      "outputs": [
        {
          "output_type": "execute_result",
          "data": {
            "text/plain": [
              "['former nfl cheerleaders settlement offer 1 and a meeting with goodell',\n",
              " 'epa to unveil a new rule its effect less science in policymaking',\n",
              " 'the new noma explained',\n",
              " 'how a bag of texas dirt  became a times tradition',\n",
              " 'is school a place for selfexpression']"
            ]
          },
          "metadata": {
            "tags": []
          },
          "execution_count": 46
        }
      ]
    },
    {
      "cell_type": "markdown",
      "metadata": {
        "id": "dqd6PG2WvfmL"
      },
      "source": [
        "본격적인 자연어처리 과정"
      ]
    },
    {
      "cell_type": "code",
      "metadata": {
        "colab": {
          "base_uri": "https://localhost:8080/"
        },
        "id": "FeWs0d9BvYVj",
        "outputId": "4a30057f-49c8-4a9f-e851-f911c840f182"
      },
      "source": [
        "t = Tokenizer()\n",
        "t.fit_on_texts(text)\n",
        "vocab_size = len(t.word_index) + 1\n",
        "print('단어 집합의 크기 : %d' % vocab_size)"
      ],
      "execution_count": null,
      "outputs": [
        {
          "output_type": "stream",
          "text": [
            "단어 집합의 크기 : 3494\n"
          ],
          "name": "stdout"
        }
      ]
    },
    {
      "cell_type": "code",
      "metadata": {
        "colab": {
          "base_uri": "https://localhost:8080/"
        },
        "id": "N1242WPMvjI0",
        "outputId": "0b5a3ef6-7519-4e06-a2a2-b32c57d21ad2"
      },
      "source": [
        "# 정수 인코딩과 동시에 하나의 문장을 여러 줄로 분해하여 훈련 데이터를 구성\n",
        "sequences = list()\n",
        "\n",
        "for line in text: # 1,214 개의 샘플에 대해서 샘플을 1개씩 가져온다.\n",
        "    encoded = t.texts_to_sequences([line])[0] # 각 샘플에 대한 정수 인코딩\n",
        "    for i in range(1, len(encoded)):\n",
        "        sequence = encoded[:i+1]\n",
        "        sequences.append(sequence)\n",
        "\n",
        "sequences[:11]"
      ],
      "execution_count": null,
      "outputs": [
        {
          "output_type": "execute_result",
          "data": {
            "text/plain": [
              "[[99, 269],\n",
              " [99, 269, 371],\n",
              " [99, 269, 371, 1115],\n",
              " [99, 269, 371, 1115, 582],\n",
              " [99, 269, 371, 1115, 582, 52],\n",
              " [99, 269, 371, 1115, 582, 52, 7],\n",
              " [99, 269, 371, 1115, 582, 52, 7, 2],\n",
              " [99, 269, 371, 1115, 582, 52, 7, 2, 372],\n",
              " [99, 269, 371, 1115, 582, 52, 7, 2, 372, 10],\n",
              " [99, 269, 371, 1115, 582, 52, 7, 2, 372, 10, 1116],\n",
              " [100, 3]]"
            ]
          },
          "metadata": {
            "tags": []
          },
          "execution_count": 48
        }
      ]
    },
    {
      "cell_type": "code",
      "metadata": {
        "colab": {
          "base_uri": "https://localhost:8080/"
        },
        "id": "H3puCwvmvsmc",
        "outputId": "2910430e-ac7d-4406-b6b3-0b9eef432eef"
      },
      "source": [
        "# 레이블로 분리하기 전에 전체 샘플의 길이를 동일하게 만드는 패딩 작업을 수행\n",
        "max_len=max(len(l) for l in sequences)\n",
        "print('샘플의 최대 길이 : {}'.format(max_len))\n",
        "\n",
        "sequences = pad_sequences(sequences, maxlen=max_len, padding='pre')\n",
        "print(sequences[:3])"
      ],
      "execution_count": null,
      "outputs": [
        {
          "output_type": "stream",
          "text": [
            "샘플의 최대 길이 : 24\n",
            "[[   0    0    0    0    0    0    0    0    0    0    0    0    0    0\n",
            "     0    0    0    0    0    0    0    0   99  269]\n",
            " [   0    0    0    0    0    0    0    0    0    0    0    0    0    0\n",
            "     0    0    0    0    0    0    0   99  269  371]\n",
            " [   0    0    0    0    0    0    0    0    0    0    0    0    0    0\n",
            "     0    0    0    0    0    0   99  269  371 1115]]\n"
          ],
          "name": "stdout"
        }
      ]
    },
    {
      "cell_type": "code",
      "metadata": {
        "id": "8cw4qC_OwNdY"
      },
      "source": [
        "# 맨 우측 단어만 레이블로 분리\n",
        "sequences = np.array(sequences)\n",
        "X = sequences[:,:-1]\n",
        "y = sequences[:,-1]"
      ],
      "execution_count": null,
      "outputs": []
    },
    {
      "cell_type": "code",
      "metadata": {
        "id": "uqmSG7zswRVV"
      },
      "source": [
        "#  원-핫 인코딩을 수행\n",
        "y = to_categorical(y, num_classes=vocab_size)"
      ],
      "execution_count": null,
      "outputs": []
    },
    {
      "cell_type": "markdown",
      "metadata": {
        "id": "_beNtBlbwX77"
      },
      "source": [
        "모델 설계 및 학습"
      ]
    },
    {
      "cell_type": "code",
      "metadata": {
        "colab": {
          "base_uri": "https://localhost:8080/"
        },
        "id": "Qio-Yb6rwWrg",
        "outputId": "c8225ae3-896e-4c12-b5a9-5b673e18fe54"
      },
      "source": [
        "from tensorflow.keras.models import Sequential\n",
        "from tensorflow.keras.layers import Embedding, Dense, LSTM\n",
        "\n",
        "model = Sequential()\n",
        "model.add(Embedding(vocab_size, 10, input_length=max_len-1))\n",
        "# y데이터를 분리하였으므로 이제 X데이터의 길이는 기존 데이터의 길이 - 1\n",
        "model.add(LSTM(128))\n",
        "model.add(Dense(vocab_size, activation='softmax'))\n",
        "model.compile(loss='categorical_crossentropy', optimizer='adam', metrics=['accuracy'])\n",
        "model.fit(X, y, epochs=200, verbose=2)"
      ],
      "execution_count": null,
      "outputs": [
        {
          "output_type": "stream",
          "text": [
            "Epoch 1/200\n",
            "244/244 - 3s - loss: 7.6301 - accuracy: 0.0293\n",
            "Epoch 2/200\n",
            "244/244 - 1s - loss: 7.1072 - accuracy: 0.0315\n",
            "Epoch 3/200\n",
            "244/244 - 1s - loss: 6.9742 - accuracy: 0.0363\n",
            "Epoch 4/200\n",
            "244/244 - 1s - loss: 6.8619 - accuracy: 0.0429\n",
            "Epoch 5/200\n",
            "244/244 - 1s - loss: 6.7207 - accuracy: 0.0460\n",
            "Epoch 6/200\n",
            "244/244 - 1s - loss: 6.5537 - accuracy: 0.0483\n",
            "Epoch 7/200\n",
            "244/244 - 1s - loss: 6.3650 - accuracy: 0.0507\n",
            "Epoch 8/200\n",
            "244/244 - 1s - loss: 6.1584 - accuracy: 0.0596\n",
            "Epoch 9/200\n",
            "244/244 - 1s - loss: 5.9572 - accuracy: 0.0598\n",
            "Epoch 10/200\n",
            "244/244 - 1s - loss: 5.7686 - accuracy: 0.0660\n",
            "Epoch 11/200\n",
            "244/244 - 1s - loss: 5.5959 - accuracy: 0.0723\n",
            "Epoch 12/200\n",
            "244/244 - 1s - loss: 5.4272 - accuracy: 0.0760\n",
            "Epoch 13/200\n",
            "244/244 - 1s - loss: 5.2691 - accuracy: 0.0811\n",
            "Epoch 14/200\n",
            "244/244 - 1s - loss: 5.1182 - accuracy: 0.0893\n",
            "Epoch 15/200\n",
            "244/244 - 1s - loss: 4.9780 - accuracy: 0.0970\n",
            "Epoch 16/200\n",
            "244/244 - 1s - loss: 4.8444 - accuracy: 0.1061\n",
            "Epoch 17/200\n",
            "244/244 - 1s - loss: 4.7124 - accuracy: 0.1178\n",
            "Epoch 18/200\n",
            "244/244 - 1s - loss: 4.5867 - accuracy: 0.1307\n",
            "Epoch 19/200\n",
            "244/244 - 1s - loss: 4.4671 - accuracy: 0.1475\n",
            "Epoch 20/200\n",
            "244/244 - 1s - loss: 4.3480 - accuracy: 0.1646\n",
            "Epoch 21/200\n",
            "244/244 - 1s - loss: 4.2332 - accuracy: 0.1780\n",
            "Epoch 22/200\n",
            "244/244 - 1s - loss: 4.1235 - accuracy: 0.1990\n",
            "Epoch 23/200\n",
            "244/244 - 1s - loss: 4.0166 - accuracy: 0.2141\n",
            "Epoch 24/200\n",
            "244/244 - 1s - loss: 3.9118 - accuracy: 0.2312\n",
            "Epoch 25/200\n",
            "244/244 - 1s - loss: 3.8140 - accuracy: 0.2459\n",
            "Epoch 26/200\n",
            "244/244 - 1s - loss: 3.7140 - accuracy: 0.2639\n",
            "Epoch 27/200\n",
            "244/244 - 1s - loss: 3.6186 - accuracy: 0.2841\n",
            "Epoch 28/200\n",
            "244/244 - 1s - loss: 3.5303 - accuracy: 0.2921\n",
            "Epoch 29/200\n",
            "244/244 - 1s - loss: 3.4402 - accuracy: 0.3109\n",
            "Epoch 30/200\n",
            "244/244 - 1s - loss: 3.3528 - accuracy: 0.3167\n",
            "Epoch 31/200\n",
            "244/244 - 1s - loss: 3.2688 - accuracy: 0.3433\n",
            "Epoch 32/200\n",
            "244/244 - 1s - loss: 3.1913 - accuracy: 0.3555\n",
            "Epoch 33/200\n",
            "244/244 - 1s - loss: 3.1126 - accuracy: 0.3690\n",
            "Epoch 34/200\n",
            "244/244 - 1s - loss: 3.0342 - accuracy: 0.3788\n",
            "Epoch 35/200\n",
            "244/244 - 1s - loss: 2.9643 - accuracy: 0.3919\n",
            "Epoch 36/200\n",
            "244/244 - 1s - loss: 2.8946 - accuracy: 0.4073\n",
            "Epoch 37/200\n",
            "244/244 - 1s - loss: 2.8260 - accuracy: 0.4245\n",
            "Epoch 38/200\n",
            "244/244 - 1s - loss: 2.7602 - accuracy: 0.4373\n",
            "Epoch 39/200\n",
            "244/244 - 1s - loss: 2.6921 - accuracy: 0.4503\n",
            "Epoch 40/200\n",
            "244/244 - 1s - loss: 2.6269 - accuracy: 0.4596\n",
            "Epoch 41/200\n",
            "244/244 - 1s - loss: 2.5685 - accuracy: 0.4706\n",
            "Epoch 42/200\n",
            "244/244 - 1s - loss: 2.5079 - accuracy: 0.4849\n",
            "Epoch 43/200\n",
            "244/244 - 1s - loss: 2.4494 - accuracy: 0.4969\n",
            "Epoch 44/200\n",
            "244/244 - 1s - loss: 2.3933 - accuracy: 0.5072\n",
            "Epoch 45/200\n",
            "244/244 - 1s - loss: 2.3388 - accuracy: 0.5197\n",
            "Epoch 46/200\n",
            "244/244 - 1s - loss: 2.2852 - accuracy: 0.5320\n",
            "Epoch 47/200\n",
            "244/244 - 1s - loss: 2.2336 - accuracy: 0.5418\n",
            "Epoch 48/200\n",
            "244/244 - 1s - loss: 2.1832 - accuracy: 0.5541\n",
            "Epoch 49/200\n",
            "244/244 - 1s - loss: 2.1339 - accuracy: 0.5640\n",
            "Epoch 50/200\n",
            "244/244 - 1s - loss: 2.0846 - accuracy: 0.5731\n",
            "Epoch 51/200\n",
            "244/244 - 1s - loss: 2.0412 - accuracy: 0.5816\n",
            "Epoch 52/200\n",
            "244/244 - 1s - loss: 1.9927 - accuracy: 0.5959\n",
            "Epoch 53/200\n",
            "244/244 - 1s - loss: 1.9497 - accuracy: 0.5978\n",
            "Epoch 54/200\n",
            "244/244 - 1s - loss: 1.9064 - accuracy: 0.6109\n",
            "Epoch 55/200\n",
            "244/244 - 1s - loss: 1.8632 - accuracy: 0.6221\n",
            "Epoch 56/200\n",
            "244/244 - 1s - loss: 1.8229 - accuracy: 0.6331\n",
            "Epoch 57/200\n",
            "244/244 - 1s - loss: 1.7843 - accuracy: 0.6391\n",
            "Epoch 58/200\n",
            "244/244 - 1s - loss: 1.7432 - accuracy: 0.6463\n",
            "Epoch 59/200\n",
            "244/244 - 1s - loss: 1.7048 - accuracy: 0.6540\n",
            "Epoch 60/200\n",
            "244/244 - 1s - loss: 1.6671 - accuracy: 0.6628\n",
            "Epoch 61/200\n",
            "244/244 - 1s - loss: 1.6345 - accuracy: 0.6699\n",
            "Epoch 62/200\n",
            "244/244 - 1s - loss: 1.5966 - accuracy: 0.6737\n",
            "Epoch 63/200\n",
            "244/244 - 1s - loss: 1.5605 - accuracy: 0.6860\n",
            "Epoch 64/200\n",
            "244/244 - 1s - loss: 1.5265 - accuracy: 0.6941\n",
            "Epoch 65/200\n",
            "244/244 - 1s - loss: 1.4949 - accuracy: 0.6981\n",
            "Epoch 66/200\n",
            "244/244 - 1s - loss: 1.4605 - accuracy: 0.7096\n",
            "Epoch 67/200\n",
            "244/244 - 1s - loss: 1.4295 - accuracy: 0.7138\n",
            "Epoch 68/200\n",
            "244/244 - 1s - loss: 1.3994 - accuracy: 0.7211\n",
            "Epoch 69/200\n",
            "244/244 - 1s - loss: 1.3680 - accuracy: 0.7293\n",
            "Epoch 70/200\n",
            "244/244 - 1s - loss: 1.3377 - accuracy: 0.7343\n",
            "Epoch 71/200\n",
            "244/244 - 1s - loss: 1.3080 - accuracy: 0.7430\n",
            "Epoch 72/200\n",
            "244/244 - 1s - loss: 1.2806 - accuracy: 0.7475\n",
            "Epoch 73/200\n",
            "244/244 - 1s - loss: 1.2516 - accuracy: 0.7511\n",
            "Epoch 74/200\n",
            "244/244 - 1s - loss: 1.2234 - accuracy: 0.7602\n",
            "Epoch 75/200\n",
            "244/244 - 1s - loss: 1.1986 - accuracy: 0.7609\n",
            "Epoch 76/200\n",
            "244/244 - 1s - loss: 1.1698 - accuracy: 0.7735\n",
            "Epoch 77/200\n",
            "244/244 - 1s - loss: 1.1454 - accuracy: 0.7733\n",
            "Epoch 78/200\n",
            "244/244 - 1s - loss: 1.1206 - accuracy: 0.7798\n",
            "Epoch 79/200\n",
            "244/244 - 1s - loss: 1.0946 - accuracy: 0.7835\n",
            "Epoch 80/200\n",
            "244/244 - 1s - loss: 1.0699 - accuracy: 0.7893\n",
            "Epoch 81/200\n",
            "244/244 - 1s - loss: 1.0485 - accuracy: 0.7951\n",
            "Epoch 82/200\n",
            "244/244 - 1s - loss: 1.0226 - accuracy: 0.7985\n",
            "Epoch 83/200\n",
            "244/244 - 1s - loss: 1.0010 - accuracy: 0.8026\n",
            "Epoch 84/200\n",
            "244/244 - 1s - loss: 0.9785 - accuracy: 0.8066\n",
            "Epoch 85/200\n",
            "244/244 - 1s - loss: 0.9582 - accuracy: 0.8128\n",
            "Epoch 86/200\n",
            "244/244 - 1s - loss: 0.9372 - accuracy: 0.8174\n",
            "Epoch 87/200\n",
            "244/244 - 1s - loss: 0.9147 - accuracy: 0.8219\n",
            "Epoch 88/200\n",
            "244/244 - 1s - loss: 0.8929 - accuracy: 0.8251\n",
            "Epoch 89/200\n",
            "244/244 - 1s - loss: 0.8743 - accuracy: 0.8288\n",
            "Epoch 90/200\n",
            "244/244 - 1s - loss: 0.8553 - accuracy: 0.8322\n",
            "Epoch 91/200\n",
            "244/244 - 1s - loss: 0.8378 - accuracy: 0.8374\n",
            "Epoch 92/200\n",
            "244/244 - 1s - loss: 0.8192 - accuracy: 0.8393\n",
            "Epoch 93/200\n",
            "244/244 - 1s - loss: 0.8032 - accuracy: 0.8403\n",
            "Epoch 94/200\n",
            "244/244 - 1s - loss: 0.7835 - accuracy: 0.8433\n",
            "Epoch 95/200\n",
            "244/244 - 1s - loss: 0.7670 - accuracy: 0.8519\n",
            "Epoch 96/200\n",
            "244/244 - 1s - loss: 0.7503 - accuracy: 0.8525\n",
            "Epoch 97/200\n",
            "244/244 - 1s - loss: 0.7334 - accuracy: 0.8554\n",
            "Epoch 98/200\n",
            "244/244 - 1s - loss: 0.7162 - accuracy: 0.8572\n",
            "Epoch 99/200\n",
            "244/244 - 1s - loss: 0.7033 - accuracy: 0.8615\n",
            "Epoch 100/200\n",
            "244/244 - 1s - loss: 0.6894 - accuracy: 0.8635\n",
            "Epoch 101/200\n",
            "244/244 - 1s - loss: 0.6723 - accuracy: 0.8685\n",
            "Epoch 102/200\n",
            "244/244 - 1s - loss: 0.6582 - accuracy: 0.8688\n",
            "Epoch 103/200\n",
            "244/244 - 1s - loss: 0.6463 - accuracy: 0.8725\n",
            "Epoch 104/200\n",
            "244/244 - 1s - loss: 0.6298 - accuracy: 0.8745\n",
            "Epoch 105/200\n",
            "244/244 - 1s - loss: 0.6188 - accuracy: 0.8775\n",
            "Epoch 106/200\n",
            "244/244 - 1s - loss: 0.6058 - accuracy: 0.8781\n",
            "Epoch 107/200\n",
            "244/244 - 1s - loss: 0.5925 - accuracy: 0.8797\n",
            "Epoch 108/200\n",
            "244/244 - 1s - loss: 0.5788 - accuracy: 0.8839\n",
            "Epoch 109/200\n",
            "244/244 - 1s - loss: 0.5688 - accuracy: 0.8839\n",
            "Epoch 110/200\n",
            "244/244 - 1s - loss: 0.5600 - accuracy: 0.8876\n",
            "Epoch 111/200\n",
            "244/244 - 1s - loss: 0.5492 - accuracy: 0.8875\n",
            "Epoch 112/200\n",
            "244/244 - 1s - loss: 0.5375 - accuracy: 0.8894\n",
            "Epoch 113/200\n",
            "244/244 - 1s - loss: 0.5269 - accuracy: 0.8898\n",
            "Epoch 114/200\n",
            "244/244 - 1s - loss: 0.5170 - accuracy: 0.8932\n",
            "Epoch 115/200\n",
            "244/244 - 1s - loss: 0.5068 - accuracy: 0.8962\n",
            "Epoch 116/200\n",
            "244/244 - 1s - loss: 0.4981 - accuracy: 0.8970\n",
            "Epoch 117/200\n",
            "244/244 - 1s - loss: 0.4899 - accuracy: 0.8970\n",
            "Epoch 118/200\n",
            "244/244 - 1s - loss: 0.4839 - accuracy: 0.8958\n",
            "Epoch 119/200\n",
            "244/244 - 1s - loss: 0.4713 - accuracy: 0.8981\n",
            "Epoch 120/200\n",
            "244/244 - 1s - loss: 0.4636 - accuracy: 0.9002\n",
            "Epoch 121/200\n",
            "244/244 - 1s - loss: 0.4549 - accuracy: 0.9023\n",
            "Epoch 122/200\n",
            "244/244 - 1s - loss: 0.4467 - accuracy: 0.9017\n",
            "Epoch 123/200\n",
            "244/244 - 1s - loss: 0.4405 - accuracy: 0.9017\n",
            "Epoch 124/200\n",
            "244/244 - 1s - loss: 0.4342 - accuracy: 0.9062\n",
            "Epoch 125/200\n",
            "244/244 - 1s - loss: 0.4259 - accuracy: 0.9063\n",
            "Epoch 126/200\n",
            "244/244 - 1s - loss: 0.4214 - accuracy: 0.9070\n",
            "Epoch 127/200\n",
            "244/244 - 1s - loss: 0.4259 - accuracy: 0.9044\n",
            "Epoch 128/200\n",
            "244/244 - 1s - loss: 0.4169 - accuracy: 0.9057\n",
            "Epoch 129/200\n",
            "244/244 - 1s - loss: 0.4022 - accuracy: 0.9070\n",
            "Epoch 130/200\n",
            "244/244 - 1s - loss: 0.3946 - accuracy: 0.9066\n",
            "Epoch 131/200\n",
            "244/244 - 1s - loss: 0.3907 - accuracy: 0.9093\n",
            "Epoch 132/200\n",
            "244/244 - 1s - loss: 0.3853 - accuracy: 0.9103\n",
            "Epoch 133/200\n",
            "244/244 - 1s - loss: 0.3798 - accuracy: 0.9089\n",
            "Epoch 134/200\n",
            "244/244 - 1s - loss: 0.3769 - accuracy: 0.9094\n",
            "Epoch 135/200\n",
            "244/244 - 1s - loss: 0.3723 - accuracy: 0.9100\n",
            "Epoch 136/200\n",
            "244/244 - 1s - loss: 0.3660 - accuracy: 0.9131\n",
            "Epoch 137/200\n",
            "244/244 - 1s - loss: 0.3716 - accuracy: 0.9084\n",
            "Epoch 138/200\n",
            "244/244 - 1s - loss: 0.3751 - accuracy: 0.9112\n",
            "Epoch 139/200\n",
            "244/244 - 1s - loss: 0.3623 - accuracy: 0.9116\n",
            "Epoch 140/200\n",
            "244/244 - 1s - loss: 0.3504 - accuracy: 0.9122\n",
            "Epoch 141/200\n",
            "244/244 - 1s - loss: 0.3477 - accuracy: 0.9123\n",
            "Epoch 142/200\n",
            "244/244 - 1s - loss: 0.3431 - accuracy: 0.9125\n",
            "Epoch 143/200\n",
            "244/244 - 1s - loss: 0.3400 - accuracy: 0.9136\n",
            "Epoch 144/200\n",
            "244/244 - 1s - loss: 0.3360 - accuracy: 0.9134\n",
            "Epoch 145/200\n",
            "244/244 - 1s - loss: 0.3334 - accuracy: 0.9145\n",
            "Epoch 146/200\n",
            "244/244 - 1s - loss: 0.3302 - accuracy: 0.9146\n",
            "Epoch 147/200\n",
            "244/244 - 1s - loss: 0.3268 - accuracy: 0.9157\n",
            "Epoch 148/200\n",
            "244/244 - 1s - loss: 0.3255 - accuracy: 0.9148\n",
            "Epoch 149/200\n",
            "244/244 - 1s - loss: 0.3433 - accuracy: 0.9141\n",
            "Epoch 150/200\n",
            "244/244 - 1s - loss: 0.3327 - accuracy: 0.9140\n",
            "Epoch 151/200\n",
            "244/244 - 1s - loss: 0.3198 - accuracy: 0.9152\n",
            "Epoch 152/200\n",
            "244/244 - 1s - loss: 0.3154 - accuracy: 0.9166\n",
            "Epoch 153/200\n",
            "244/244 - 1s - loss: 0.3113 - accuracy: 0.9153\n",
            "Epoch 154/200\n",
            "244/244 - 1s - loss: 0.3096 - accuracy: 0.9158\n",
            "Epoch 155/200\n",
            "244/244 - 1s - loss: 0.3082 - accuracy: 0.9163\n",
            "Epoch 156/200\n",
            "244/244 - 1s - loss: 0.3063 - accuracy: 0.9153\n",
            "Epoch 157/200\n",
            "244/244 - 1s - loss: 0.3049 - accuracy: 0.9150\n",
            "Epoch 158/200\n",
            "244/244 - 1s - loss: 0.3025 - accuracy: 0.9148\n",
            "Epoch 159/200\n",
            "244/244 - 1s - loss: 0.3013 - accuracy: 0.9144\n",
            "Epoch 160/200\n",
            "244/244 - 1s - loss: 0.2992 - accuracy: 0.9159\n",
            "Epoch 161/200\n",
            "244/244 - 1s - loss: 0.2961 - accuracy: 0.9166\n",
            "Epoch 162/200\n",
            "244/244 - 1s - loss: 0.2964 - accuracy: 0.9180\n",
            "Epoch 163/200\n",
            "244/244 - 1s - loss: 0.2948 - accuracy: 0.9157\n",
            "Epoch 164/200\n",
            "244/244 - 1s - loss: 0.3084 - accuracy: 0.9140\n",
            "Epoch 165/200\n",
            "244/244 - 1s - loss: 0.3094 - accuracy: 0.9154\n",
            "Epoch 166/200\n",
            "244/244 - 1s - loss: 0.2973 - accuracy: 0.9158\n",
            "Epoch 167/200\n",
            "244/244 - 1s - loss: 0.2906 - accuracy: 0.9177\n",
            "Epoch 168/200\n",
            "244/244 - 1s - loss: 0.2872 - accuracy: 0.9162\n",
            "Epoch 169/200\n",
            "244/244 - 1s - loss: 0.2849 - accuracy: 0.9175\n",
            "Epoch 170/200\n",
            "244/244 - 1s - loss: 0.2839 - accuracy: 0.9172\n",
            "Epoch 171/200\n",
            "244/244 - 1s - loss: 0.2842 - accuracy: 0.9149\n",
            "Epoch 172/200\n",
            "244/244 - 1s - loss: 0.2831 - accuracy: 0.9177\n",
            "Epoch 173/200\n",
            "244/244 - 1s - loss: 0.2823 - accuracy: 0.9161\n",
            "Epoch 174/200\n",
            "244/244 - 1s - loss: 0.2807 - accuracy: 0.9159\n",
            "Epoch 175/200\n",
            "244/244 - 1s - loss: 0.2820 - accuracy: 0.9152\n",
            "Epoch 176/200\n",
            "244/244 - 1s - loss: 0.2802 - accuracy: 0.9177\n",
            "Epoch 177/200\n",
            "244/244 - 1s - loss: 0.2785 - accuracy: 0.9170\n",
            "Epoch 178/200\n",
            "244/244 - 1s - loss: 0.2763 - accuracy: 0.9173\n",
            "Epoch 179/200\n",
            "244/244 - 1s - loss: 0.2777 - accuracy: 0.9180\n",
            "Epoch 180/200\n",
            "244/244 - 1s - loss: 0.2748 - accuracy: 0.9164\n",
            "Epoch 181/200\n",
            "244/244 - 1s - loss: 0.2751 - accuracy: 0.9159\n",
            "Epoch 182/200\n",
            "244/244 - 1s - loss: 0.2742 - accuracy: 0.9158\n",
            "Epoch 183/200\n",
            "244/244 - 1s - loss: 0.2736 - accuracy: 0.9154\n",
            "Epoch 184/200\n",
            "244/244 - 1s - loss: 0.2813 - accuracy: 0.9146\n",
            "Epoch 185/200\n",
            "244/244 - 1s - loss: 0.3464 - accuracy: 0.8990\n",
            "Epoch 186/200\n",
            "244/244 - 1s - loss: 0.2869 - accuracy: 0.9157\n",
            "Epoch 187/200\n",
            "244/244 - 1s - loss: 0.2721 - accuracy: 0.9191\n",
            "Epoch 188/200\n",
            "244/244 - 1s - loss: 0.2693 - accuracy: 0.9167\n",
            "Epoch 189/200\n",
            "244/244 - 1s - loss: 0.2688 - accuracy: 0.9154\n",
            "Epoch 190/200\n",
            "244/244 - 1s - loss: 0.2688 - accuracy: 0.9170\n",
            "Epoch 191/200\n",
            "244/244 - 1s - loss: 0.2682 - accuracy: 0.9164\n",
            "Epoch 192/200\n",
            "244/244 - 1s - loss: 0.2672 - accuracy: 0.9163\n",
            "Epoch 193/200\n",
            "244/244 - 1s - loss: 0.2675 - accuracy: 0.9148\n",
            "Epoch 194/200\n",
            "244/244 - 1s - loss: 0.2674 - accuracy: 0.9168\n",
            "Epoch 195/200\n",
            "244/244 - 1s - loss: 0.2670 - accuracy: 0.9158\n",
            "Epoch 196/200\n",
            "244/244 - 1s - loss: 0.2665 - accuracy: 0.9181\n",
            "Epoch 197/200\n",
            "244/244 - 1s - loss: 0.2660 - accuracy: 0.9166\n",
            "Epoch 198/200\n",
            "244/244 - 1s - loss: 0.2659 - accuracy: 0.9170\n",
            "Epoch 199/200\n",
            "244/244 - 1s - loss: 0.2690 - accuracy: 0.9143\n",
            "Epoch 200/200\n",
            "244/244 - 1s - loss: 0.2663 - accuracy: 0.9162\n"
          ],
          "name": "stdout"
        },
        {
          "output_type": "execute_result",
          "data": {
            "text/plain": [
              "<tensorflow.python.keras.callbacks.History at 0x7f5fd2134290>"
            ]
          },
          "metadata": {
            "tags": []
          },
          "execution_count": 52
        }
      ]
    },
    {
      "cell_type": "code",
      "metadata": {
        "id": "fxptJjZYwrM5"
      },
      "source": [
        "def sentence_generation(model, t, current_word, n): # 모델, 토크나이저, 현재 단어, 반복할 횟수\n",
        "    init_word = current_word # 처음 들어온 단어도 마지막에 같이 출력하기위해 저장\n",
        "    sentence = ''\n",
        "    for _ in range(n): # n번 반복\n",
        "        encoded = t.texts_to_sequences([current_word])[0] # 현재 단어에 대한 정수 인코딩\n",
        "        encoded = pad_sequences([encoded], maxlen=max_len-1, padding='pre') # 데이터에 대한 패딩\n",
        "        result = model.predict_classes(encoded, verbose=0)\n",
        "    # 입력한 X(현재 단어)에 대해서 y를 예측하고 y(예측한 단어)를 result에 저장.\n",
        "        for word, index in t.word_index.items(): \n",
        "            if index == result: # 만약 예측한 단어와 인덱스와 동일한 단어가 있다면\n",
        "                break # 해당 단어가 예측 단어이므로 break\n",
        "        current_word = current_word + ' '  + word # 현재 단어 + ' ' + 예측 단어를 현재 단어로 변경\n",
        "        sentence = sentence + ' ' + word # 예측 단어를 문장에 저장\n",
        "    # for문이므로 이 행동을 다시 반복\n",
        "    sentence = init_word + sentence\n",
        "    return sentence"
      ],
      "execution_count": null,
      "outputs": []
    },
    {
      "cell_type": "code",
      "metadata": {
        "colab": {
          "base_uri": "https://localhost:8080/"
        },
        "id": "NrM4urShyEwy",
        "outputId": "fb858491-17ec-41bf-f13a-bba526171f41"
      },
      "source": [
        "print(sentence_generation(model, t, 'facebook', 3))\n",
        "# 임의의 단어 'i'에 대해서 10개의 단어를 추가 생성"
      ],
      "execution_count": null,
      "outputs": [
        {
          "output_type": "stream",
          "text": [
            "facebook puts profile breach\n"
          ],
          "name": "stdout"
        },
        {
          "output_type": "stream",
          "text": [
            "/usr/local/lib/python3.7/dist-packages/tensorflow/python/keras/engine/sequential.py:455: UserWarning: `model.predict_classes()` is deprecated and will be removed after 2021-01-01. Please use instead:* `np.argmax(model.predict(x), axis=-1)`,   if your model does multi-class classification   (e.g. if it uses a `softmax` last-layer activation).* `(model.predict(x) > 0.5).astype(\"int32\")`,   if your model does binary classification   (e.g. if it uses a `sigmoid` last-layer activation).\n",
            "  warnings.warn('`model.predict_classes()` is deprecated and '\n"
          ],
          "name": "stderr"
        }
      ]
    },
    {
      "cell_type": "code",
      "metadata": {
        "id": "DcttrxifyHgu"
      },
      "source": [
        ""
      ],
      "execution_count": null,
      "outputs": []
    }
  ]
}