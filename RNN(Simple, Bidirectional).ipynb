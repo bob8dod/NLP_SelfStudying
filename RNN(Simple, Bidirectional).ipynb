{
  "nbformat": 4,
  "nbformat_minor": 0,
  "metadata": {
    "colab": {
      "name": "RNN(Simple, Bidirectional).ipynb",
      "provenance": [],
      "authorship_tag": "ABX9TyNmU8L4lAWrkpXf+X8eT+NX",
      "include_colab_link": true
    },
    "kernelspec": {
      "name": "python3",
      "display_name": "Python 3"
    },
    "language_info": {
      "name": "python"
    }
  },
  "cells": [
    {
      "cell_type": "markdown",
      "metadata": {
        "id": "view-in-github",
        "colab_type": "text"
      },
      "source": [
        "<a href=\"https://colab.research.google.com/github/bob8dod/NLP_SelfStudying/blob/main/RNN(Simple%2C%20Bidirectional).ipynb\" target=\"_parent\"><img src=\"https://colab.research.google.com/assets/colab-badge.svg\" alt=\"Open In Colab\"/></a>"
      ]
    },
    {
      "cell_type": "markdown",
      "metadata": {
        "id": "1xqjjtEAuw2c"
      },
      "source": [
        "## 순환 신경망 (RNN, Recurrent Neural Network)"
      ]
    },
    {
      "cell_type": "markdown",
      "metadata": {
        "id": "HKcUv_ijxcTs"
      },
      "source": [
        "### Keras Sequential API 로 구현"
      ]
    },
    {
      "cell_type": "code",
      "metadata": {
        "id": "EfoI-l1Juj7h"
      },
      "source": [
        "from keras.models import Sequential\n",
        "from keras.layers import SimpleRNN"
      ],
      "execution_count": null,
      "outputs": []
    },
    {
      "cell_type": "code",
      "metadata": {
        "colab": {
          "base_uri": "https://localhost:8080/"
        },
        "id": "3CtSYz2xvR07",
        "outputId": "df4fd962-f6d6-44ce-b89e-3d26eb363dab"
      },
      "source": [
        "hidden_size = 3\n",
        "timesteps = 2\n",
        "input_dim = 10\n",
        "model = Sequential()\n",
        "model.add(SimpleRNN(hidden_size, input_shape=(timesteps,input_dim)))\n",
        "# model.add(SimpleRNN(3, input_length=2, input_dim=10))\n",
        "model.summary()"
      ],
      "execution_count": null,
      "outputs": [
        {
          "output_type": "stream",
          "text": [
            "Model: \"sequential\"\n",
            "_________________________________________________________________\n",
            "Layer (type)                 Output Shape              Param #   \n",
            "=================================================================\n",
            "simple_rnn (SimpleRNN)       (None, 3)                 42        \n",
            "=================================================================\n",
            "Total params: 42\n",
            "Trainable params: 42\n",
            "Non-trainable params: 0\n",
            "_________________________________________________________________\n"
          ],
          "name": "stdout"
        }
      ]
    },
    {
      "cell_type": "markdown",
      "metadata": {
        "id": "iMcVmKe3wGrW"
      },
      "source": [
        "출력값이 (batch_size, output_dim) 크기의 2D 텐서일 때, output_dim은 hidden_size의 값인 3.  \n",
        "그래서 batch_size를 현 단계에서는 알 수 없으므로 (None, 3)\n"
      ]
    },
    {
      "cell_type": "code",
      "metadata": {
        "colab": {
          "base_uri": "https://localhost:8080/"
        },
        "id": "A-tKqrDUv4Cx",
        "outputId": "80e1400b-8302-44d8-b79e-b21fd4f20b49"
      },
      "source": [
        "hidden_size = 3\n",
        "timesteps = 2\n",
        "input_dim = 10\n",
        "batch_size = 8 #batch_size설정\n",
        "model = Sequential()\n",
        "model.add(SimpleRNN(hidden_size, batch_input_shape=(batch_size,timesteps,input_dim)))\n",
        "model.summary()"
      ],
      "execution_count": null,
      "outputs": [
        {
          "output_type": "stream",
          "text": [
            "Model: \"sequential_1\"\n",
            "_________________________________________________________________\n",
            "Layer (type)                 Output Shape              Param #   \n",
            "=================================================================\n",
            "simple_rnn_1 (SimpleRNN)     (8, 3)                    42        \n",
            "=================================================================\n",
            "Total params: 42\n",
            "Trainable params: 42\n",
            "Non-trainable params: 0\n",
            "_________________________________________________________________\n"
          ],
          "name": "stdout"
        }
      ]
    },
    {
      "cell_type": "markdown",
      "metadata": {
        "id": "yuLc9M-mwzFT"
      },
      "source": [
        "batch_size를 8로 기재하자, 출력의 크기가 (8, 3)"
      ]
    },
    {
      "cell_type": "code",
      "metadata": {
        "colab": {
          "base_uri": "https://localhost:8080/"
        },
        "id": "ChbLmtiEwfbw",
        "outputId": "b221fe74-0132-4c95-e113-af6ea57f7792"
      },
      "source": [
        "hidden_size = 3\n",
        "timesteps = 2\n",
        "input_dim = 10\n",
        "batch_size = 8 #batch_size설정\n",
        "model = Sequential()\n",
        "model.add(SimpleRNN(hidden_size, batch_input_shape=(batch_size,timesteps,input_dim), return_sequences=True))\n",
        "model.summary()"
      ],
      "execution_count": null,
      "outputs": [
        {
          "output_type": "stream",
          "text": [
            "Model: \"sequential_2\"\n",
            "_________________________________________________________________\n",
            "Layer (type)                 Output Shape              Param #   \n",
            "=================================================================\n",
            "simple_rnn_2 (SimpleRNN)     (8, 2, 3)                 42        \n",
            "=================================================================\n",
            "Total params: 42\n",
            "Trainable params: 42\n",
            "Non-trainable params: 0\n",
            "_________________________________________________________________\n"
          ],
          "name": "stdout"
        }
      ]
    },
    {
      "cell_type": "markdown",
      "metadata": {
        "id": "Po6QiZiGxZCJ"
      },
      "source": [
        "출력의 크기가 (8, 2, 3)이 됨"
      ]
    },
    {
      "cell_type": "markdown",
      "metadata": {
        "id": "PD6juf62xfz7"
      },
      "source": [
        "### 파이썬으로 직접 구현"
      ]
    },
    {
      "cell_type": "markdown",
      "metadata": {
        "id": "38O-dxMmy4nf"
      },
      "source": [
        "\n",
        "의사 코드\n",
        "```\n",
        "hidden_state_t = 0 # 초기 은닉 상태를 0(벡터)로 초기화\n",
        "for input_t in input_length: # 각 시점마다 입력을 받는다.\n",
        "    output_t = tanh(input_t, hidden_state_t) # 각 시점에 대해서 입력과 은닉 상태를 가지고 연산\n",
        "    hidden_state_t = output_t # 계산 결과는 현재 시점의 은닉 상태가 된다.\n",
        "```\n",
        "\n"
      ]
    },
    {
      "cell_type": "code",
      "metadata": {
        "id": "fDCC-qfOxUJI"
      },
      "source": [
        "import numpy as np\n",
        "\n",
        "#초기 입력, 타임스탭, 히든스테이트 값 설정\n",
        "\n",
        "timesteps = 10 # 시점의 수. NLP에서는 보통 문장의 길이가 된다.\n",
        "input_dim = 4 # 입력의 차원. NLP에서는 보통 단어 벡터의 차원이 된다.\n",
        "hidden_size = 8 # 은닉 상태의 크기. 메모리 셀의 용량이다.\n",
        "\n",
        "inputs = np.random.random((timesteps, input_dim)) # 입력에 해당되는 2D 텐서\n",
        "\n",
        "hidden_state_t = np.zeros((hidden_size,)) # 초기 은닉 상태는 0(벡터)로 초기화\n",
        "# 은닉 상태의 크기 hidden_size로 은닉 상태를 만듬."
      ],
      "execution_count": null,
      "outputs": []
    },
    {
      "cell_type": "code",
      "metadata": {
        "colab": {
          "base_uri": "https://localhost:8080/"
        },
        "id": "5DQVPpqIzMfJ",
        "outputId": "edaa52f0-24f6-435d-b301-b05cda538799"
      },
      "source": [
        "print(hidden_state_t) # 초기 은닉 상태"
      ],
      "execution_count": null,
      "outputs": [
        {
          "output_type": "stream",
          "text": [
            "[0. 0. 0. 0. 0. 0. 0. 0.]\n"
          ],
          "name": "stdout"
        }
      ]
    },
    {
      "cell_type": "code",
      "metadata": {
        "id": "1fy7DoPUzO1S"
      },
      "source": [
        "#입력, 히든 가중치 설정\n",
        "Wx = np.random.random((hidden_size, input_dim))  # (8, 4)크기의 2D 텐서 생성. 입력에 대한 가중치.\n",
        "Wh = np.random.random((hidden_size, hidden_size)) # (8, 8)크기의 2D 텐서 생성. 은닉 상태에 대한 가중치.\n",
        "b = np.random.random((hidden_size,)) # (8,)크기의 1D 텐서 생성. 이 값은 편향(bias)."
      ],
      "execution_count": null,
      "outputs": []
    },
    {
      "cell_type": "code",
      "metadata": {
        "colab": {
          "base_uri": "https://localhost:8080/"
        },
        "id": "RPD3FgCIzpgG",
        "outputId": "6a822831-2527-43c9-f349-3588505adba7"
      },
      "source": [
        "#가중치와 편향의 크기 확인\n",
        "print(np.shape(Wx))\n",
        "print(np.shape(Wh))\n",
        "print(np.shape(b))"
      ],
      "execution_count": null,
      "outputs": [
        {
          "output_type": "stream",
          "text": [
            "(8, 4)\n",
            "(8, 8)\n",
            "(8,)\n"
          ],
          "name": "stdout"
        }
      ]
    },
    {
      "cell_type": "markdown",
      "metadata": {
        "id": "bDt6sANH0rJ_"
      },
      "source": [
        "![image.png](data:image/png;base64,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)"
      ]
    },
    {
      "cell_type": "code",
      "metadata": {
        "colab": {
          "base_uri": "https://localhost:8080/"
        },
        "id": "zb-QHevw0aTf",
        "outputId": "4b8add94-15c4-402c-d4f0-fe25e27136dd"
      },
      "source": [
        "total_hidden_states = []\n",
        "\n",
        "# 메모리 셀 동작\n",
        "for input_t in inputs: # 각 시점에 따라서 입력값이 입력됨.\n",
        "  output_t = np.tanh(np.dot(Wx,input_t) + np.dot(Wh,hidden_state_t) + b) # Wx * Xt + Wh * Ht-1 + b(bias)\n",
        "  total_hidden_states.append(list(output_t)) # 각 시점의 은닉 상태의 값을 계속해서 축적\n",
        "  print(np.shape(total_hidden_states)) # 각 시점 t별 메모리 셀의 출력의 크기는 (timestep, output_dim)\n",
        "  hidden_state_t = output_t\n",
        "\n",
        "total_hidden_states = np.stack(total_hidden_states, axis = 0) \n",
        "# 출력 시 값을 깔끔하게 해준다.\n",
        "\n",
        "print(total_hidden_states) # (timesteps, output_dim)의 크기. 이 경우 (10, 8)의 크기를 가지는 메모리 셀의 2D 텐서를 출력."
      ],
      "execution_count": null,
      "outputs": [
        {
          "output_type": "stream",
          "text": [
            "(1, 8)\n",
            "(2, 8)\n",
            "(3, 8)\n",
            "(4, 8)\n",
            "(5, 8)\n",
            "(6, 8)\n",
            "(7, 8)\n",
            "(8, 8)\n",
            "(9, 8)\n",
            "(10, 8)\n",
            "[[0.22364814 0.88316435 0.90339992 0.55720634 0.89722888 0.67427525\n",
            "  0.77323787 0.84802971]\n",
            " [0.9988804  0.99985694 0.99999351 0.9996528  0.99942303 0.99796056\n",
            "  0.99945957 0.99993893]\n",
            " [0.99991582 0.9999759  0.99999825 0.99995125 0.99997152 0.99865176\n",
            "  0.99992751 0.99996084]\n",
            " [0.99991873 0.99997448 0.99999864 0.99995492 0.99996269 0.99878048\n",
            "  0.99991201 0.99996878]\n",
            " [0.99989231 0.9999761  0.9999985  0.99989326 0.99994168 0.99848315\n",
            "  0.99985291 0.99997844]\n",
            " [0.99992533 0.99998841 0.99999956 0.99994364 0.99995507 0.99934405\n",
            "  0.99990132 0.99999005]\n",
            " [0.99996511 0.99999291 0.99999968 0.99998116 0.99998536 0.99959401\n",
            "  0.99996263 0.99998803]\n",
            " [0.99989577 0.99998112 0.99999913 0.9998975  0.99993095 0.99886913\n",
            "  0.99984102 0.99998646]\n",
            " [0.99986399 0.99993774 0.99999859 0.99987154 0.99973973 0.99797586\n",
            "  0.99949772 0.99998383]\n",
            " [0.99994056 0.99995029 0.99999858 0.99995061 0.99989752 0.9983925\n",
            "  0.99974939 0.99997851]]\n"
          ],
          "name": "stdout"
        }
      ]
    },
    {
      "cell_type": "markdown",
      "metadata": {
        "id": "piR82km91qSJ"
      },
      "source": [
        "## 깊은 순환 신경망(Deep Recurrent Neural Network)"
      ]
    },
    {
      "cell_type": "markdown",
      "metadata": {
        "id": "LHNODi7Q14IT"
      },
      "source": [
        "![image.png](data:image/png;base64,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)"
      ]
    },
    {
      "cell_type": "markdown",
      "metadata": {
        "id": "O31Xkh8G16iY"
      },
      "source": [
        "순환 신경망에서 은닉층이 1개 더 추가되어 은닉층이 2개인 깊은(deep) 순환 신경망의 모습"
      ]
    },
    {
      "cell_type": "code",
      "metadata": {
        "id": "QVN8JGmF1Tc0"
      },
      "source": [
        "model = Sequential()\n",
        "model.add(SimpleRNN(hidden_size, return_sequences = True))\n",
        "model.add(SimpleRNN(hidden_size, return_sequences = True))\n",
        "# return_sequences = True를 설정하여 모든 시점에 대해서 은닉 상태 값을 다음 은닉층으로 보내줌"
      ],
      "execution_count": null,
      "outputs": []
    },
    {
      "cell_type": "markdown",
      "metadata": {
        "id": "4DMryGSZ32cv"
      },
      "source": [
        "## 양방향 순환 신경망(Bidirectional Recurrent Neural Network)"
      ]
    },
    {
      "cell_type": "markdown",
      "metadata": {
        "id": "gMI4YNrK35VZ"
      },
      "source": [
        "![image.png](data:image/png;base64,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)"
      ]
    },
    {
      "cell_type": "code",
      "metadata": {
        "id": "0_iskP1y1-aR"
      },
      "source": [
        "from tensorflow.keras.models import Sequential\n",
        "from tensorflow.keras.layers import SimpleRNN, Bidirectional\n",
        "\n",
        "model = Sequential()\n",
        "model.add(Bidirectional(SimpleRNN(hidden_size, return_sequences = True), input_shape=(timesteps, input_dim)))"
      ],
      "execution_count": null,
      "outputs": []
    },
    {
      "cell_type": "markdown",
      "metadata": {
        "id": "jTJbZNUo4NKz"
      },
      "source": [
        "![image.png](data:image/png;base64,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)"
      ]
    },
    {
      "cell_type": "code",
      "metadata": {
        "id": "WcMyEL8H31k3"
      },
      "source": [
        "from tensorflow.keras.models import Sequential\n",
        "from tensorflow.keras.layers import SimpleRNN, Bidirectional\n",
        "model = Sequential()\n",
        "model.add(Bidirectional(SimpleRNN(hidden_size, return_sequences = True), input_shape=(timesteps, input_dim)))\n",
        "model.add(Bidirectional(SimpleRNN(hidden_size, return_sequences = True)))"
      ],
      "execution_count": null,
      "outputs": []
    },
    {
      "cell_type": "code",
      "metadata": {
        "colab": {
          "base_uri": "https://localhost:8080/"
        },
        "id": "DbNgFzoa4PfG",
        "outputId": "f85632fa-f6e1-4948-f762-3914a011e3f9"
      },
      "source": [
        "from tensorflow.keras.layers import Dense\n",
        "hidden_size = 128\n",
        "timesteps = 30\n",
        "input_dim = 100\n",
        "model = Sequential()\n",
        "model.add(SimpleRNN(hidden_size, input_shape=(timesteps,input_dim)))\n",
        "model.add(Dense(1, activation='sigmoid'))\n",
        "# model.add(SimpleRNN(3, input_length=2, input_dim=10))\n",
        "model.summary()"
      ],
      "execution_count": null,
      "outputs": [
        {
          "output_type": "stream",
          "text": [
            "Model: \"sequential_2\"\n",
            "_________________________________________________________________\n",
            "Layer (type)                 Output Shape              Param #   \n",
            "=================================================================\n",
            "simple_rnn_3 (SimpleRNN)     (None, 128)               29312     \n",
            "_________________________________________________________________\n",
            "dense (Dense)                (None, 1)                 129       \n",
            "=================================================================\n",
            "Total params: 29,441\n",
            "Trainable params: 29,441\n",
            "Non-trainable params: 0\n",
            "_________________________________________________________________\n"
          ],
          "name": "stdout"
        }
      ]
    }
  ]
}