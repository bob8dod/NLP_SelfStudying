{
  "nbformat": 4,
  "nbformat_minor": 0,
  "metadata": {
    "colab": {
      "name": "유사도, 토픽 모델링.ipynb",
      "provenance": [],
      "collapsed_sections": [
        "gY6E9pF_TT2T",
        "kOss1C3qTcYV",
        "u1Ldz5uYXKmQ",
        "cUrJ5BB1cBJr",
        "5YVakMhRffqk"
      ],
      "authorship_tag": "ABX9TyMkXDuYY8bJCcV4nvmFDcLG",
      "include_colab_link": true
    },
    "kernelspec": {
      "name": "python3",
      "display_name": "Python 3"
    },
    "language_info": {
      "name": "python"
    }
  },
  "cells": [
    {
      "cell_type": "markdown",
      "metadata": {
        "id": "view-in-github",
        "colab_type": "text"
      },
      "source": [
        "<a href=\"https://colab.research.google.com/github/bob8dod/NLP_SelfStudying/blob/main/Similarity.ipynb\" target=\"_parent\"><img src=\"https://colab.research.google.com/assets/colab-badge.svg\" alt=\"Open In Colab\"/></a>"
      ]
    },
    {
      "cell_type": "markdown",
      "metadata": {
        "id": "gY6E9pF_TT2T"
      },
      "source": [
        "# Similarity of Vector"
      ]
    },
    {
      "cell_type": "markdown",
      "metadata": {
        "id": "kOss1C3qTcYV"
      },
      "source": [
        "## Cosin Similarity\n"
      ]
    },
    {
      "cell_type": "markdown",
      "metadata": {
        "id": "-dIC3Iz5TswC"
      },
      "source": [
        "-1 ~ 1 : 1에 가까울 수록 유사도 UP  \n",
        "문서1 : 저는 사과 좋아요  \n",
        "문서2 : 저는 바나나 좋아요  \n",
        "문서3 : 저는 바나나 좋아요 저는 바나나 좋아요  \n",
        "[ 바나나 사과 저는 좋아요]\n"
      ]
    },
    {
      "cell_type": "code",
      "metadata": {
        "id": "2Ayi9ymTTR7c"
      },
      "source": [
        "import numpy as np\n",
        "from numpy import dot\n",
        "from numpy.linalg import norm\n",
        "\n",
        "# 코사인 유사도 return\n",
        "def cos_sim(A,B):\n",
        "    return dot(A,B) / (norm(A)*norm(B))"
      ],
      "execution_count": null,
      "outputs": []
    },
    {
      "cell_type": "code",
      "metadata": {
        "colab": {
          "base_uri": "https://localhost:8080/"
        },
        "id": "fmG_K0WCTfV9",
        "outputId": "3d12ae02-8e4f-461d-bcb3-54511bf47534"
      },
      "source": [
        "# 각각의 BoW\n",
        "doc1=np.array([0,1,1,1])\n",
        "doc2=np.array([1,0,1,1])\n",
        "doc3=np.array([2,0,2,2])\n",
        "\n",
        "print(cos_sim(doc1, doc2)) #문서1과 문서2의 코사인 유사도\n",
        "print(cos_sim(doc1, doc3)) #문서1과 문서3의 코사인 유사도\n",
        "print(cos_sim(doc2, doc3)) #문서2과 문서3의 코사인 유사도"
      ],
      "execution_count": null,
      "outputs": [
        {
          "output_type": "stream",
          "text": [
            "0.6666666666666667\n",
            "0.6666666666666667\n",
            "1.0000000000000002\n"
          ],
          "name": "stdout"
        }
      ]
    },
    {
      "cell_type": "markdown",
      "metadata": {
        "id": "u1Ldz5uYXKmQ"
      },
      "source": [
        "### Recomandation System using Cosin Similarity"
      ]
    },
    {
      "cell_type": "markdown",
      "metadata": {
        "id": "hL44tVnWX5zc"
      },
      "source": [
        "데이터 첨부 안함 그냥 코드만 보시길"
      ]
    },
    {
      "cell_type": "code",
      "metadata": {
        "id": "mokrhIPTUw3Y"
      },
      "source": [
        "import pandas as pd\n",
        "from sklearn.feature_extraction.text import TfidfVectorizer #TF-IDF\n",
        "from sklearn.metrics.pairwise import linear_kernel #코사인 유사도"
      ],
      "execution_count": null,
      "outputs": []
    },
    {
      "cell_type": "code",
      "metadata": {
        "id": "R-PfPSaAXJoP"
      },
      "source": [
        "data = pd.read_csv('현재 movies_metadata.csv의 파일 경로', low_memory=False)\n",
        "data = data.head(20000)"
      ],
      "execution_count": null,
      "outputs": []
    },
    {
      "cell_type": "code",
      "metadata": {
        "id": "vZJidpERX2hV"
      },
      "source": [
        "#TFIDF에서는 NULL값이 들어가면 오류, Null값 체크 후 조정\n",
        "print(data['overview'].isnull().sum())\n",
        "data['overview'] = data['overview'].fillna('')"
      ],
      "execution_count": null,
      "outputs": []
    },
    {
      "cell_type": "code",
      "metadata": {
        "id": "f7Qb06KOX8n4"
      },
      "source": [
        "#overview에 대한 tf-idf 수행\n",
        "tfidf = TfidfVectorizer(stop_words='english')\n",
        "tfidf_matrix = tfidf.fit_transform(data['overview'])\n",
        "print(tfidf_matrix.shape)"
      ],
      "execution_count": null,
      "outputs": []
    },
    {
      "cell_type": "code",
      "metadata": {
        "id": "_F7PgQHgYb1E"
      },
      "source": [
        "#코사인 유사도 사용\n",
        "cosine_sim = linear_kernel(tfidf_matrix, tfidf_matrix)"
      ],
      "execution_count": null,
      "outputs": []
    },
    {
      "cell_type": "code",
      "metadata": {
        "id": "AQ59tFkaYm7z"
      },
      "source": [
        "#영화의 타이틀과 인덱스를 가진 테이블 생성\n",
        "# 이 테이블의 용도는 영화의 타이틀을 입력하면 인덱스를 리턴하기 위함\n",
        "indices = pd.Series(data.index, index=data['title']).drop_duplicates()\n",
        "print(indices.head())"
      ],
      "execution_count": null,
      "outputs": []
    },
    {
      "cell_type": "code",
      "metadata": {
        "id": "dP_sulR8Yz3-"
      },
      "source": [
        "#선택한 영화에 대해서 코사인 유사도를 이용하여, 가장 overview가 유사한 10개의 영화를 찾아내는 함수\n",
        "def get_recommendations(title, cosine_sim=cosine_sim):\n",
        "    # 선택한 영화의 타이틀로부터 해당되는 인덱스를 받아옵니다. 이제 선택한 영화를 가지고 연산할 수 있습니다.\n",
        "    idx = indices[title]\n",
        "\n",
        "    # 모든 영화에 대해서 해당 영화와의 유사도를 구합니다.\n",
        "    sim_scores = list(enumerate(cosine_sim[idx]))\n",
        "\n",
        "    # 유사도에 따라 영화들을 정렬합니다.\n",
        "    sim_scores = sorted(sim_scores, key=lambda x: x[1], reverse=True)\n",
        "\n",
        "    # 가장 유사한 10개의 영화를 받아옵니다.\n",
        "    sim_scored = sim_scores[1:11]\n",
        "\n",
        "    # 가장 유사한 10개의 영화의 인덱스를 받아옵니다.\n",
        "    movie_indices = [i[0] for i in sim_scored]\n",
        "\n",
        "    # 가장 유사한 10개의 영화의 제목을 리턴합니다.\n",
        "    return data['title'].iloc[movie_indices]"
      ],
      "execution_count": null,
      "outputs": []
    },
    {
      "cell_type": "code",
      "metadata": {
        "id": "HPnU8TqfZcND"
      },
      "source": [
        "get_recommendations('The Dark Knight Rises')\n",
        "# 영화 다크 나이트 라이즈와 overview가 유사한 영화들\n",
        "# 가장 유사한 영화가 출력되는데, 영화 다크 나이트가 첫번째고, 그 외에도 전부 배트맨 영화를 찾아낸 것을 확인"
      ],
      "execution_count": null,
      "outputs": []
    },
    {
      "cell_type": "markdown",
      "metadata": {
        "id": "cUrJ5BB1cBJr"
      },
      "source": [
        "## Jaccard similarity"
      ]
    },
    {
      "cell_type": "markdown",
      "metadata": {
        "id": "0OgDRjM1cHib"
      },
      "source": [
        "합집합에서 교집합의 비율을 구한다면 두 집합 A와 B의 유사도를 구할 수 있다는 것"
      ]
    },
    {
      "cell_type": "code",
      "metadata": {
        "colab": {
          "base_uri": "https://localhost:8080/"
        },
        "id": "lsANee8mcEyL",
        "outputId": "f28c7820-143f-4f3c-93eb-edb3561d8326"
      },
      "source": [
        "# 두 문서 모두에서 등장한 단어는 apple과 banana 2개\n",
        "doc1 = \"apple banana everyone like likey watch card holder\"\n",
        "doc2 = \"apple banana coupon passport love you\"\n",
        "# 토큰화를 수행\n",
        "tokenized_doc1 = doc1.split()\n",
        "tokenized_doc2 = doc2.split()\n",
        "# 토큰화 결과\n",
        "print(tokenized_doc1)\n",
        "print(tokenized_doc2)"
      ],
      "execution_count": null,
      "outputs": [
        {
          "output_type": "stream",
          "text": [
            "['apple', 'banana', 'everyone', 'like', 'likey', 'watch', 'card', 'holder']\n",
            "['apple', 'banana', 'coupon', 'passport', 'love', 'you']\n"
          ],
          "name": "stdout"
        }
      ]
    },
    {
      "cell_type": "code",
      "metadata": {
        "colab": {
          "base_uri": "https://localhost:8080/"
        },
        "id": "eYNqx2ZccZwp",
        "outputId": "1f2cc8ef-3a51-4731-bfe4-1ce72444f9b7"
      },
      "source": [
        "# 문서1과 문서2의 합집합\n",
        "union = set(tokenized_doc1).union(set(tokenized_doc2))\n",
        "print(union)\n",
        "# 문서1과 문서2의 교집합\n",
        "intersection = set(tokenized_doc1).intersection(set(tokenized_doc2))\n",
        "print(intersection)\n",
        "# 자카드 유사도가 계산 (교집합의 원소 개수 / 합집합의 원소 개수)\n",
        "print('자카드 유사도: ',len(intersection)/len(union))"
      ],
      "execution_count": null,
      "outputs": [
        {
          "output_type": "stream",
          "text": [
            "{'like', 'banana', 'watch', 'likey', 'card', 'passport', 'you', 'holder', 'coupon', 'love', 'apple', 'everyone'}\n",
            "{'banana', 'apple'}\n",
            "자카드 유사도:  0.16666666666666666\n"
          ],
          "name": "stdout"
        }
      ]
    },
    {
      "cell_type": "markdown",
      "metadata": {
        "id": "5YVakMhRffqk"
      },
      "source": [
        "## Levenshtein Distance"
      ]
    },
    {
      "cell_type": "markdown",
      "metadata": {
        "id": "X69x3ZD6fl7n"
      },
      "source": [
        "두개의 문장을 2차원 배열로 나타내어서 각 문장의 각 글자들을 비교하여  \n",
        "몇개의 글자가 다른지 구분하는 방법"
      ]
    },
    {
      "cell_type": "markdown",
      "metadata": {
        "id": "K44Ww_GJfvPR"
      },
      "source": [
        "### Recomandation System using Levenshtein Distance"
      ]
    },
    {
      "cell_type": "code",
      "metadata": {
        "id": "1lDNYElqcsdS"
      },
      "source": [
        "#공개된 자료 없음"
      ],
      "execution_count": null,
      "outputs": []
    }
  ]
}